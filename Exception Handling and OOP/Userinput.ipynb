{
  "nbformat": 4,
  "nbformat_minor": 0,
  "metadata": {
    "colab": {
      "provenance": []
    },
    "kernelspec": {
      "name": "python3",
      "display_name": "Python 3"
    },
    "language_info": {
      "name": "python"
    }
  },
  "cells": [
    {
      "cell_type": "code",
      "execution_count": 1,
      "metadata": {
        "colab": {
          "base_uri": "https://localhost:8080/"
        },
        "id": "7lGIwN-xxesV",
        "outputId": "734cf9f0-10a9-460b-a662-1f2f0364b2ab"
      },
      "outputs": [
        {
          "name": "stdout",
          "output_type": "stream",
          "text": [
            "22\n"
          ]
        }
      ],
      "source": [
        "# User input in python\n",
        "# Using input Function\n",
        "a=input()"
      ]
    },
    {
      "cell_type": "code",
      "source": [
        "# Using message in input Function\n",
        "a=input(\"ENTER NUMBER:\")\n",
        "print(\"NUMBER is:\",a)"
      ],
      "metadata": {
        "colab": {
          "base_uri": "https://localhost:8080/"
        },
        "id": "ND2vO5Wjxhef",
        "outputId": "daed2233-48e6-47ee-fa4d-970666f73957"
      },
      "execution_count": 3,
      "outputs": [
        {
          "output_type": "stream",
          "name": "stdout",
          "text": [
            "ENTER NUMBER:15\n",
            "NUMBER is: 15\n"
          ]
        }
      ]
    },
    {
      "cell_type": "code",
      "source": [
        "# Taking input\n",
        "a=input(\"ENTER NUMBER:\")\n",
        "# Printing output to console\n",
        "print(\"NUMBER is:\",a)\n",
        "# Checking type of input\n",
        "print(\"NUMBER TYPE IS:\",type(a))"
      ],
      "metadata": {
        "colab": {
          "base_uri": "https://localhost:8080/"
        },
        "id": "JXBWi9nox1oY",
        "outputId": "b446c93a-e283-4942-8090-ccb35ab4e965"
      },
      "execution_count": 12,
      "outputs": [
        {
          "output_type": "stream",
          "name": "stdout",
          "text": [
            "ENTER NUMBER:63\n",
            "NUMBER is: 63\n",
            "NUMBER TYPE IS: <class 'str'>\n"
          ]
        }
      ]
    },
    {
      "cell_type": "code",
      "source": [
        "# Taking input\n",
        "Name=input(\"Enter student name: \")\n",
        "Age=input(\"Enter student age: \")\n",
        "# Checking type of input\n",
        "print(\"Name is:\",Name)\n",
        "print(\"Age is:\",Age)\n",
        "print(\"NAME TYPE IS:\",type(Name))\n",
        "print(\"AGE TYPE IS:\",type(Age))"
      ],
      "metadata": {
        "colab": {
          "base_uri": "https://localhost:8080/"
        },
        "id": "o1rsm5oWyei3",
        "outputId": "3f07658e-d4c8-4550-919f-a3a2eea9491d"
      },
      "execution_count": 11,
      "outputs": [
        {
          "output_type": "stream",
          "name": "stdout",
          "text": [
            "Enter student name: Jane\n",
            "Enter student age: 13\n",
            "Name is: Jane\n",
            "Age is: 13\n",
            "NAME TYPE IS: <class 'str'>\n",
            "AGE TYPE IS: <class 'str'>\n"
          ]
        }
      ]
    },
    {
      "cell_type": "code",
      "source": [
        "# Exception Handling and input\n",
        "try:\n",
        "  num1=int(input(\"Enter first number: \"))\n",
        "  num2=int(input(\"Enter second number: \"))\n",
        "  print(\"Addition  is:\",num1+num2)\n",
        "  print(\"Number 1 is:\",type(num1))\n",
        "  print(\"Number 2 is:\",type(num2))\n",
        "except ValueError:\n",
        "  print(\"This is not a number!\")"
      ],
      "metadata": {
        "colab": {
          "base_uri": "https://localhost:8080/"
        },
        "id": "X4QPRSWO1F1O",
        "outputId": "1a24b0fb-9350-405e-efe9-2300a086536d"
      },
      "execution_count": 10,
      "outputs": [
        {
          "output_type": "stream",
          "name": "stdout",
          "text": [
            "Enter first number: 55\n",
            "Enter second number: j\n",
            "This is not a number!\n"
          ]
        }
      ]
    },
    {
      "cell_type": "code",
      "source": [
        "# Taking multiple inputs in one line\n",
        "Name,Age,Marks,Course=input(\"Name,Age,Marks,Course: \").split()\n",
        "# Printing\n",
        "print(\"Name is:\",Name,\"\\n\",\"Age is:\",Age,\"\\n\",\"Marks is:\",Marks,\"\\n\",\"Course is:\",Course)"
      ],
      "metadata": {
        "colab": {
          "base_uri": "https://localhost:8080/"
        },
        "id": "3rglo8l_2J4W",
        "outputId": "9ebef5de-19ba-4cbc-fdc5-46151cffec71"
      },
      "execution_count": 7,
      "outputs": [
        {
          "output_type": "stream",
          "name": "stdout",
          "text": [
            "Name,Age,Marks,Course: John 56 89 DS\n",
            "Name is: John \n",
            " Age is: 56 \n",
            " Marks is: 89 \n",
            " Course is: DS\n"
          ]
        }
      ]
    },
    {
      "cell_type": "code",
      "execution_count": 8,
      "metadata": {
        "id": "o2E72UIpc_qP",
        "outputId": "97f67895-0b30-499a-b3d6-0865bbc4b571",
        "colab": {
          "base_uri": "https://localhost:8080/"
        }
      },
      "outputs": [
        {
          "output_type": "stream",
          "name": "stdout",
          "text": [
            "Enter three number: 12 36 98\n",
            "First number is: 12\n",
            "Second number is: 36\n",
            "Third number is: 98\n"
          ]
        }
      ],
      "source": [
        "# Taking multiple inputs in one line\n",
        "a,b,c=input(\"Enter three number: \").split();\n",
        "# Type casting to int\n",
        "int(a)\n",
        "int(b)\n",
        "int(c)\n",
        "print(\"First number is:\",a)\n",
        "print(\"Second number is:\",b)\n",
        "print(\"Third number is:\",c)"
      ]
    }
  ]
}