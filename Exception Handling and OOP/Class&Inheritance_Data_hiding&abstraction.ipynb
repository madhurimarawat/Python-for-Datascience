{
  "nbformat": 4,
  "nbformat_minor": 0,
  "metadata": {
    "colab": {
      "provenance": []
    },
    "kernelspec": {
      "name": "python3",
      "display_name": "Python 3"
    },
    "language_info": {
      "name": "python"
    }
  },
  "cells": [
    {
      "cell_type": "code",
      "source": [
        "# Creating a class\n",
        "class A:\n",
        "  x=5;\n",
        "  print(\"Class variable is:\",x)\n",
        "# Creating an object\n",
        "obj=A()\n",
        "# Calling class variable from object\n",
        "print(\"Object is:\",obj.x)"
      ],
      "metadata": {
        "id": "HUvBlM7Xia_l",
        "colab": {
          "base_uri": "https://localhost:8080/"
        },
        "outputId": "bc34923b-38b7-4ed9-deb2-46f5357448c0"
      },
      "execution_count": null,
      "outputs": [
        {
          "output_type": "stream",
          "name": "stdout",
          "text": [
            "Class variable is: 5\n",
            "Object is: 5\n"
          ]
        }
      ]
    },
    {
      "cell_type": "code",
      "source": [
        "# Creating a class\n",
        "class A:\n",
        "  x='Python';\n",
        "  y='DS'\n",
        "# Creating an object\n",
        "obj=A()\n",
        "# Calling class variable from object\n",
        "print(\"x is:\",obj.x)\n",
        "print(\"y is:\",obj.y)"
      ],
      "metadata": {
        "colab": {
          "base_uri": "https://localhost:8080/"
        },
        "id": "Y6EFAj-ijtO6",
        "outputId": "c03f383d-e18e-4cdc-8896-22fd15ee7264"
      },
      "execution_count": null,
      "outputs": [
        {
          "output_type": "stream",
          "name": "stdout",
          "text": [
            "x is: Python\n",
            "y is: DS\n"
          ]
        }
      ]
    },
    {
      "cell_type": "code",
      "source": [
        "# Creating a class\n",
        "class A:\n",
        "  x='Python';\n",
        "  y='DS'\n",
        "  # Class methods or functions\n",
        "  def func(ve):\n",
        "    print(\"Welcome to:\",ve.x)\n",
        "    print(\"Happy Learning:\",ve.y)\n",
        "# Creating an object\n",
        "obj=A()\n",
        "# Calling class variable from object\n",
        "print(\"x is:\",obj.x)\n",
        "print(\"y is:\",obj.y)\n",
        "# Calling function from object\n",
        "obj.func()"
      ],
      "metadata": {
        "colab": {
          "base_uri": "https://localhost:8080/"
        },
        "id": "1PHUb7xej681",
        "outputId": "594c5ae0-66bd-46a5-eef0-95a54ad0b678"
      },
      "execution_count": null,
      "outputs": [
        {
          "output_type": "stream",
          "name": "stdout",
          "text": [
            "x is: Python\n",
            "y is: DS\n",
            "Welcome to: Python\n",
            "Happy Learning: DS\n"
          ]
        }
      ]
    },
    {
      "cell_type": "code",
      "source": [
        "# Creating a class\n",
        "class A:\n",
        "  x='Python';\n",
        "  y='DS'\n",
        "  # Class methods or functions\n",
        "  def display(self):\n",
        "    print(\"Welcome to: %s\\nHappy Learning: %s\"%(self.x,self.y))\n",
        "# Creating an object\n",
        "obj=A()\n",
        "# Calling function from object\n",
        "obj.display()"
      ],
      "metadata": {
        "colab": {
          "base_uri": "https://localhost:8080/"
        },
        "id": "amqyn9e8kYOw",
        "outputId": "1b62c319-571c-4e10-aa6c-7624a76d519e"
      },
      "execution_count": null,
      "outputs": [
        {
          "output_type": "stream",
          "name": "stdout",
          "text": [
            "Welcome to: Python\n",
            "Happy Learning: DS\n"
          ]
        }
      ]
    },
    {
      "cell_type": "code",
      "source": [
        "# Creating a class\n",
        "class got:\n",
        "  # Creating class constructor\n",
        "  def __init__(self,san,ag):\n",
        "    self.san=san\n",
        "    self.ag=ag\n",
        "# Creating object to call constructor\n",
        "g=got(\"Sansa\",15)\n",
        "# Printing using object\n",
        "# Since we do not use print statement it only prints the latest object\n",
        "g.san\n",
        "g.ag"
      ],
      "metadata": {
        "colab": {
          "base_uri": "https://localhost:8080/"
        },
        "id": "S6fwx5zMl9a7",
        "outputId": "017312ea-ae3c-4ca1-c2f2-eae4fa823e22"
      },
      "execution_count": null,
      "outputs": [
        {
          "output_type": "execute_result",
          "data": {
            "text/plain": [
              "15"
            ]
          },
          "metadata": {},
          "execution_count": 13
        }
      ]
    },
    {
      "cell_type": "code",
      "source": [
        "# Creating a class\n",
        "class Person:\n",
        " #Constructor or init method\n",
        "  def __init__(self, name, age):\n",
        "   self.name = name\n",
        "   self.age = age\n",
        "# Creating an object\n",
        "p1 = Person(\"John\", 36)\n",
        "# Since we do not use print statement it only prints the latest object\n",
        "p1.name\n",
        "p1.age"
      ],
      "metadata": {
        "colab": {
          "base_uri": "https://localhost:8080/"
        },
        "id": "c0yq3jMpmkkc",
        "outputId": "71ee1f30-fa3d-441b-efa3-dd54e8e4e953"
      },
      "execution_count": null,
      "outputs": [
        {
          "output_type": "execute_result",
          "data": {
            "text/plain": [
              "36"
            ]
          },
          "metadata": {},
          "execution_count": 14
        }
      ]
    },
    {
      "cell_type": "code",
      "source": [
        "# Creating a class\n",
        "class Person:\n",
        " #Constructor or init method\n",
        "  def __init__(self, name, age):\n",
        "   self.name = name\n",
        "   self.age = age\n",
        "  def myfunc(self):\n",
        "     print(\"Hello my name is:\",self.name)\n",
        "# Creating an object\n",
        "p1 = Person(\"John\", 36)\n",
        "# Calling function from object\n",
        "p1.myfunc()"
      ],
      "metadata": {
        "colab": {
          "base_uri": "https://localhost:8080/"
        },
        "id": "PIbw_Uvinpr2",
        "outputId": "4577bd85-5733-4dec-9b4c-be3adfcf5296"
      },
      "execution_count": null,
      "outputs": [
        {
          "output_type": "stream",
          "name": "stdout",
          "text": [
            "Hello my name is: John\n"
          ]
        }
      ]
    },
    {
      "cell_type": "code",
      "source": [
        "# Creating a class\n",
        "class S:\n",
        "  def __init__(self):\n",
        "    self.a=\"hardwork\"\n",
        "  def print(self):\n",
        "    print(\"Do \",self.a,\"!!!\")\n",
        "# Creating an object\n",
        "obj=S()\n",
        "# Calling function from object\n",
        "obj.print()"
      ],
      "metadata": {
        "colab": {
          "base_uri": "https://localhost:8080/"
        },
        "id": "4LnINAprog9k",
        "outputId": "dd2167d8-36ec-412e-d438-69b9442fdccd"
      },
      "execution_count": null,
      "outputs": [
        {
          "output_type": "stream",
          "name": "stdout",
          "text": [
            "Do  hardwork !!!\n"
          ]
        }
      ]
    },
    {
      "cell_type": "code",
      "source": [
        "# Creating a class\n",
        "class A:\n",
        " x = \"Python for DS\"\n",
        " y = \"Python for AI\"\n",
        " def __init__(self,n,a):\n",
        "  self.name =n\n",
        "  self.age=a\n",
        " def print(self):\n",
        "  print(\"Name is:\",self.name)\n",
        "  print(\"Age is:\",self.age)\n",
        "# Creating an object\n",
        "obj = A(\"john\",23)\n",
        "# Calling function from object\n",
        "obj.print()"
      ],
      "metadata": {
        "colab": {
          "base_uri": "https://localhost:8080/"
        },
        "id": "KIs0weburfGt",
        "outputId": "6e8548ab-769b-453a-9b1d-de64cbe58302"
      },
      "execution_count": null,
      "outputs": [
        {
          "output_type": "stream",
          "name": "stdout",
          "text": [
            "Name is: john\n",
            "Age is: 23\n"
          ]
        }
      ]
    },
    {
      "cell_type": "code",
      "source": [
        "# Creating a class\n",
        "class my:\n",
        "  num=20\n",
        "  def add(self,a):\n",
        "    self.a=a\n",
        "    sum=self.num + self.a\n",
        "    print(sum)\n",
        "# Creating an object\n",
        "ob=my()\n",
        "# Calling function from object\n",
        "ob.add(9)\n",
        "# Accessing class variable\n",
        "ob.num"
      ],
      "metadata": {
        "colab": {
          "base_uri": "https://localhost:8080/"
        },
        "id": "FMqmF60osOO3",
        "outputId": "206f8b78-f8fb-451c-b600-75503dae5d75"
      },
      "execution_count": null,
      "outputs": [
        {
          "output_type": "stream",
          "name": "stdout",
          "text": [
            "29\n"
          ]
        },
        {
          "output_type": "execute_result",
          "data": {
            "text/plain": [
              "20"
            ]
          },
          "metadata": {},
          "execution_count": 26
        }
      ]
    },
    {
      "cell_type": "code",
      "source": [
        "# Data hiding in python\n",
        "class MyClass:\n",
        "# private data member\n",
        " __num = 10\n",
        " def add(self,b):\n",
        "  self.a=b\n",
        "  sum = self.__num + self.a\n",
        "  print(sum)\n",
        "ob = MyClass()\n",
        "ob.add(20)\n",
        "# ob.num error\n",
        "# Accessing private data member\n",
        "ob._MyClass__num"
      ],
      "metadata": {
        "colab": {
          "base_uri": "https://localhost:8080/"
        },
        "id": "2ZAwtI1Kva5s",
        "outputId": "7cd9eb3a-5616-4997-acc9-aff803d5da84"
      },
      "execution_count": null,
      "outputs": [
        {
          "output_type": "stream",
          "name": "stdout",
          "text": [
            "30\n"
          ]
        },
        {
          "output_type": "execute_result",
          "data": {
            "text/plain": [
              "10"
            ]
          },
          "metadata": {},
          "execution_count": 4
        }
      ]
    },
    {
      "cell_type": "code",
      "source": [
        "# Data abstraction\n",
        "from abc import ABC as a\n",
        "class polygon(a):\n",
        "  # abstract method\n",
        "  def sides(self):\n",
        "    pass\n",
        "  # normal method\n",
        "  def n(self):\n",
        "    print(\"\\nGeneral method\")\n",
        "class triangle(polygon):\n",
        "  def sides(self):\n",
        "    print(\"Triangle has 3 sides\")\n",
        "class rectangle(polygon):\n",
        "  def sides(self):\n",
        "    print(\"Rectangle has 4 sides\")\n",
        "class pentagon(polygon):\n",
        "  def sides(self):\n",
        "    print(\"Pentagon has 5 sides\")\n",
        "# Creating object\n",
        "obj=polygon()\n",
        "print(\"Accessing abstract function from polygon class:\") # No output as nothing is defined and it is simply passed\n",
        "obj.sides()\n",
        "print(\"Accessing normal function from polygon class:\")\n",
        "obj.n()\n",
        "t=triangle()\n",
        "print(\"Accessing abstract function from triangle class:\")\n",
        "t.sides()\n",
        "r=rectangle()\n",
        "print(\"Accessing abstract function from rectangle class:\")\n",
        "r.sides()\n",
        "print(\"Accessing normal function from rectangle class:\")\n",
        "r.n()\n",
        "p=pentagon()\n",
        "print(\"Accessing abstract function from pentagon class:\")\n",
        "p.sides()"
      ],
      "metadata": {
        "colab": {
          "base_uri": "https://localhost:8080/"
        },
        "id": "pCCCoFgPuK7d",
        "outputId": "f19bd59e-9d6c-43aa-fd74-796dc8a4180d"
      },
      "execution_count": null,
      "outputs": [
        {
          "output_type": "stream",
          "name": "stdout",
          "text": [
            "Accessing abstract function from polygon class:\n",
            "Accessing normal function from polygon class:\n",
            "\n",
            "General method\n",
            "Accessing abstract function from triangle class:\n",
            "Triangle has 3 sides\n",
            "Accessing abstract function from rectangle class:\n",
            "Rectangle has 4 sides\n",
            "Accessing normal function from rectangle class:\n",
            "\n",
            "General method\n",
            "Accessing abstract function from pentagon class:\n",
            "Pentagon has 5 sides\n"
          ]
        }
      ]
    },
    {
      "cell_type": "code",
      "source": [
        "# Creating a class\n",
        "class calc():\n",
        "  def __init__(self):\n",
        "    self.a=10\n",
        "    self.b=10\n",
        "    sum=self.a+self.b\n",
        "    print(\"Sum is:\",sum)\n",
        "  def add(self):\n",
        "    self.sum=self.a+self.b\n",
        "    print(\"Sum is:\",self.sum)\n",
        "# Creating an object\n",
        "obj=calc()\n",
        "# Calling using object without parameters\n",
        "obj.add()"
      ],
      "metadata": {
        "id": "ly-WS1DpwMAZ",
        "colab": {
          "base_uri": "https://localhost:8080/"
        },
        "outputId": "963da692-b73d-47f1-c3a8-600eab2ead38"
      },
      "execution_count": null,
      "outputs": [
        {
          "output_type": "stream",
          "name": "stdout",
          "text": [
            "Sum is: 20\n",
            "Sum is: 20\n"
          ]
        }
      ]
    },
    {
      "cell_type": "code",
      "source": [
        "# Creating a class\n",
        "class calc():\n",
        "  def __init__(self):\n",
        "    self.a=10\n",
        "    self.b=90\n",
        "  def add(self,c,d):\n",
        "    self.sum=c+d\n",
        "    print(\"Sum is:\",self.sum)\n",
        "# Creating an object\n",
        "obj=calc()\n",
        "# Calling using object with parameters\n",
        "obj.add(20,1100)\n"
      ],
      "metadata": {
        "colab": {
          "base_uri": "https://localhost:8080/"
        },
        "id": "OjV_JKfuqP_n",
        "outputId": "3332bbd7-147b-4f67-b550-79cf9a2129bf"
      },
      "execution_count": null,
      "outputs": [
        {
          "output_type": "stream",
          "name": "stdout",
          "text": [
            "Sum is: 1120\n"
          ]
        }
      ]
    },
    {
      "cell_type": "code",
      "source": [
        "# Single inheritance- One parent classes one child class\n",
        "# calc parent class --> Inherited by der child class\n",
        "# Creating Parent class\n",
        "class calc():\n",
        "  def __init__(self):\n",
        "    self.a=10\n",
        "    self.b=10\n",
        "    self.sum=self.a+self.b\n",
        "    print(\"BASE CLASS CONSTRUCTOR\")\n",
        "    print(\"Sum is:\",self.sum)\n",
        "  def add(self,c,d):\n",
        "    self.sum=c+d\n",
        "    print(\"Sum is:\",self.sum)\n",
        "# Creating Child class\n",
        "class der(calc):\n",
        "  a=20\n",
        "  n=90\n",
        "  def __init__(self):\n",
        "    print(\"DERIVED CLASS CONSTRUCTOR\")\n",
        "  # Accessing Parent class function using child class object\n",
        "  calc.add(obj2,a,n)\n",
        "# Creating Parent class object\n",
        "obj=calc()\n",
        "# Accessing Parent class function\n",
        "obj.add(12,34)\n",
        "# Creating child class object\n",
        "obj2=der()\n",
        "# Accessing Parent class function using child class object\n",
        "obj2.add(10,22)\n",
        "# Accessing Parent class function and child class variable\n",
        "obj2.add(obj2.a,obj2.n)"
      ],
      "metadata": {
        "colab": {
          "base_uri": "https://localhost:8080/"
        },
        "id": "L7cKJIUnrPDg",
        "outputId": "c708f2e4-dbaa-42e8-fcd0-3c4d73561712"
      },
      "execution_count": 14,
      "outputs": [
        {
          "output_type": "stream",
          "name": "stdout",
          "text": [
            "Sum is: 110\n",
            "BASE CLASS CONSTRUCTOR\n",
            "Sum is: 20\n",
            "Sum is: 46\n",
            "DERIVED CLASS CONSTRUCTOR\n",
            "Sum is: 32\n",
            "Sum is: 110\n"
          ]
        }
      ]
    },
    {
      "cell_type": "code",
      "source": [
        "# Multiple inheritance- Many parent classes one child class\n",
        "# calc,calc2 parent classes --> Inherited by der child class\n",
        "# Creating Parent class 1\n",
        "class calc():\n",
        "  def __init__(self):\n",
        "    self.a=10\n",
        "    self.b=10\n",
        "    sum=self.a+self.b\n",
        "    print(\"BASE CLASS 1 CONSTRUCTOR\")\n",
        "    print(\"Sum is:\",sum)\n",
        "  def add(self,c,d):\n",
        "    self.sum=c+d\n",
        "    print(\"Sum is:\",self.sum)\n",
        "# Creating Parent class 2\n",
        "class calc2():\n",
        "  def __init__(self):\n",
        "    print(\"BASE CLASS 2 CONSTRUCTOR\")\n",
        "  def sub(self,c,d):\n",
        "    self.sum=c-d\n",
        "    print(\"Difference function in Base class 2\")\n",
        "    print(\"Difference is:\",self.sum)\n",
        "# Creating Child class\n",
        "class der(calc,calc2):\n",
        "  a=200\n",
        "  n=90\n",
        "  def __init__(self):\n",
        "    print(\"DERIVED CLASS CONSTRUCTOR\")\n",
        "  calc.add(obj2,a,n)\n",
        "  calc2.sub(obj2,a,n)\n",
        "# Creating Parent class 1 object\n",
        "obj=calc()\n",
        "# Accessing Parent class function\n",
        "obj.add(12,90)\n",
        "# Creating child class object\n",
        "obj2=der()\n",
        "# Accessing Parent class 1 function using child class object\n",
        "obj2.add(78,90)\n",
        "# Accessing Parent class 2 function using child class object\n",
        "obj2.sub(78,90)"
      ],
      "metadata": {
        "colab": {
          "base_uri": "https://localhost:8080/"
        },
        "id": "jxEt9Oe2vLFW",
        "outputId": "a22a525d-4e20-4d94-cc49-90286ed527be"
      },
      "execution_count": 16,
      "outputs": [
        {
          "output_type": "stream",
          "name": "stdout",
          "text": [
            "Sum is: 290\n",
            "Difference function in Base class 2\n",
            "Difference is: 110\n",
            "BASE CLASS 1 CONSTRUCTOR\n",
            "Sum is: 20\n",
            "Sum is: 102\n",
            "DERIVED CLASS CONSTRUCTOR\n",
            "Sum is: 168\n",
            "Difference function in Base class 2\n",
            "Difference is: -12\n"
          ]
        }
      ]
    },
    {
      "cell_type": "code",
      "source": [
        "# Hierarchical inheritance- One parent classes many child classes\n",
        "# calc parent class --> Inherited by der1 and der2 child classes\n",
        "# Creating Parent class\n",
        "class calc():\n",
        "  def __init__(self):\n",
        "    self.a=\"BASE\"\n",
        "    self.b=\"CLASS\"\n",
        "    sum=self.a+self.b\n",
        "    print(\"BASE CLASS  CONSTRUCTOR\")\n",
        "    print(\"Concatenation is:\",sum)\n",
        "  def add(self,c,d):\n",
        "    self.sum=c+d\n",
        "    print(\"Sum is:\",self.sum)\n",
        "# Creating Child class 1\n",
        "class der1(calc):\n",
        "  def __init__(self):\n",
        "    print(\"DERIVED CLASS 1 CONSTRUCTOR\")\n",
        "  def sub(self,c,d):\n",
        "    self.sub=c-d\n",
        "    print(\"Difference function in DERIVED class 1\")\n",
        "    print(\"Difference is:\",self.sub)\n",
        "  print(\"Sum function in DERIVED class 1\")\n",
        "  calc.add(obj2,\"First Derived\",\" class from calc\")\n",
        "# Creating Child class 2\n",
        "class der2(calc):\n",
        "  a=200\n",
        "  n=90\n",
        "  def __init__(self):\n",
        "    print(\"DERIVED CLASS 2 CONSTRUCTOR\")\n",
        "  print(\"Sum function in DERIVED class 2\")\n",
        "  calc.add(obj2,\"Second Derived\",\" class from calc\")\n",
        "# Creating Parent class object\n",
        "obj=calc()\n",
        "# Accessing Parent class function\n",
        "obj.add(12,90)\n",
        "# Creating child class 1 object\n",
        "obj2=der1()\n",
        "# Accessing Parent class function using child class 1 object\n",
        "obj2.add(78,90)\n",
        "obj2.sub(78,90)\n",
        "# Creating child class 2 object\n",
        "obj3=der2()\n",
        "# Accessing Parent class function using child class 2 object\n",
        "obj3.add(12,15)"
      ],
      "metadata": {
        "id": "lp8HHSbB1smz",
        "colab": {
          "base_uri": "https://localhost:8080/"
        },
        "outputId": "373e4591-effa-44a1-81e6-db1626e4a29c"
      },
      "execution_count": 23,
      "outputs": [
        {
          "output_type": "stream",
          "name": "stdout",
          "text": [
            "Sum function in DERIVED class 1\n",
            "Sum is: First Derived class from calc\n",
            "Sum function in DERIVED class 2\n",
            "Sum is: Second Derived class from calc\n",
            "BASE CLASS  CONSTRUCTOR\n",
            "Concatenation is: BASECLASS\n",
            "Sum is: 102\n",
            "DERIVED CLASS 1 CONSTRUCTOR\n",
            "Sum is: 168\n",
            "Difference function in DERIVED class 1\n",
            "Difference is: -12\n",
            "DERIVED CLASS 2 CONSTRUCTOR\n",
            "Sum is: 27\n"
          ]
        }
      ]
    },
    {
      "cell_type": "code",
      "source": [
        "# Multilevel inheritance-One parent class one child class then child classes\n",
        "# student parent class --> Inherited by test child class then Inherited by result child class\n",
        "# Creating Parent class\n",
        "class student():\n",
        "  name=input(\"Enter student name: \")\n",
        "  roll_no=int(input(\"Enter student roll number: \"))\n",
        "  Id=int(input(\"Enter student Id number: \"))\n",
        "  def __init__(self):\n",
        "    print(\"BASE CLASS  CONSTRUCTOR\")\n",
        "  def display(self):\n",
        "    print(\"Student name is:\",self.name)\n",
        "    print(\"Student roll number is:\",self.roll_no)\n",
        "    print(\"Student Id number is:\",self.Id)\n",
        "# Creating Child class test inherited from Parent class student\n",
        "class test(student):\n",
        "  list=[]\n",
        "  mark=0\n",
        "  n=int(input(\"Enter number of subjects: \"))\n",
        "  t=int(input(\"Enter maximum number in subject: \"))\n",
        "  for i in range(1,n+1):\n",
        "    print(\"Enter marks\",i,\":\",end=\" \")\n",
        "    a=int(input())\n",
        "    list.append(a)\n",
        "  #def Marks(self):\n",
        "  for i in range(0,n):\n",
        "   mark+=list[i]\n",
        "# Creating Child class result inherited from Parent class test\n",
        "class result(test):\n",
        "  print(\"Result is:\",((test.mark/(test.n*test.t))*100))\n",
        "# Since we are taking input in parent class it is runing without making object"
      ],
      "metadata": {
        "colab": {
          "base_uri": "https://localhost:8080/"
        },
        "id": "-kH0Q4RCBw-g",
        "outputId": "ce8a3e5e-ec01-4e54-c010-8538b99fcc84"
      },
      "execution_count": 20,
      "outputs": [
        {
          "output_type": "stream",
          "name": "stdout",
          "text": [
            "Enter student name: John\n",
            "Enter student roll number: 12\n",
            "Enter student Id number: 34567543\n",
            "Enter number of subjects: 3\n",
            "Enter maximum number in subject: 20\n",
            "Enter marks 1 : 20\n",
            "Enter marks 2 : 12\n",
            "Enter marks 3 : 13\n",
            "Result is: 75.0\n"
          ]
        }
      ]
    },
    {
      "cell_type": "code",
      "source": [
        "# Multilevel inheritance-One parent class one child class then child classes\n",
        "# student parent class --> Inherited by test child class then Inherited by result child class\n",
        "# Creating Parent class\n",
        "class student():\n",
        "  name=input(\"Enter student name: \")\n",
        "  roll_no=int(input(\"Enter student roll number: \"))\n",
        "  Id=int(input(\"Enter student Id number: \"))\n",
        "  def __init__(self):\n",
        "    print(\"BASE CLASS  CONSTRUCTOR\")\n",
        "  def display(self):\n",
        "    print(\"Student name is:\",self.name)\n",
        "    print(\"Student roll number is:\",self.roll_no)\n",
        "    print(\"Student Id number is:\",self.Id)\n",
        "# Creating Child class test inherited from Parent class student\n",
        "class test(student):\n",
        "  list=[]\n",
        "  mark=0\n",
        "  n=int(input(\"Enter number of subjects: \"))\n",
        "  t=int(input(\"Enter maximum number in subject: \"))\n",
        "  for i in range(1,n+1):\n",
        "    print(\"Enter marks\",i,\":\",end=\" \")\n",
        "    a=int(input())\n",
        "    list.append(a)\n",
        "  #def Marks(self):\n",
        "  for i in range(0,n):\n",
        "   mark+=list[i]\n",
        "# Creating Child class result inherited from Parent class test\n",
        "class result(test):\n",
        "  def printr(self):\n",
        "   print(\"Result is:\",((test.mark/(test.n*test.t))*100))\n",
        "# Creating result class object\n",
        "obj=result()\n",
        "# Accessing test class function from result class object\n",
        "test.display(obj)\n",
        "# Calling printr function in result to print result\n",
        "obj.printr()"
      ],
      "metadata": {
        "colab": {
          "base_uri": "https://localhost:8080/"
        },
        "outputId": "e86fa38e-ac95-4389-c053-fc4e58ca40dc",
        "id": "sKS9rTfHHAh6"
      },
      "execution_count": 22,
      "outputs": [
        {
          "output_type": "stream",
          "name": "stdout",
          "text": [
            "Enter student name: John\n",
            "Enter student roll number: 12\n",
            "Enter student Id number: 12345323\n",
            "Enter number of subjects: 2\n",
            "Enter maximum number in subject: 45\n",
            "Enter marks 1 : 12\n",
            "Enter marks 2 : 34\n",
            "BASE CLASS  CONSTRUCTOR\n",
            "Student name is: John\n",
            "Student roll number is: 12\n",
            "Student Id number is: 12345323\n",
            "Result is: 51.11111111111111\n"
          ]
        }
      ]
    },
    {
      "cell_type": "code",
      "source": [
        "# Hybrid inheritance- Combination of more than one type of inheritance\n",
        "# Creating Parent class\n",
        "class calc():\n",
        "  def __init__(self):\n",
        "    print(\"1st Base class calc\")\n",
        "  def add(a,b):\n",
        "    print(a+b)\n",
        "# Hierarchical inheritance- One parent classes many child classes\n",
        "# calc parent class --> Inherited by der1 and der2 child classes\n",
        "# Creating Child class 1\n",
        "class der1(calc):\n",
        "  def __init__(self):\n",
        "    print(\"1st Derived class from calc\")\n",
        "  def sub(a,b):\n",
        "    print(a-b)\n",
        "# Creating Child class 2\n",
        "class der2(calc):\n",
        "  def __init__(self):\n",
        "    print(\"2nd Derived class from calc\")\n",
        "  def mul(a,b):\n",
        "    print(a*b)\n",
        "# Multiple inheritance-Many parent classes one child class\n",
        "# der1,der2 parent classes --> Inherited by der3 child class\n",
        "# Creating Child class 3\n",
        "class der3(der1,der2):\n",
        "  def __init__(self):\n",
        "    print(\"3rd Derived class from der1 and der2\")\n",
        "  def div(a,b):\n",
        "    print(a/b)\n",
        "# Creating child class 3 object\n",
        "obj=der3()\n",
        "# Accessing child class function\n",
        "der3.div(12,6)\n",
        "# Accessing Parent class der2 function using child class 3 object\n",
        "der3.sub(134,89)\n",
        "# Accessing Parent class der1 function using child class 3 object\n",
        "der3.mul(111,8)\n",
        "# Accessing Parent class calc function using child class 3 object\n",
        "der3.add(12,34)"
      ],
      "metadata": {
        "id": "v4LUPyzaHKNV",
        "colab": {
          "base_uri": "https://localhost:8080/"
        },
        "outputId": "1fe709c8-481a-4028-de6c-c9cc46cd92f4"
      },
      "execution_count": 24,
      "outputs": [
        {
          "output_type": "stream",
          "name": "stdout",
          "text": [
            "3rd Derived class from der1 and der2\n",
            "2.0\n",
            "45\n",
            "888\n",
            "46\n"
          ]
        }
      ]
    },
    {
      "cell_type": "code",
      "source": [
        "# Hybrid Inheritance- Combination of more than one type of inheritance\n",
        "# Creating Parent class 1\n",
        "class A():\n",
        "  def showA(self):\n",
        "    print(\"Base Class A\")\n",
        "# Creating Parent class 2\n",
        "class G():\n",
        "  def showG(self):\n",
        "    print(\"Base Class G\")\n",
        "# Multiple Inheritance-Many parent classes one child class\n",
        "# A,G parent classes --> Inherited by C child class\n",
        "# Creating Child class 1\n",
        "class C(A,G):\n",
        "  def showC(self):\n",
        "    print(\"Derived Class C from G\")\n",
        "# Hierarchical inheritance- One parent classes many child classes\n",
        "# B parent class --> Inherited by D and E child classes\n",
        "# Creating Child class 2\n",
        "class B(A):\n",
        "  def showB(self):\n",
        "    print(\"Derived Class B from A\")\n",
        "    # Creating Child class 3\n",
        "class D(B):\n",
        "  def showD(self):\n",
        "    print(\"Derived Class D from B\")\n",
        "# Creating Child class 4\n",
        "class E(B):\n",
        "  def showE(self):\n",
        "    print(\"Derived Class E from B\")\n",
        "# Creating child class 4 object\n",
        "obj=E()\n",
        "# Accessing Parent class A function using child class 4 object\n",
        "obj.showA()\n",
        "# Accessing Parent class B function using child class 4 object\n",
        "obj.showB()\n",
        "# Creating child class 1 object\n",
        "obj1=C()\n",
        "# Accessing child class function\n",
        "obj1.showC()\n",
        "# Creating child class 3 object\n",
        "obj2=D()\n",
        "# Accessing child class function\n",
        "obj2.showD()\n",
        "# Accessing Parent class E function using child class 4 object\n",
        "obj.showE()\n",
        "# Accessing Parent class G function using child class 1 object\n",
        "obj1.showG()"
      ],
      "metadata": {
        "id": "OQJm2V0sCSB7",
        "colab": {
          "base_uri": "https://localhost:8080/"
        },
        "outputId": "c88d150d-0514-479a-8a05-c698ca6b094c"
      },
      "execution_count": 25,
      "outputs": [
        {
          "output_type": "stream",
          "name": "stdout",
          "text": [
            "Base Class A\n",
            "Derived Class B from A\n",
            "Derived Class C from G\n",
            "Derived Class D from B\n",
            "Derived Class E from B\n",
            "Base Class G\n"
          ]
        }
      ]
    }
  ]
}