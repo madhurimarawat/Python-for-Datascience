{
  "nbformat": 4,
  "nbformat_minor": 0,
  "metadata": {
    "colab": {
      "provenance": []
    },
    "kernelspec": {
      "name": "python3",
      "display_name": "Python 3"
    },
    "language_info": {
      "name": "python"
    }
  },
  "cells": [
    {
      "cell_type": "code",
      "source": [
        "# Data cleaning\n",
        "A='''\n",
        "Process of changing or cleaning incorrect , duplicate corrupted or missing data value in a data set\n",
        "The major requirements of data cleaning is to construct uniform and standardized data set.\n",
        "It improves quality and accuracy of data being fed to algorithm that will solve a datascience problem '''\n",
        "print(\"Data Cleaning:\")\n",
        "print(A)"
      ],
      "metadata": {
        "id": "GZB0BIfWY0LJ",
        "colab": {
          "base_uri": "https://localhost:8080/"
        },
        "outputId": "5a629681-9643-44b0-f91d-044b56e3753a"
      },
      "execution_count": null,
      "outputs": [
        {
          "output_type": "stream",
          "name": "stdout",
          "text": [
            "Data Cleaning:\n",
            "\n",
            "Process of changing or cleaning incorrect , duplicate corrupted or missing data value in a data set\n",
            "The major requirements of data cleaning is to construct uniform and standardized data set.\n",
            "It improves quality and accuracy of data being fed to algorithm that will solve a datascience problem \n"
          ]
        }
      ]
    },
    {
      "cell_type": "code",
      "source": [
        "# Importing required libraries\n",
        "# importing numpy\n",
        "# importing pandas\n",
        "import pandas as pd\n",
        "import numpy as np"
      ],
      "metadata": {
        "id": "vYTwK8xoZ1QN"
      },
      "execution_count": 5,
      "outputs": []
    },
    {
      "cell_type": "code",
      "source": [
        "# Creating Dataframe\n",
        "df= pd.DataFrame({'Name':['Rick','Aegon','Nick','Rina',np.NaN],'Age':[10,20,34,89,np.NaN]})\n",
        "print(\"Dataframe is:\")\n",
        "print(df,\"\\n\")\n",
        "# Finding null values in data frame\n",
        "# isnull() returns True when null values are present\n",
        "print(\"Null values in Dataframe are:\")\n",
        "df.isnull()"
      ],
      "metadata": {
        "id": "y0eEcd-PmiZJ",
        "colab": {
          "base_uri": "https://localhost:8080/",
          "height": 362
        },
        "outputId": "338e946f-b871-4f20-fd15-c1418ed7bca8"
      },
      "execution_count": null,
      "outputs": [
        {
          "output_type": "stream",
          "name": "stdout",
          "text": [
            "Dataframe is:\n",
            "    Name   Age\n",
            "0   Rick  10.0\n",
            "1  Aegon  20.0\n",
            "2   Nick  34.0\n",
            "3   Rina  89.0\n",
            "4    NaN   NaN \n",
            "\n",
            "Null values in Dataframe are:\n"
          ]
        },
        {
          "output_type": "execute_result",
          "data": {
            "text/plain": [
              "    Name    Age\n",
              "0  False  False\n",
              "1  False  False\n",
              "2  False  False\n",
              "3  False  False\n",
              "4   True   True"
            ],
            "text/html": [
              "\n",
              "\n",
              "  <div id=\"df-50fb6e90-11f6-44fe-af55-88526b516409\">\n",
              "    <div class=\"colab-df-container\">\n",
              "      <div>\n",
              "<style scoped>\n",
              "    .dataframe tbody tr th:only-of-type {\n",
              "        vertical-align: middle;\n",
              "    }\n",
              "\n",
              "    .dataframe tbody tr th {\n",
              "        vertical-align: top;\n",
              "    }\n",
              "\n",
              "    .dataframe thead th {\n",
              "        text-align: right;\n",
              "    }\n",
              "</style>\n",
              "<table border=\"1\" class=\"dataframe\">\n",
              "  <thead>\n",
              "    <tr style=\"text-align: right;\">\n",
              "      <th></th>\n",
              "      <th>Name</th>\n",
              "      <th>Age</th>\n",
              "    </tr>\n",
              "  </thead>\n",
              "  <tbody>\n",
              "    <tr>\n",
              "      <th>0</th>\n",
              "      <td>False</td>\n",
              "      <td>False</td>\n",
              "    </tr>\n",
              "    <tr>\n",
              "      <th>1</th>\n",
              "      <td>False</td>\n",
              "      <td>False</td>\n",
              "    </tr>\n",
              "    <tr>\n",
              "      <th>2</th>\n",
              "      <td>False</td>\n",
              "      <td>False</td>\n",
              "    </tr>\n",
              "    <tr>\n",
              "      <th>3</th>\n",
              "      <td>False</td>\n",
              "      <td>False</td>\n",
              "    </tr>\n",
              "    <tr>\n",
              "      <th>4</th>\n",
              "      <td>True</td>\n",
              "      <td>True</td>\n",
              "    </tr>\n",
              "  </tbody>\n",
              "</table>\n",
              "</div>\n",
              "      <button class=\"colab-df-convert\" onclick=\"convertToInteractive('df-50fb6e90-11f6-44fe-af55-88526b516409')\"\n",
              "              title=\"Convert this dataframe to an interactive table.\"\n",
              "              style=\"display:none;\">\n",
              "\n",
              "  <svg xmlns=\"http://www.w3.org/2000/svg\" height=\"24px\"viewBox=\"0 0 24 24\"\n",
              "       width=\"24px\">\n",
              "    <path d=\"M0 0h24v24H0V0z\" fill=\"none\"/>\n",
              "    <path d=\"M18.56 5.44l.94 2.06.94-2.06 2.06-.94-2.06-.94-.94-2.06-.94 2.06-2.06.94zm-11 1L8.5 8.5l.94-2.06 2.06-.94-2.06-.94L8.5 2.5l-.94 2.06-2.06.94zm10 10l.94 2.06.94-2.06 2.06-.94-2.06-.94-.94-2.06-.94 2.06-2.06.94z\"/><path d=\"M17.41 7.96l-1.37-1.37c-.4-.4-.92-.59-1.43-.59-.52 0-1.04.2-1.43.59L10.3 9.45l-7.72 7.72c-.78.78-.78 2.05 0 2.83L4 21.41c.39.39.9.59 1.41.59.51 0 1.02-.2 1.41-.59l7.78-7.78 2.81-2.81c.8-.78.8-2.07 0-2.86zM5.41 20L4 18.59l7.72-7.72 1.47 1.35L5.41 20z\"/>\n",
              "  </svg>\n",
              "      </button>\n",
              "\n",
              "\n",
              "\n",
              "    <div id=\"df-62286636-46d2-4540-838e-69d5db9a6ca9\">\n",
              "      <button class=\"colab-df-quickchart\" onclick=\"quickchart('df-62286636-46d2-4540-838e-69d5db9a6ca9')\"\n",
              "              title=\"Suggest charts.\"\n",
              "              style=\"display:none;\">\n",
              "\n",
              "<svg xmlns=\"http://www.w3.org/2000/svg\" height=\"24px\"viewBox=\"0 0 24 24\"\n",
              "     width=\"24px\">\n",
              "    <g>\n",
              "        <path d=\"M19 3H5c-1.1 0-2 .9-2 2v14c0 1.1.9 2 2 2h14c1.1 0 2-.9 2-2V5c0-1.1-.9-2-2-2zM9 17H7v-7h2v7zm4 0h-2V7h2v10zm4 0h-2v-4h2v4z\"/>\n",
              "    </g>\n",
              "</svg>\n",
              "      </button>\n",
              "    </div>\n",
              "\n",
              "<style>\n",
              "  .colab-df-quickchart {\n",
              "    background-color: #E8F0FE;\n",
              "    border: none;\n",
              "    border-radius: 50%;\n",
              "    cursor: pointer;\n",
              "    display: none;\n",
              "    fill: #1967D2;\n",
              "    height: 32px;\n",
              "    padding: 0 0 0 0;\n",
              "    width: 32px;\n",
              "  }\n",
              "\n",
              "  .colab-df-quickchart:hover {\n",
              "    background-color: #E2EBFA;\n",
              "    box-shadow: 0px 1px 2px rgba(60, 64, 67, 0.3), 0px 1px 3px 1px rgba(60, 64, 67, 0.15);\n",
              "    fill: #174EA6;\n",
              "  }\n",
              "\n",
              "  [theme=dark] .colab-df-quickchart {\n",
              "    background-color: #3B4455;\n",
              "    fill: #D2E3FC;\n",
              "  }\n",
              "\n",
              "  [theme=dark] .colab-df-quickchart:hover {\n",
              "    background-color: #434B5C;\n",
              "    box-shadow: 0px 1px 3px 1px rgba(0, 0, 0, 0.15);\n",
              "    filter: drop-shadow(0px 1px 2px rgba(0, 0, 0, 0.3));\n",
              "    fill: #FFFFFF;\n",
              "  }\n",
              "</style>\n",
              "\n",
              "    <script>\n",
              "      async function quickchart(key) {\n",
              "        const containerElement = document.querySelector('#' + key);\n",
              "        const charts = await google.colab.kernel.invokeFunction(\n",
              "            'suggestCharts', [key], {});\n",
              "      }\n",
              "    </script>\n",
              "\n",
              "      <script>\n",
              "\n",
              "function displayQuickchartButton(domScope) {\n",
              "  let quickchartButtonEl =\n",
              "    domScope.querySelector('#df-62286636-46d2-4540-838e-69d5db9a6ca9 button.colab-df-quickchart');\n",
              "  quickchartButtonEl.style.display =\n",
              "    google.colab.kernel.accessAllowed ? 'block' : 'none';\n",
              "}\n",
              "\n",
              "        displayQuickchartButton(document);\n",
              "      </script>\n",
              "      <style>\n",
              "    .colab-df-container {\n",
              "      display:flex;\n",
              "      flex-wrap:wrap;\n",
              "      gap: 12px;\n",
              "    }\n",
              "\n",
              "    .colab-df-convert {\n",
              "      background-color: #E8F0FE;\n",
              "      border: none;\n",
              "      border-radius: 50%;\n",
              "      cursor: pointer;\n",
              "      display: none;\n",
              "      fill: #1967D2;\n",
              "      height: 32px;\n",
              "      padding: 0 0 0 0;\n",
              "      width: 32px;\n",
              "    }\n",
              "\n",
              "    .colab-df-convert:hover {\n",
              "      background-color: #E2EBFA;\n",
              "      box-shadow: 0px 1px 2px rgba(60, 64, 67, 0.3), 0px 1px 3px 1px rgba(60, 64, 67, 0.15);\n",
              "      fill: #174EA6;\n",
              "    }\n",
              "\n",
              "    [theme=dark] .colab-df-convert {\n",
              "      background-color: #3B4455;\n",
              "      fill: #D2E3FC;\n",
              "    }\n",
              "\n",
              "    [theme=dark] .colab-df-convert:hover {\n",
              "      background-color: #434B5C;\n",
              "      box-shadow: 0px 1px 3px 1px rgba(0, 0, 0, 0.15);\n",
              "      filter: drop-shadow(0px 1px 2px rgba(0, 0, 0, 0.3));\n",
              "      fill: #FFFFFF;\n",
              "    }\n",
              "  </style>\n",
              "\n",
              "      <script>\n",
              "        const buttonEl =\n",
              "          document.querySelector('#df-50fb6e90-11f6-44fe-af55-88526b516409 button.colab-df-convert');\n",
              "        buttonEl.style.display =\n",
              "          google.colab.kernel.accessAllowed ? 'block' : 'none';\n",
              "\n",
              "        async function convertToInteractive(key) {\n",
              "          const element = document.querySelector('#df-50fb6e90-11f6-44fe-af55-88526b516409');\n",
              "          const dataTable =\n",
              "            await google.colab.kernel.invokeFunction('convertToInteractive',\n",
              "                                                     [key], {});\n",
              "          if (!dataTable) return;\n",
              "\n",
              "          const docLinkHtml = 'Like what you see? Visit the ' +\n",
              "            '<a target=\"_blank\" href=https://colab.research.google.com/notebooks/data_table.ipynb>data table notebook</a>'\n",
              "            + ' to learn more about interactive tables.';\n",
              "          element.innerHTML = '';\n",
              "          dataTable['output_type'] = 'display_data';\n",
              "          await google.colab.output.renderOutput(dataTable, element);\n",
              "          const docLink = document.createElement('div');\n",
              "          docLink.innerHTML = docLinkHtml;\n",
              "          element.appendChild(docLink);\n",
              "        }\n",
              "      </script>\n",
              "    </div>\n",
              "  </div>\n"
            ]
          },
          "metadata": {},
          "execution_count": 9
        }
      ]
    },
    {
      "cell_type": "code",
      "source": [
        "print(\"Dataframe is:\")\n",
        "print(df,\"\\n\")\n",
        "# Filling null values by 0\n",
        "# fillna() is used to fill values in na\n",
        "print(\"Dataframe after filling null values with 0 is:\")\n",
        "print(df.fillna(0))"
      ],
      "metadata": {
        "colab": {
          "base_uri": "https://localhost:8080/"
        },
        "id": "RW7HPCerHJid",
        "outputId": "f36c9353-7ba4-440b-acdc-e1277d3c66a4"
      },
      "execution_count": null,
      "outputs": [
        {
          "output_type": "stream",
          "name": "stdout",
          "text": [
            "Dataframe is:\n",
            "    Name   Age\n",
            "0   Rick  10.0\n",
            "1  Aegon  20.0\n",
            "2   Nick  34.0\n",
            "3   Rina  89.0\n",
            "4    NaN   NaN \n",
            "\n",
            "Dataframe after filling null values with 0 is:\n",
            "    Name   Age\n",
            "0   Rick  10.0\n",
            "1  Aegon  20.0\n",
            "2   Nick  34.0\n",
            "3   Rina  89.0\n",
            "4      0   0.0\n"
          ]
        }
      ]
    },
    {
      "cell_type": "code",
      "source": [
        "print(\"Dataframe is:\")\n",
        "print(df,\"\\n\")\n",
        "# Filling null values by 0 only in name column\n",
        "# fillna() is used to fill values in na\n",
        "print(\"Dataframe after filling null values with 0 is:\")\n",
        "print(df['Name'].fillna(0))"
      ],
      "metadata": {
        "colab": {
          "base_uri": "https://localhost:8080/"
        },
        "id": "fA6Ky-nraAG8",
        "outputId": "79c8a59f-e4d0-4113-eb66-4049f570d0e0"
      },
      "execution_count": null,
      "outputs": [
        {
          "output_type": "stream",
          "name": "stdout",
          "text": [
            "Dataframe is:\n",
            "    Name   Age\n",
            "0   Rick  10.0\n",
            "1  Aegon  20.0\n",
            "2   Nick  34.0\n",
            "3   Rina  89.0\n",
            "4    NaN   NaN \n",
            "\n",
            "Dataframe after filling null values with 0 is:\n",
            "0     Rick\n",
            "1    Aegon\n",
            "2     Nick\n",
            "3     Rina\n",
            "4        0\n",
            "Name: Name, dtype: object\n"
          ]
        }
      ]
    },
    {
      "cell_type": "code",
      "source": [
        "print(\"Dataframe is:\")\n",
        "print(df,\"\\n\")\n",
        "# Filling null values by someone in name column and 25 in age column\n",
        "# fillna() is used to fill values in na\n",
        "print(\"Dataframe after filling null values with someone in name column and 25 in age column is:\")\n",
        "print(df.fillna({\"Name\":'Someone',\"Age\":25}))"
      ],
      "metadata": {
        "colab": {
          "base_uri": "https://localhost:8080/"
        },
        "id": "ITKnhifxbTBB",
        "outputId": "82d7186e-d261-4f05-86fa-d6deff311683"
      },
      "execution_count": null,
      "outputs": [
        {
          "output_type": "stream",
          "name": "stdout",
          "text": [
            "Dataframe is:\n",
            "    Name   Age\n",
            "0   Rick  10.0\n",
            "1  Aegon  20.0\n",
            "2   Nick  34.0\n",
            "3   Rina  89.0\n",
            "4    NaN   NaN \n",
            "\n",
            "Dataframe after filling null values with someone in name column and 25 in age column is:\n",
            "      Name   Age\n",
            "0     Rick  10.0\n",
            "1    Aegon  20.0\n",
            "2     Nick  34.0\n",
            "3     Rina  89.0\n",
            "4  Someone  25.0\n"
          ]
        }
      ]
    },
    {
      "cell_type": "code",
      "source": [
        "print(\"Dataframe is:\")\n",
        "print(df,\"\\n\")\n",
        "# Filling null values by 0 in name column and 0 in age column by giving column names\n",
        "# fillna() is used to fill values in na\n",
        "print(\"Dataframe after filling null values with 0 in name column and 0 in age column by giving column names is:\")\n",
        "print(df[['Name','Age']].fillna(0))"
      ],
      "metadata": {
        "colab": {
          "base_uri": "https://localhost:8080/"
        },
        "id": "KT3_zfljbt0a",
        "outputId": "a6d1e5b0-f807-48ab-cd06-0b8075dd899d"
      },
      "execution_count": null,
      "outputs": [
        {
          "output_type": "stream",
          "name": "stdout",
          "text": [
            "Dataframe is:\n",
            "    Name   Age\n",
            "0   Rick  10.0\n",
            "1  Aegon  20.0\n",
            "2   Nick  34.0\n",
            "3   Rina  89.0\n",
            "4    NaN   NaN \n",
            "\n",
            "Dataframe after filling null values with 0 in name column and 0 in age column by giving column names is:\n",
            "    Name   Age\n",
            "0   Rick  10.0\n",
            "1  Aegon  20.0\n",
            "2   Nick  34.0\n",
            "3   Rina  89.0\n",
            "4      0   0.0\n"
          ]
        }
      ]
    },
    {
      "cell_type": "code",
      "source": [
        "print(\"Dataframe is:\")\n",
        "print(df,\"\\n\")\n",
        "# Replacing name in data frame\n",
        "# replace function replaces old value with new value\n",
        "print(\"Dataframe after replacing old value with new value is:\")\n",
        "print(df['Name'].replace('Rina','ex'))"
      ],
      "metadata": {
        "colab": {
          "base_uri": "https://localhost:8080/"
        },
        "id": "3lzKZmEecZWy",
        "outputId": "d8bd5cfc-1d27-46e9-ca91-c9801a372fdb"
      },
      "execution_count": null,
      "outputs": [
        {
          "output_type": "stream",
          "name": "stdout",
          "text": [
            "Dataframe is:\n",
            "    Name   Age\n",
            "0   Rick  10.0\n",
            "1  Aegon  20.0\n",
            "2   Nick  34.0\n",
            "3   Rina  89.0\n",
            "4    NaN   NaN \n",
            "\n",
            "Dataframe after replacing old value with new value is:\n",
            "0     Rick\n",
            "1    Aegon\n",
            "2     Nick\n",
            "3       ex\n",
            "4      NaN\n",
            "Name: Name, dtype: object\n"
          ]
        }
      ]
    },
    {
      "cell_type": "code",
      "source": [
        "# Creating dataframe\n",
        "l=[12,13,14,15,16,17]\n",
        "df1=pd.DataFrame({'name':['Emily','Liam','Liam','Adam','lina','dany'],'current':[98,12,12,14,78,90],'overall':[184,258,789,456,123,457],'group':[\"A\",\"A\",\"B\",\"A\",\"D\",\"C\"]},index=l)\n",
        "print(\"Dataframe is:\")\n",
        "print(df1,\"\\n\")\n",
        "# Checking for duplicates\n",
        "# duplicated() returns True for duplicate values\n",
        "print(\"Duplicate values in dataframes are:\")\n",
        "print(df1.name.duplicated())"
      ],
      "metadata": {
        "id": "mWMzxiZqM-MD",
        "colab": {
          "base_uri": "https://localhost:8080/"
        },
        "outputId": "d1195a68-b6b8-4e6b-f613-bfffd56ab885"
      },
      "execution_count": null,
      "outputs": [
        {
          "output_type": "stream",
          "name": "stdout",
          "text": [
            "Dataframe is:\n",
            "     name  current  overall group\n",
            "12  Emily       98      184     A\n",
            "13   Liam       12      258     A\n",
            "14   Liam       12      789     B\n",
            "15   Adam       14      456     A\n",
            "16   lina       78      123     D\n",
            "17   dany       90      457     C \n",
            "\n",
            "Duplicate values in dataframes are:\n",
            "12    False\n",
            "13    False\n",
            "14     True\n",
            "15    False\n",
            "16    False\n",
            "17    False\n",
            "Name: name, dtype: bool\n"
          ]
        }
      ]
    },
    {
      "cell_type": "code",
      "source": [
        "print(\"Dataframe is:\")\n",
        "print(df1,\"\\n\")\n",
        "# Dropping duplicates in dataframe\n",
        "# drop_duplicates() removes duplicate values\n",
        "print(\"Dataframe after dropping duplicate values:\")\n",
        "print(df1.drop_duplicates(subset=['name']))"
      ],
      "metadata": {
        "colab": {
          "base_uri": "https://localhost:8080/"
        },
        "id": "2UAvCBFtdrCP",
        "outputId": "de398f9a-2856-4e0c-8acb-80bc8a109c60"
      },
      "execution_count": null,
      "outputs": [
        {
          "output_type": "stream",
          "name": "stdout",
          "text": [
            "Dataframe is:\n",
            "     name  current  overall group\n",
            "12  Emily       98      184     A\n",
            "13   Liam       12      258     A\n",
            "14   Liam       12      789     B\n",
            "15   Adam       14      456     A\n",
            "16   lina       78      123     D\n",
            "17   dany       90      457     C \n",
            "\n",
            "Dataframe after dropping duplicate values:\n",
            "     name  current  overall group\n",
            "12  Emily       98      184     A\n",
            "13   Liam       12      258     A\n",
            "15   Adam       14      456     A\n",
            "16   lina       78      123     D\n",
            "17   dany       90      457     C\n"
          ]
        }
      ]
    },
    {
      "cell_type": "code",
      "source": [
        "# Creating Dataframe\n",
        "df= pd.DataFrame({'Name':['Rick','Aegon','Nick','Rina',np.NaN],'Age':[10,20,34,89,np.NaN]})\n",
        "print(\"Dataframe is:\")\n",
        "print(df,\"\\n\")\n",
        "# Dropping NaN(null values) in dataframe\n",
        "# dropna() removes na values\n",
        "print(\"Dataframe after dropping NaN(null values) values:\")\n",
        "print(df.dropna())"
      ],
      "metadata": {
        "colab": {
          "base_uri": "https://localhost:8080/"
        },
        "id": "jb6UwqaZeABN",
        "outputId": "dc992421-8410-4e1f-da56-31da62f5fc1b"
      },
      "execution_count": null,
      "outputs": [
        {
          "output_type": "stream",
          "name": "stdout",
          "text": [
            "Dataframe is:\n",
            "    Name   Age\n",
            "0   Rick  10.0\n",
            "1  Aegon  20.0\n",
            "2   Nick  34.0\n",
            "3   Rina  89.0\n",
            "4    NaN   NaN \n",
            "\n",
            "Dataframe after dropping NaN(null values) values:\n",
            "    Name   Age\n",
            "0   Rick  10.0\n",
            "1  Aegon  20.0\n",
            "2   Nick  34.0\n",
            "3   Rina  89.0\n"
          ]
        }
      ]
    },
    {
      "cell_type": "code",
      "source": [
        "# Creating Dataframe\n",
        "df=pd.DataFrame({'A':[100,90,np.nan,95],'B':[30,45,56,np.nan],'C':[np.nan,40,80,98]})\n",
        "print(\"Dataframe is:\")\n",
        "print(df,\"\\n\")\n",
        "# Dropping NaN(null values) in dataframe\n",
        "# dropna() removes na values\n",
        "print(\"Dataframe after dropping NaN(null values) values is:\")\n",
        "print(df.dropna(),\"\\n\")\n",
        "print(\"Dataframe after dropping NaN(null values) values with axis 0 is:\")\n",
        "print(df.dropna(axis=0),\"\\n\")\n",
        "print(\"Dataframe after dropping NaN(null values) values with axis 1 is:\")\n",
        "print(df.dropna(axis=1),\"\\n\")\n",
        "print(\"Dataframe after dropping NaN(null values) values with subset A and B is:\")\n",
        "print(df.dropna(subset=['A','B']))"
      ],
      "metadata": {
        "colab": {
          "base_uri": "https://localhost:8080/"
        },
        "id": "mQmpPymie9rU",
        "outputId": "0280764f-4c54-494d-d740-6740d2b6638b"
      },
      "execution_count": null,
      "outputs": [
        {
          "output_type": "stream",
          "name": "stdout",
          "text": [
            "Dataframe is:\n",
            "       A     B     C\n",
            "0  100.0  30.0   NaN\n",
            "1   90.0  45.0  40.0\n",
            "2    NaN  56.0  80.0\n",
            "3   95.0   NaN  98.0 \n",
            "\n",
            "Dataframe after dropping NaN(null values) values is:\n",
            "      A     B     C\n",
            "1  90.0  45.0  40.0 \n",
            "\n",
            "Dataframe after dropping NaN(null values) values with axis 0 is:\n",
            "      A     B     C\n",
            "1  90.0  45.0  40.0 \n",
            "\n",
            "Dataframe after dropping NaN(null values) values with axis 1 is:\n",
            "Empty DataFrame\n",
            "Columns: []\n",
            "Index: [0, 1, 2, 3] \n",
            "\n",
            "Dataframe after dropping NaN(null values) values with subset A and B is:\n",
            "       A     B     C\n",
            "0  100.0  30.0   NaN\n",
            "1   90.0  45.0  40.0\n"
          ]
        }
      ]
    },
    {
      "cell_type": "code",
      "source": [
        "# Creating Dataframe\n",
        "df=pd.DataFrame({'A':[100,np.nan,np.nan,95],'B':[np.nan,np.nan,np.nan,np.nan],\n",
        "                 'C':[np.nan,np.nan,80,98],'D':[50,40,np.nan,98],'E':[50,40,80,98]})\n",
        "print(\"Dataframe is:\")\n",
        "print(df,\"\\n\")\n",
        "# dropping na with thresh parameter\n",
        "# thresh parameter represents highest acceptable value for null after which null values will be removed\n",
        "# Like if we have 3 as thresh 3 or more values are acceptable\n",
        "# threshold checks main values(non nan values)\n",
        "print(\"Dataframe after dropping NaN(null values) values with thresh 2 and axis 1 is:\")\n",
        "print(df.dropna(thresh=2,axis=1),\"\\n\")\n",
        "print(\"Dataframe after dropping NaN(null values) values with thresh 3 and axis 0 is:\")\n",
        "print(df.dropna(thresh=3,axis=0),\"\\n\")\n",
        "print(\"Dataframe after dropping NaN(null values) values with thresh 3 and axis 1 is:\")\n",
        "print(df.dropna(thresh=3,axis=1))"
      ],
      "metadata": {
        "colab": {
          "base_uri": "https://localhost:8080/"
        },
        "id": "l0PuQQdAhI5b",
        "outputId": "f37c1f98-2d6a-4427-fa94-201bf093b69f"
      },
      "execution_count": null,
      "outputs": [
        {
          "output_type": "stream",
          "name": "stdout",
          "text": [
            "Dataframe is:\n",
            "       A   B     C     D   E\n",
            "0  100.0 NaN   NaN  50.0  50\n",
            "1    NaN NaN   NaN  40.0  40\n",
            "2    NaN NaN  80.0   NaN  80\n",
            "3   95.0 NaN  98.0  98.0  98 \n",
            "\n",
            "Dataframe after dropping NaN(null values) values with thresh 2 and axis 1 is:\n",
            "       A     C     D   E\n",
            "0  100.0   NaN  50.0  50\n",
            "1    NaN   NaN  40.0  40\n",
            "2    NaN  80.0   NaN  80\n",
            "3   95.0  98.0  98.0  98 \n",
            "\n",
            "Dataframe after dropping NaN(null values) values with thresh 3 and axis 0 is:\n",
            "       A   B     C     D   E\n",
            "0  100.0 NaN   NaN  50.0  50\n",
            "3   95.0 NaN  98.0  98.0  98 \n",
            "\n",
            "Dataframe after dropping NaN(null values) values with thresh 3 and axis 1 is:\n",
            "      D   E\n",
            "0  50.0  50\n",
            "1  40.0  40\n",
            "2   NaN  80\n",
            "3  98.0  98\n"
          ]
        }
      ]
    },
    {
      "cell_type": "code",
      "source": [
        "print(\"Dataframe is:\")\n",
        "print(df,\"\\n\")\n",
        "# dropna() with how parameter\n",
        "# any removes row or column if any value is null\n",
        "# all removes row or column if all value is null\n",
        "print(\"Dataframe after dropping NaN(null values) values with how as any and axis 0 is:\")\n",
        "print(df.dropna(how='any',axis=0),\"\\n\")\n",
        "print(\"Dataframe after dropping NaN(null values) values with how as any and axis 1 is:\")\n",
        "print(df.dropna(how='any',axis=1),\"\\n\")\n",
        "print(\"Dataframe after dropping NaN(null values) values with how as all and axis 0 is:\")\n",
        "print(df.dropna(how='all',axis=0),\"\\n\")\n",
        "print(\"Dataframe after dropping NaN(null values) values with how as all and axis 1 is:\")\n",
        "print(df.dropna(how='all',axis=1))"
      ],
      "metadata": {
        "colab": {
          "base_uri": "https://localhost:8080/"
        },
        "id": "rrRSnxM-iORP",
        "outputId": "79cabc4c-2be6-4a6e-e078-62bd9b1fbde8"
      },
      "execution_count": null,
      "outputs": [
        {
          "output_type": "stream",
          "name": "stdout",
          "text": [
            "Dataframe is:\n",
            "       A   B     C     D   E\n",
            "0  100.0 NaN   NaN  50.0  50\n",
            "1    NaN NaN   NaN  40.0  40\n",
            "2    NaN NaN  80.0   NaN  80\n",
            "3   95.0 NaN  98.0  98.0  98 \n",
            "\n",
            "Dataframe after dropping NaN(null values) values with how as any and axis 0 is:\n",
            "Empty DataFrame\n",
            "Columns: [A, B, C, D, E]\n",
            "Index: [] \n",
            "\n",
            "Dataframe after dropping NaN(null values) values with how as any and axis 1 is:\n",
            "    E\n",
            "0  50\n",
            "1  40\n",
            "2  80\n",
            "3  98 \n",
            "\n",
            "Dataframe after dropping NaN(null values) values with how as all and axis 0 is:\n",
            "       A   B     C     D   E\n",
            "0  100.0 NaN   NaN  50.0  50\n",
            "1    NaN NaN   NaN  40.0  40\n",
            "2    NaN NaN  80.0   NaN  80\n",
            "3   95.0 NaN  98.0  98.0  98 \n",
            "\n",
            "Dataframe after dropping NaN(null values) values with how as all and axis 1 is:\n",
            "       A     C     D   E\n",
            "0  100.0   NaN  50.0  50\n",
            "1    NaN   NaN  40.0  40\n",
            "2    NaN  80.0   NaN  80\n",
            "3   95.0  98.0  98.0  98\n"
          ]
        }
      ]
    },
    {
      "cell_type": "code",
      "source": [
        "print(\"Dataframe is:\")\n",
        "print(df,\"\\n\")\n",
        "print(\"After renaming A to X data frame is:\")\n",
        "print(df.rename(columns={'A':'x'}),\"\\n\")\n",
        "print(\"After renaming A,B,C to X,Y,Z data frame is:\")\n",
        "print(df.rename(columns={'A':'x','B':'Y','C':'Z'}))"
      ],
      "metadata": {
        "colab": {
          "base_uri": "https://localhost:8080/"
        },
        "id": "HzQwuS3Lk2Zi",
        "outputId": "535b109d-dbdb-4e8c-a80a-a8e805b3d601"
      },
      "execution_count": null,
      "outputs": [
        {
          "output_type": "stream",
          "name": "stdout",
          "text": [
            "Dataframe is:\n",
            "       A   B     C     D   E\n",
            "0  100.0 NaN   NaN  50.0  50\n",
            "1    NaN NaN   NaN  40.0  40\n",
            "2    NaN NaN  80.0   NaN  80\n",
            "3   95.0 NaN  98.0  98.0  98 \n",
            "\n",
            "After renaming A to X data frame is:\n",
            "       x   B     C     D   E\n",
            "0  100.0 NaN   NaN  50.0  50\n",
            "1    NaN NaN   NaN  40.0  40\n",
            "2    NaN NaN  80.0   NaN  80\n",
            "3   95.0 NaN  98.0  98.0  98 \n",
            "\n",
            "After renaming A,B,C to X,Y,Z data frame is:\n",
            "       x   Y     Z     D   E\n",
            "0  100.0 NaN   NaN  50.0  50\n",
            "1    NaN NaN   NaN  40.0  40\n",
            "2    NaN NaN  80.0   NaN  80\n",
            "3   95.0 NaN  98.0  98.0  98\n"
          ]
        }
      ]
    },
    {
      "cell_type": "code",
      "source": [
        "# Creating Dataframe\n",
        "df=pd.DataFrame({'Name':['John','Aliya','Riya','Naina','Manisha'],\n",
        "                 'ID':[2019,2021,2022,2025,2026],\n",
        "                 'Age':[21,29,25,26,27],\n",
        "                 'Salary':[41000,51000,58000,55000,60000]})\n",
        "print(\"Dataframe is:\")\n",
        "print(df,\"\\n\")\n",
        "print(\"Sort by Rows in descending order\\n\",df.sort_index(axis=0,ascending=False),\"\\n\")\n",
        "print(\"Applying ranking method\")\n",
        "df[\"Rank\"]=df[\"Salary\"].rank(method='average')\n",
        "print(df,\"\\n\")\n",
        "print(\"Display records based on condition\")\n",
        "print(df.where((df.ID>2022)&(df.Age>25)&(df.Salary>50000)),\"\\n\")\n",
        "print(\"Add new column\")\n",
        "df[\"Total\"]=df[['ID','Age','Salary']].sum(axis=1)\n",
        "print(df,\"\\n\")\n",
        "print(\"Renaming a column\")\n",
        "print(df.rename(columns={\"Total\":\"Result of sum\"}))"
      ],
      "metadata": {
        "id": "Gt2x6hZsX50y",
        "colab": {
          "base_uri": "https://localhost:8080/"
        },
        "outputId": "19e7931b-40a2-4083-e257-0527d7556f64"
      },
      "execution_count": null,
      "outputs": [
        {
          "output_type": "stream",
          "name": "stdout",
          "text": [
            "Dataframe is:\n",
            "      Name    ID  Age  Salary\n",
            "0     John  2019   21   41000\n",
            "1    Aliya  2021   29   51000\n",
            "2     Riya  2022   25   58000\n",
            "3    Naina  2025   26   55000\n",
            "4  Manisha  2026   27   60000 \n",
            "\n",
            "Sort by Rows in descending order\n",
            "       Name    ID  Age  Salary\n",
            "4  Manisha  2026   27   60000\n",
            "3    Naina  2025   26   55000\n",
            "2     Riya  2022   25   58000\n",
            "1    Aliya  2021   29   51000\n",
            "0     John  2019   21   41000 \n",
            "\n",
            "Applying ranking method\n",
            "      Name    ID  Age  Salary  Rank\n",
            "0     John  2019   21   41000   1.0\n",
            "1    Aliya  2021   29   51000   2.0\n",
            "2     Riya  2022   25   58000   4.0\n",
            "3    Naina  2025   26   55000   3.0\n",
            "4  Manisha  2026   27   60000   5.0 \n",
            "\n",
            "Display records based on condition\n",
            "      Name      ID   Age   Salary  Rank\n",
            "0      NaN     NaN   NaN      NaN   NaN\n",
            "1      NaN     NaN   NaN      NaN   NaN\n",
            "2      NaN     NaN   NaN      NaN   NaN\n",
            "3    Naina  2025.0  26.0  55000.0   3.0\n",
            "4  Manisha  2026.0  27.0  60000.0   5.0 \n",
            "\n",
            "Add new column\n",
            "      Name    ID  Age  Salary  Rank  Total\n",
            "0     John  2019   21   41000   1.0  43040\n",
            "1    Aliya  2021   29   51000   2.0  53050\n",
            "2     Riya  2022   25   58000   4.0  60047\n",
            "3    Naina  2025   26   55000   3.0  57051\n",
            "4  Manisha  2026   27   60000   5.0  62053 \n",
            "\n",
            "Renaming a column\n",
            "      Name    ID  Age  Salary  Rank  Result of sum\n",
            "0     John  2019   21   41000   1.0          43040\n",
            "1    Aliya  2021   29   51000   2.0          53050\n",
            "2     Riya  2022   25   58000   4.0          60047\n",
            "3    Naina  2025   26   55000   3.0          57051\n",
            "4  Manisha  2026   27   60000   5.0          62053\n"
          ]
        }
      ]
    },
    {
      "cell_type": "code",
      "execution_count": null,
      "metadata": {
        "colab": {
          "base_uri": "https://localhost:8080/"
        },
        "id": "9SjEuTtpmPWi",
        "outputId": "103b9b2c-b27a-4309-fe22-1d49120f2d6b"
      },
      "outputs": [
        {
          "output_type": "stream",
          "name": "stdout",
          "text": [
            "Data Transformation:\n",
            "Before analyzing the dataset ,it is needed to transform the dataset,this process is called data transformation\n"
          ]
        }
      ],
      "source": [
        "# Data Transformation\n",
        "B='''Before analyzing the dataset ,it is needed to transform the dataset,this process is called data transformation'''\n",
        "print(\"Data Transformation:\")\n",
        "print(B)"
      ]
    },
    {
      "cell_type": "code",
      "source": [
        "data=[(3,5,7),(2,4,6),(5,8,9)]\n",
        "df=pd.DataFrame(data,columns=['A','B','C'])\n",
        "print(\"Dataframe is:\")\n",
        "print(df,\"\\n\")\n",
        "# Defining functions for dataframe\n",
        "# Addition function\n",
        "def add_3(x):\n",
        "  return x+3\n",
        "df=df.apply(add_3)\n",
        "print(\"Addition of Dataframe is:\")\n",
        "print(df,\"\\n\")\n",
        "# Using apply function single column\n",
        "# Addition function\n",
        "def add_A(x):\n",
        "  return x+4\n",
        "df['B']=df['B'].apply(add_A)\n",
        "print(\"Addition of Dataframe in single column is:\")\n",
        "print(df)"
      ],
      "metadata": {
        "colab": {
          "base_uri": "https://localhost:8080/"
        },
        "id": "xYEKzMbZnEg0",
        "outputId": "9e4cb9ad-abfd-47b7-f978-b487949e0f8f"
      },
      "execution_count": null,
      "outputs": [
        {
          "output_type": "stream",
          "name": "stdout",
          "text": [
            "Dataframe is:\n",
            "   A  B  C\n",
            "0  3  5  7\n",
            "1  2  4  6\n",
            "2  5  8  9 \n",
            "\n",
            "Addition of Dataframe is:\n",
            "   A   B   C\n",
            "0  6   8  10\n",
            "1  5   7   9\n",
            "2  8  11  12 \n",
            "\n",
            "Addition of Dataframe in single column is:\n",
            "   A   B   C\n",
            "0  6  12  10\n",
            "1  5  11   9\n",
            "2  8  15  12\n"
          ]
        }
      ]
    },
    {
      "cell_type": "code",
      "source": [
        "# Defining functions for dataframe\n",
        "# Square function\n",
        "def square(x):\n",
        "  return x*x\n",
        "df=df.apply(square)\n",
        "print(\"Square of Dataframe is:\")\n",
        "print(df,\"\\n\")\n",
        "# small or anonymous function\n",
        "df=df.apply(lambda x:x*x)\n",
        "print(\"Square of Dataframe is:\")\n",
        "print(df,\"\\n\")\n",
        "# Single Line function\n",
        "df=df.apply(lambda x:x+10)\n",
        "print(\"Addition of Dataframe is:\")\n",
        "print(df)"
      ],
      "metadata": {
        "colab": {
          "base_uri": "https://localhost:8080/"
        },
        "id": "mmUs1VRXpjR5",
        "outputId": "162bea0b-7e48-4fae-8152-1f354b9c8804"
      },
      "execution_count": null,
      "outputs": [
        {
          "output_type": "stream",
          "name": "stdout",
          "text": [
            "Square of Dataframe is:\n",
            "      A      B      C\n",
            "0  2116  23716  12100\n",
            "1  1225  17161   8281\n",
            "2  5476  55225  23716 \n",
            "\n",
            "Square of Dataframe is:\n",
            "          A           B          C\n",
            "0   4477456   562448656  146410000\n",
            "1   1500625   294499921   68574961\n",
            "2  29986576  3049800625  562448656 \n",
            "\n",
            "Addition of Dataframe is:\n",
            "          A           B          C\n",
            "0   4477466   562448666  146410010\n",
            "1   1500635   294499931   68574971\n",
            "2  29986586  3049800635  562448666\n"
          ]
        }
      ]
    },
    {
      "cell_type": "code",
      "source": [
        "data=[(3,5,7),(2,4,6),(5,8,9)]\n",
        "df=pd.DataFrame(data,columns=['A','B','C'])\n",
        "print(\"Dataframe is:\")\n",
        "print(df,\"\\n\")\n",
        "# Applying function\n",
        "df['A']=df['A'].map(lambda x:x+10)\n",
        "print(\"Addition of Dataframe is:\")\n",
        "print(df)"
      ],
      "metadata": {
        "colab": {
          "base_uri": "https://localhost:8080/"
        },
        "id": "gFNm53njsE6K",
        "outputId": "2fbdcd65-2f87-48ab-cf87-5093910c0089"
      },
      "execution_count": 6,
      "outputs": [
        {
          "output_type": "stream",
          "name": "stdout",
          "text": [
            "Dataframe is:\n",
            "   A  B  C\n",
            "0  3  5  7\n",
            "1  2  4  6\n",
            "2  5  8  9 \n",
            "\n",
            "Addition of Dataframe is:\n",
            "    A  B  C\n",
            "0  13  5  7\n",
            "1  12  4  6\n",
            "2  15  8  9\n"
          ]
        }
      ]
    },
    {
      "cell_type": "code",
      "source": [
        "# Data cleaning\n",
        "A='''\n",
        " -> Dealing with disordered data\n",
        " -> Process of changing or eliminating missing data,duplicate or invalid or inconsistent'''\n",
        "print(\"Data Cleaning\")\n",
        "print(A,\"\\n\")\n",
        "# Handling missing data\n",
        "print(\"Handling missing data:\")\n",
        "A=\"1 Finding missing values and correcting them\"\n",
        "print(A)"
      ],
      "metadata": {
        "colab": {
          "base_uri": "https://localhost:8080/"
        },
        "id": "_lf3XCJcsvEq",
        "outputId": "b4a7039c-68e8-4495-f8c2-7fb7bf1a42f6"
      },
      "execution_count": 3,
      "outputs": [
        {
          "output_type": "stream",
          "name": "stdout",
          "text": [
            "Data Cleaning\n",
            "\n",
            " -> Dealing with disordered data\n",
            " -> Process of changing or eliminating missing data,duplicate or invalid or inconsistent \n",
            "\n",
            "Handling missing data:\n",
            "1 Finding missing values and correcting them\n"
          ]
        }
      ]
    },
    {
      "cell_type": "code",
      "source": [
        "print(\"Dataframe is:\")\n",
        "print(df,\"\\n\")\n",
        "print(\"Checking for null values:\")\n",
        "df.isnull()"
      ],
      "metadata": {
        "colab": {
          "base_uri": "https://localhost:8080/",
          "height": 265
        },
        "id": "KXeLuIwUu3hh",
        "outputId": "d425014b-ed0a-4f44-8b7f-de5a761ae5f7"
      },
      "execution_count": 7,
      "outputs": [
        {
          "output_type": "stream",
          "name": "stdout",
          "text": [
            "Dataframe is:\n",
            "    A  B  C\n",
            "0  13  5  7\n",
            "1  12  4  6\n",
            "2  15  8  9 \n",
            "\n",
            "Checking for null values:\n"
          ]
        },
        {
          "output_type": "execute_result",
          "data": {
            "text/plain": [
              "       A      B      C\n",
              "0  False  False  False\n",
              "1  False  False  False\n",
              "2  False  False  False"
            ],
            "text/html": [
              "\n",
              "\n",
              "  <div id=\"df-a8e69501-8acb-4be0-b27b-58c747efada8\">\n",
              "    <div class=\"colab-df-container\">\n",
              "      <div>\n",
              "<style scoped>\n",
              "    .dataframe tbody tr th:only-of-type {\n",
              "        vertical-align: middle;\n",
              "    }\n",
              "\n",
              "    .dataframe tbody tr th {\n",
              "        vertical-align: top;\n",
              "    }\n",
              "\n",
              "    .dataframe thead th {\n",
              "        text-align: right;\n",
              "    }\n",
              "</style>\n",
              "<table border=\"1\" class=\"dataframe\">\n",
              "  <thead>\n",
              "    <tr style=\"text-align: right;\">\n",
              "      <th></th>\n",
              "      <th>A</th>\n",
              "      <th>B</th>\n",
              "      <th>C</th>\n",
              "    </tr>\n",
              "  </thead>\n",
              "  <tbody>\n",
              "    <tr>\n",
              "      <th>0</th>\n",
              "      <td>False</td>\n",
              "      <td>False</td>\n",
              "      <td>False</td>\n",
              "    </tr>\n",
              "    <tr>\n",
              "      <th>1</th>\n",
              "      <td>False</td>\n",
              "      <td>False</td>\n",
              "      <td>False</td>\n",
              "    </tr>\n",
              "    <tr>\n",
              "      <th>2</th>\n",
              "      <td>False</td>\n",
              "      <td>False</td>\n",
              "      <td>False</td>\n",
              "    </tr>\n",
              "  </tbody>\n",
              "</table>\n",
              "</div>\n",
              "      <button class=\"colab-df-convert\" onclick=\"convertToInteractive('df-a8e69501-8acb-4be0-b27b-58c747efada8')\"\n",
              "              title=\"Convert this dataframe to an interactive table.\"\n",
              "              style=\"display:none;\">\n",
              "\n",
              "  <svg xmlns=\"http://www.w3.org/2000/svg\" height=\"24px\"viewBox=\"0 0 24 24\"\n",
              "       width=\"24px\">\n",
              "    <path d=\"M0 0h24v24H0V0z\" fill=\"none\"/>\n",
              "    <path d=\"M18.56 5.44l.94 2.06.94-2.06 2.06-.94-2.06-.94-.94-2.06-.94 2.06-2.06.94zm-11 1L8.5 8.5l.94-2.06 2.06-.94-2.06-.94L8.5 2.5l-.94 2.06-2.06.94zm10 10l.94 2.06.94-2.06 2.06-.94-2.06-.94-.94-2.06-.94 2.06-2.06.94z\"/><path d=\"M17.41 7.96l-1.37-1.37c-.4-.4-.92-.59-1.43-.59-.52 0-1.04.2-1.43.59L10.3 9.45l-7.72 7.72c-.78.78-.78 2.05 0 2.83L4 21.41c.39.39.9.59 1.41.59.51 0 1.02-.2 1.41-.59l7.78-7.78 2.81-2.81c.8-.78.8-2.07 0-2.86zM5.41 20L4 18.59l7.72-7.72 1.47 1.35L5.41 20z\"/>\n",
              "  </svg>\n",
              "      </button>\n",
              "\n",
              "\n",
              "\n",
              "    <div id=\"df-48f7a193-dad2-4378-b2f6-e57ae29d62cc\">\n",
              "      <button class=\"colab-df-quickchart\" onclick=\"quickchart('df-48f7a193-dad2-4378-b2f6-e57ae29d62cc')\"\n",
              "              title=\"Suggest charts.\"\n",
              "              style=\"display:none;\">\n",
              "\n",
              "<svg xmlns=\"http://www.w3.org/2000/svg\" height=\"24px\"viewBox=\"0 0 24 24\"\n",
              "     width=\"24px\">\n",
              "    <g>\n",
              "        <path d=\"M19 3H5c-1.1 0-2 .9-2 2v14c0 1.1.9 2 2 2h14c1.1 0 2-.9 2-2V5c0-1.1-.9-2-2-2zM9 17H7v-7h2v7zm4 0h-2V7h2v10zm4 0h-2v-4h2v4z\"/>\n",
              "    </g>\n",
              "</svg>\n",
              "      </button>\n",
              "    </div>\n",
              "\n",
              "<style>\n",
              "  .colab-df-quickchart {\n",
              "    background-color: #E8F0FE;\n",
              "    border: none;\n",
              "    border-radius: 50%;\n",
              "    cursor: pointer;\n",
              "    display: none;\n",
              "    fill: #1967D2;\n",
              "    height: 32px;\n",
              "    padding: 0 0 0 0;\n",
              "    width: 32px;\n",
              "  }\n",
              "\n",
              "  .colab-df-quickchart:hover {\n",
              "    background-color: #E2EBFA;\n",
              "    box-shadow: 0px 1px 2px rgba(60, 64, 67, 0.3), 0px 1px 3px 1px rgba(60, 64, 67, 0.15);\n",
              "    fill: #174EA6;\n",
              "  }\n",
              "\n",
              "  [theme=dark] .colab-df-quickchart {\n",
              "    background-color: #3B4455;\n",
              "    fill: #D2E3FC;\n",
              "  }\n",
              "\n",
              "  [theme=dark] .colab-df-quickchart:hover {\n",
              "    background-color: #434B5C;\n",
              "    box-shadow: 0px 1px 3px 1px rgba(0, 0, 0, 0.15);\n",
              "    filter: drop-shadow(0px 1px 2px rgba(0, 0, 0, 0.3));\n",
              "    fill: #FFFFFF;\n",
              "  }\n",
              "</style>\n",
              "\n",
              "    <script>\n",
              "      async function quickchart(key) {\n",
              "        const containerElement = document.querySelector('#' + key);\n",
              "        const charts = await google.colab.kernel.invokeFunction(\n",
              "            'suggestCharts', [key], {});\n",
              "      }\n",
              "    </script>\n",
              "\n",
              "      <script>\n",
              "\n",
              "function displayQuickchartButton(domScope) {\n",
              "  let quickchartButtonEl =\n",
              "    domScope.querySelector('#df-48f7a193-dad2-4378-b2f6-e57ae29d62cc button.colab-df-quickchart');\n",
              "  quickchartButtonEl.style.display =\n",
              "    google.colab.kernel.accessAllowed ? 'block' : 'none';\n",
              "}\n",
              "\n",
              "        displayQuickchartButton(document);\n",
              "      </script>\n",
              "      <style>\n",
              "    .colab-df-container {\n",
              "      display:flex;\n",
              "      flex-wrap:wrap;\n",
              "      gap: 12px;\n",
              "    }\n",
              "\n",
              "    .colab-df-convert {\n",
              "      background-color: #E8F0FE;\n",
              "      border: none;\n",
              "      border-radius: 50%;\n",
              "      cursor: pointer;\n",
              "      display: none;\n",
              "      fill: #1967D2;\n",
              "      height: 32px;\n",
              "      padding: 0 0 0 0;\n",
              "      width: 32px;\n",
              "    }\n",
              "\n",
              "    .colab-df-convert:hover {\n",
              "      background-color: #E2EBFA;\n",
              "      box-shadow: 0px 1px 2px rgba(60, 64, 67, 0.3), 0px 1px 3px 1px rgba(60, 64, 67, 0.15);\n",
              "      fill: #174EA6;\n",
              "    }\n",
              "\n",
              "    [theme=dark] .colab-df-convert {\n",
              "      background-color: #3B4455;\n",
              "      fill: #D2E3FC;\n",
              "    }\n",
              "\n",
              "    [theme=dark] .colab-df-convert:hover {\n",
              "      background-color: #434B5C;\n",
              "      box-shadow: 0px 1px 3px 1px rgba(0, 0, 0, 0.15);\n",
              "      filter: drop-shadow(0px 1px 2px rgba(0, 0, 0, 0.3));\n",
              "      fill: #FFFFFF;\n",
              "    }\n",
              "  </style>\n",
              "\n",
              "      <script>\n",
              "        const buttonEl =\n",
              "          document.querySelector('#df-a8e69501-8acb-4be0-b27b-58c747efada8 button.colab-df-convert');\n",
              "        buttonEl.style.display =\n",
              "          google.colab.kernel.accessAllowed ? 'block' : 'none';\n",
              "\n",
              "        async function convertToInteractive(key) {\n",
              "          const element = document.querySelector('#df-a8e69501-8acb-4be0-b27b-58c747efada8');\n",
              "          const dataTable =\n",
              "            await google.colab.kernel.invokeFunction('convertToInteractive',\n",
              "                                                     [key], {});\n",
              "          if (!dataTable) return;\n",
              "\n",
              "          const docLinkHtml = 'Like what you see? Visit the ' +\n",
              "            '<a target=\"_blank\" href=https://colab.research.google.com/notebooks/data_table.ipynb>data table notebook</a>'\n",
              "            + ' to learn more about interactive tables.';\n",
              "          element.innerHTML = '';\n",
              "          dataTable['output_type'] = 'display_data';\n",
              "          await google.colab.output.renderOutput(dataTable, element);\n",
              "          const docLink = document.createElement('div');\n",
              "          docLink.innerHTML = docLinkHtml;\n",
              "          element.appendChild(docLink);\n",
              "        }\n",
              "      </script>\n",
              "    </div>\n",
              "  </div>\n"
            ]
          },
          "metadata": {},
          "execution_count": 7
        }
      ]
    },
    {
      "cell_type": "code",
      "source": [
        "data2=[(3,5,7),(2,4,6),(np.NaN,np.NaN,np.NaN)]\n",
        "df2=pd.DataFrame(data2)\n",
        "print(\"Dataframe is:\")\n",
        "print(df2,\"\\n\")\n",
        "print(\"Checking for null values:\")\n",
        "print(df2.isnull(),\"\\n\")\n",
        "print(\"Filling null values with BAD:\")\n",
        "print(df2.fillna('BAD'),\"\\n\")\n",
        "print(\"Replacing 5.0 with 9 in Dataframe:\")\n",
        "print(df2.replace(5.0,9))"
      ],
      "metadata": {
        "id": "I1CqF7xjvBzh",
        "colab": {
          "base_uri": "https://localhost:8080/"
        },
        "outputId": "2297dc8e-3112-461a-dfda-e9558a8473c9"
      },
      "execution_count": 12,
      "outputs": [
        {
          "output_type": "stream",
          "name": "stdout",
          "text": [
            "Dataframe is:\n",
            "     0    1    2\n",
            "0  3.0  5.0  7.0\n",
            "1  2.0  4.0  6.0\n",
            "2  NaN  NaN  NaN \n",
            "\n",
            "Checking for null values:\n",
            "       0      1      2\n",
            "0  False  False  False\n",
            "1  False  False  False\n",
            "2   True   True   True \n",
            "\n",
            "Filling null values with BAD:\n",
            "     0    1    2\n",
            "0  3.0  5.0  7.0\n",
            "1  2.0  4.0  6.0\n",
            "2  BAD  BAD  BAD \n",
            "\n",
            "Replacing 5.0 with 9 in Dataframe:\n",
            "     0    1    2\n",
            "0  3.0  9.0  7.0\n",
            "1  2.0  4.0  6.0\n",
            "2  NaN  NaN  NaN\n"
          ]
        }
      ]
    },
    {
      "cell_type": "code",
      "source": [
        "# Creating Dataframe\n",
        "a = {'name':['Michael Smith','Ana Kors','Sean Bill','Carl jonson','Bob Evan'],\n",
        "     'grade':[['A','A'],['C'],['A','C','B'],[],['F']],\n",
        "     'age':[19,19,17,18,63],\n",
        "     'group':['class1','class2','class2','class1','class2'],\n",
        "     'Suspended':[True,False,True,False,True]}\n",
        "df = pd.DataFrame(a)\n",
        "print(\"Dataframe is:\")\n",
        "print(df,\"\\n\")\n",
        "# Using str functions\n",
        "print(\"Str name in upper case is:\")\n",
        "print(df.name.str.upper(),\"\\n\")\n",
        "print(\"Str name in lower case is:\")\n",
        "print(df.name.str.lower(),\"\\n\")\n",
        "print(\"Str name after checking for upper case is:\")\n",
        "print(df.name.str.isupper(),\"\\n\")\n",
        "print(\"Str name after checking for lower case is:\")\n",
        "print(df.name.str.islower(),\"\\n\")\n",
        "# print(df.age.str.isnumeric())-Dosen't work as string is not numeric\n",
        "print(\"Length of name string is:\")\n",
        "print(df.name.str.len(),\"\\n\")"
      ],
      "metadata": {
        "id": "C0GDyim0wfmh",
        "colab": {
          "base_uri": "https://localhost:8080/"
        },
        "outputId": "bab7594d-eb87-4d1e-c306-1930d2c6f0fa"
      },
      "execution_count": 17,
      "outputs": [
        {
          "output_type": "stream",
          "name": "stdout",
          "text": [
            "Dataframe is:\n",
            "            name      grade  age   group  Suspended\n",
            "0  Michael Smith     [A, A]   19  class1       True\n",
            "1       Ana Kors        [C]   19  class2      False\n",
            "2      Sean Bill  [A, C, B]   17  class2       True\n",
            "3    Carl jonson         []   18  class1      False\n",
            "4       Bob Evan        [F]   63  class2       True \n",
            "\n",
            "Str name in upper case is:\n",
            "0    MICHAEL SMITH\n",
            "1         ANA KORS\n",
            "2        SEAN BILL\n",
            "3      CARL JONSON\n",
            "4         BOB EVAN\n",
            "Name: name, dtype: object \n",
            "\n",
            "Str name in lower case is:\n",
            "0    michael smith\n",
            "1         ana kors\n",
            "2        sean bill\n",
            "3      carl jonson\n",
            "4         bob evan\n",
            "Name: name, dtype: object \n",
            "\n",
            "Str name after checking for upper case is:\n",
            "0    False\n",
            "1    False\n",
            "2    False\n",
            "3    False\n",
            "4    False\n",
            "Name: name, dtype: bool \n",
            "\n",
            "Str name after checking for lower case is:\n",
            "0    False\n",
            "1    False\n",
            "2    False\n",
            "3    False\n",
            "4    False\n",
            "Name: name, dtype: bool \n",
            "\n",
            "Length of name string is:\n",
            "0    13\n",
            "1     8\n",
            "2     9\n",
            "3    11\n",
            "4     8\n",
            "Name: name, dtype: int64 \n",
            "\n"
          ]
        }
      ]
    },
    {
      "cell_type": "code",
      "source": [
        "a = {'name':['Michael Smith','Ana Kors','Sean Bill','Carl jonson','Bob Evan'],\n",
        "     'grade':[['A','A'],['C'],['A','C','B'],[],['F']],\n",
        "     'age':[19,19,17,18,63],\n",
        "     'group':['class1','class2','class2','class1','class2'],\n",
        "     'Suspended':[True,False,True,False,True]}\n",
        "df = pd.DataFrame(a)\n",
        "print(\"Dataframe is:\")\n",
        "print(df,\"\\n\")\n",
        "print(\"Splitting name string with \" \" is:\")\n",
        "print(df.name.str.split(\" \"),\"\\n\")\n",
        "print(\"Printing name starting with M are:\")\n",
        "print(df.name.str.startswith('M'),\"\\n\")\n",
        "print(\"Printing name ending with l are:\")\n",
        "print(df.name.str.endswith('l'))\n",
        "print(\"Finding s in name string:\")\n",
        "print(df.name.str.find('s'),\"\\n\")\n",
        "print(\"Finding B in name string:\")\n",
        "print(df.name.str.findall('B'),\"\\n\")\n",
        "print(\"Finding e in name string:\")\n",
        "print(df.name.str.contains('e'),\"\\n\")\n",
        "print(df,'\\n')"
      ],
      "metadata": {
        "colab": {
          "base_uri": "https://localhost:8080/"
        },
        "id": "3U7ogC09IgWU",
        "outputId": "51448d90-b34d-4987-8d55-d2fedeb4602b"
      },
      "execution_count": 18,
      "outputs": [
        {
          "output_type": "stream",
          "name": "stdout",
          "text": [
            "Dataframe is:\n",
            "            name      grade  age   group  Suspended\n",
            "0  Michael Smith     [A, A]   19  class1       True\n",
            "1       Ana Kors        [C]   19  class2      False\n",
            "2      Sean Bill  [A, C, B]   17  class2       True\n",
            "3    Carl jonson         []   18  class1      False\n",
            "4       Bob Evan        [F]   63  class2       True \n",
            "\n",
            "Splitting name string with  is:\n",
            "0    [Michael, Smith]\n",
            "1         [Ana, Kors]\n",
            "2        [Sean, Bill]\n",
            "3      [Carl, jonson]\n",
            "4         [Bob, Evan]\n",
            "Name: name, dtype: object \n",
            "\n",
            "Printing name starting with M are:\n",
            "0     True\n",
            "1    False\n",
            "2    False\n",
            "3    False\n",
            "4    False\n",
            "Name: name, dtype: bool \n",
            "\n",
            "Printing name ending with l are:\n",
            "0    False\n",
            "1    False\n",
            "2     True\n",
            "3    False\n",
            "4    False\n",
            "Name: name, dtype: bool\n",
            "Finding s in name string:\n",
            "0   -1\n",
            "1    7\n",
            "2   -1\n",
            "3    8\n",
            "4   -1\n",
            "Name: name, dtype: int64 \n",
            "\n",
            "Finding B in name string:\n",
            "0     []\n",
            "1     []\n",
            "2    [B]\n",
            "3     []\n",
            "4    [B]\n",
            "Name: name, dtype: object \n",
            "\n",
            "Finding e in name string:\n",
            "0     True\n",
            "1    False\n",
            "2     True\n",
            "3    False\n",
            "4    False\n",
            "Name: name, dtype: bool \n",
            "\n",
            "            name      grade  age   group  Suspended\n",
            "0  Michael Smith     [A, A]   19  class1       True\n",
            "1       Ana Kors        [C]   19  class2      False\n",
            "2      Sean Bill  [A, C, B]   17  class2       True\n",
            "3    Carl jonson         []   18  class1      False\n",
            "4       Bob Evan        [F]   63  class2       True \n",
            "\n"
          ]
        }
      ]
    },
    {
      "cell_type": "code",
      "source": [
        "# Plotting using plot function\n",
        "df.plot(kind='line',x='name',y='age',color='red',figsize=(10,6))"
      ],
      "metadata": {
        "colab": {
          "base_uri": "https://localhost:8080/",
          "height": 478
        },
        "id": "GT0LXkO9JaZA",
        "outputId": "eddcafe1-1c04-421d-e9ab-411d57784313"
      },
      "execution_count": 19,
      "outputs": [
        {
          "output_type": "execute_result",
          "data": {
            "text/plain": [
              "<Axes: xlabel='name'>"
            ]
          },
          "metadata": {},
          "execution_count": 19
        },
        {
          "output_type": "display_data",
          "data": {
            "text/plain": [
              "<Figure size 1000x600 with 1 Axes>"
            ],
            "image/png": "[encoded data removed]"
          },
          "metadata": {}
        }
      ]
    },
    {
      "cell_type": "code",
      "source": [
        "# Creating dataframe\n",
        "df=pd.DataFrame({'name':[1,2,3,4],'age':[1,4,9,16]})\n",
        "print(\"Dataframe is:\")\n",
        "print(df,\"\\n\")\n",
        "# Plotting using plot function\n",
        "df.plot(kind='line',x='name',y='age',color='green',figsize=(10,6))"
      ],
      "metadata": {
        "colab": {
          "base_uri": "https://localhost:8080/",
          "height": 600
        },
        "id": "_RLlR_4hMuoA",
        "outputId": "fdba5100-90ac-4cd3-e57a-bcf9627f3a9d"
      },
      "execution_count": 20,
      "outputs": [
        {
          "output_type": "stream",
          "name": "stdout",
          "text": [
            "Dataframe is:\n",
            "   name  age\n",
            "0     1    1\n",
            "1     2    4\n",
            "2     3    9\n",
            "3     4   16 \n",
            "\n"
          ]
        },
        {
          "output_type": "execute_result",
          "data": {
            "text/plain": [
              "<Axes: xlabel='name'>"
            ]
          },
          "metadata": {},
          "execution_count": 20
        },
        {
          "output_type": "display_data",
          "data": {
            "text/plain": [
              "<Figure size 1000x600 with 1 Axes>"
            ],
            "image/png": "[encoded data removed]"
          },
          "metadata": {}
        }
      ]
    },
    {
      "cell_type": "code",
      "source": [
        "# Making two list and putting values in them\n",
        "# Square of all numbers from 1 to 55\n",
        "l1=[]\n",
        "l2=[]\n",
        "for i in range(1,56):\n",
        "  a=i*i\n",
        "  l1.append(i)\n",
        "  l2.append(a)\n",
        "# Creating dataframe\n",
        "df=pd.DataFrame({'name':l1,'age':l2})\n",
        "print(\"Dataframe is:\")\n",
        "print(df[1:13],\"\\n\")\n",
        "# Plotting using plot function\n",
        "df.plot(kind='line',x='name',y='age',color='green',figsize=(10,6))"
      ],
      "metadata": {
        "colab": {
          "base_uri": "https://localhost:8080/",
          "height": 730
        },
        "id": "-lFnjZ76OVJS",
        "outputId": "d5b47995-3f9b-402b-d5d2-9f2317ebd14f"
      },
      "execution_count": 22,
      "outputs": [
        {
          "output_type": "stream",
          "name": "stdout",
          "text": [
            "Dataframe is:\n",
            "    name  age\n",
            "1      2    4\n",
            "2      3    9\n",
            "3      4   16\n",
            "4      5   25\n",
            "5      6   36\n",
            "6      7   49\n",
            "7      8   64\n",
            "8      9   81\n",
            "9     10  100\n",
            "10    11  121\n",
            "11    12  144\n",
            "12    13  169 \n",
            "\n"
          ]
        },
        {
          "output_type": "execute_result",
          "data": {
            "text/plain": [
              "<Axes: xlabel='name'>"
            ]
          },
          "metadata": {},
          "execution_count": 22
        },
        {
          "output_type": "display_data",
          "data": {
            "text/plain": [
              "<Figure size 1000x600 with 1 Axes>"
            ],
            "image/png": "[encoded data removed]"
          },
          "metadata": {}
        }
      ]
    }
  ]
}