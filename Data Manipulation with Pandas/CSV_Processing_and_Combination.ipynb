{
 "cells": [
  {
   "cell_type": "markdown",
   "id": "df7c8d15",
   "metadata": {},
   "source": [
    "## CSV Data Processing and Combination Script\n",
    "\n",
    "### Here we have multiple CSV Files stored in a directory and we will read data form there, divide two columns from each CSV File and then store the result in a new column with the same name as that of CSV File. Finally this File will be saved as Combined_CSV_File CSV File."
   ]
  },
  {
   "cell_type": "markdown",
   "id": "26dc3f0e",
   "metadata": {},
   "source": [
    "### Taking Sample Data for this\n",
    "\n",
    "### _Here we are taking 3 sample data then we will simple save them as CSV File_"
   ]
  },
  {
   "cell_type": "code",
   "execution_count": 1,
   "id": "8f79d671",
   "metadata": {},
   "outputs": [],
   "source": [
    "import pandas as pd\n",
    "\n",
    "# Define data for each CSV file\n",
    "data1 = {\n",
    "    'column1': [10, 20, 30, 40],\n",
    "    'column2': [15, 25, 35, 45],\n",
    "    'column3': [12, 22, 32, 42]\n",
    "}\n",
    "\n",
    "data2 = {\n",
    "    'column1': [50, 60, 70, 80],\n",
    "    'column2': [55, 65, 75, 85],\n",
    "    'column3': [52, 62, 72, 82]\n",
    "}\n",
    "\n",
    "data3 = {\n",
    "    'column1': [90, 100, 110, 120],\n",
    "    'column2': [95, 105, 115, 125],\n",
    "    'column3': [92, 102, 112, 122]\n",
    "}\n",
    "\n",
    "# Create DataFrame for each file\n",
    "df1 = pd.DataFrame(data1)\n",
    "df2 = pd.DataFrame(data2)\n",
    "df3 = pd.DataFrame(data3)\n",
    "\n",
    "# Save each DataFrame to a CSV file\n",
    "df1.to_csv(r'Path_to_File', index=False)\n",
    "df2.to_csv(r'Path_to_File', index=False)\n",
    "df3.to_csv(r'Path_to_File', index=False)"
   ]
  },
  {
   "cell_type": "markdown",
   "id": "b82f7a19",
   "metadata": {},
   "source": [
    "### Printing Dataset"
   ]
  },
  {
   "cell_type": "code",
   "execution_count": 2,
   "id": "66ed2fd5",
   "metadata": {},
   "outputs": [
    {
     "name": "stdout",
     "output_type": "stream",
     "text": [
      "First Dataframe is:\n",
      "\n",
      "   column1  column2  column3\n",
      "0       10       15       12\n",
      "1       20       25       22\n",
      "2       30       35       32\n",
      "3       40       45       42\n",
      "\n",
      "Second Dataframe is:\n",
      "\n",
      "   column1  column2  column3\n",
      "0       50       55       52\n",
      "1       60       65       62\n",
      "2       70       75       72\n",
      "3       80       85       82\n",
      "\n",
      "Third Dataframe is:\n",
      "\n",
      "   column1  column2  column3\n",
      "0       90       95       92\n",
      "1      100      105      102\n",
      "2      110      115      112\n",
      "3      120      125      122\n"
     ]
    }
   ],
   "source": [
    "print(\"First Dataframe is:\\n\")\n",
    "print(df1)\n",
    "\n",
    "print()\n",
    "\n",
    "print(\"Second Dataframe is:\\n\")\n",
    "print(df2)\n",
    "\n",
    "print()\n",
    "\n",
    "print(\"Third Dataframe is:\\n\")\n",
    "print(df3)"
   ]
  },
  {
   "cell_type": "markdown",
   "id": "a205dcd4",
   "metadata": {},
   "source": [
    "### Reading Files from directory"
   ]
  },
  {
   "cell_type": "code",
   "execution_count": 3,
   "id": "4a013016",
   "metadata": {},
   "outputs": [],
   "source": [
    "import os\n",
    "\n",
    "# Function to process each CSV file\n",
    "\n",
    "def process_csv(file_path):\n",
    "    \n",
    "    # Read the CSV file into a DataFrame\n",
    "    df = pd.read_csv(file_path)\n",
    "    \n",
    "    # Extract file name without extension\n",
    "    file_name = os.path.splitext(os.path.basename(file_path))[0]\n",
    "    \n",
    "    # Perform division and multiplication\n",
    "    df['new_column'] = (df['column1'] / df['column2']) * 100\n",
    "    \n",
    "    # Add a new column with the file name\n",
    "    df['file_name'] = file_name\n",
    "    \n",
    "    return df\n",
    "\n",
    "# List of CSV files to process\n",
    "csv_files = ['File1.csv', 'File2.csv', 'File3.csv']  # Add CSV file names here\n",
    "\n",
    "# List to store DataFrames\n",
    "dfs = []\n",
    "\n",
    "# Process each CSV file\n",
    "for file in csv_files:\n",
    "    \n",
    "    file_path = os.path.join(r'Path_to_Directory', file)  # Update the path accordingly\n",
    "    df = process_csv(file_path)\n",
    "    dfs.append(df)\n",
    "\n",
    "# Concatenate DataFrames\n",
    "combined_df = pd.concat(dfs, ignore_index=True)\n",
    "\n",
    "# Save combined DataFrame to a new CSV file\n",
    "combined_df.to_csv(r'Path_to_File', index=False)"
   ]
  },
  {
   "cell_type": "code",
   "execution_count": 4,
   "id": "2f9d697f",
   "metadata": {},
   "outputs": [],
   "source": [
    "import os\n",
    "import pandas as pd\n",
    "\n",
    "# Function to process each CSV file\n",
    "def process_csv(file_path):\n",
    "    \n",
    "    result_df = pd.DataFrame()\n",
    "    \n",
    "    # Read the CSV file into a DataFrame\n",
    "    df = pd.read_csv(file_path)\n",
    "    \n",
    "    # Extract file name without extension\n",
    "    file_name = os.path.splitext(os.path.basename(file_path))[0]\n",
    "    \n",
    "    # Perform division and multiplication\n",
    "    result_df[file_name] = (df['column1'] / df['column2']) * 100\n",
    "    \n",
    "    return result_df\n",
    "\n",
    "# List of CSV files to process\n",
    "csv_files = ['File1.csv', 'File2.csv', 'File3.csv']\n",
    "\n",
    "combined_df = pd.DataFrame()\n",
    "\n",
    "# Process each CSV file\n",
    "for file in csv_files:\n",
    "    \n",
    "    file_path = os.path.join(r'Path_to_Directory', file)  # Update the path accordingly\n",
    "    df = process_csv(file_path)\n",
    "    combined_df = pd.concat([combined_df, df], axis = 1)\n",
    "\n",
    "# Save combined DataFrame to a new CSV file\n",
    "combined_df.to_csv(r'Path_to_File', index=False)"
   ]
  },
  {
   "cell_type": "markdown",
   "id": "eeec22b6",
   "metadata": {},
   "source": [
    "### Printing Resultant Dataframe"
   ]
  },
  {
   "cell_type": "code",
   "execution_count": 5,
   "id": "75972bb8",
   "metadata": {},
   "outputs": [
    {
     "name": "stdout",
     "output_type": "stream",
     "text": [
      "Resultant Dataframe is:\n",
      "\n"
     ]
    },
    {
     "data": {
      "text/html": [
       "<div>\n",
       "<style scoped>\n",
       "    .dataframe tbody tr th:only-of-type {\n",
       "        vertical-align: middle;\n",
       "    }\n",
       "\n",
       "    .dataframe tbody tr th {\n",
       "        vertical-align: top;\n",
       "    }\n",
       "\n",
       "    .dataframe thead th {\n",
       "        text-align: right;\n",
       "    }\n",
       "</style>\n",
       "<table border=\"1\" class=\"dataframe\">\n",
       "  <thead>\n",
       "    <tr style=\"text-align: right;\">\n",
       "      <th></th>\n",
       "      <th>File1</th>\n",
       "      <th>File2</th>\n",
       "      <th>File3</th>\n",
       "    </tr>\n",
       "  </thead>\n",
       "  <tbody>\n",
       "    <tr>\n",
       "      <th>0</th>\n",
       "      <td>66.666667</td>\n",
       "      <td>90.909091</td>\n",
       "      <td>94.736842</td>\n",
       "    </tr>\n",
       "    <tr>\n",
       "      <th>1</th>\n",
       "      <td>80.000000</td>\n",
       "      <td>92.307692</td>\n",
       "      <td>95.238095</td>\n",
       "    </tr>\n",
       "    <tr>\n",
       "      <th>2</th>\n",
       "      <td>85.714286</td>\n",
       "      <td>93.333333</td>\n",
       "      <td>95.652174</td>\n",
       "    </tr>\n",
       "    <tr>\n",
       "      <th>3</th>\n",
       "      <td>88.888889</td>\n",
       "      <td>94.117647</td>\n",
       "      <td>96.000000</td>\n",
       "    </tr>\n",
       "  </tbody>\n",
       "</table>\n",
       "</div>"
      ],
      "text/plain": [
       "       File1      File2      File3\n",
       "0  66.666667  90.909091  94.736842\n",
       "1  80.000000  92.307692  95.238095\n",
       "2  85.714286  93.333333  95.652174\n",
       "3  88.888889  94.117647  96.000000"
      ]
     },
     "execution_count": 5,
     "metadata": {},
     "output_type": "execute_result"
    }
   ],
   "source": [
    "print(\"Resultant Dataframe is:\\n\")\n",
    "\n",
    "combined_df"
   ]
  },
  {
   "cell_type": "markdown",
   "id": "9eab196d",
   "metadata": {},
   "source": [
    "### In case we do not have list of csv files we can directly read all files from directory and then if it is csv then apply process\n",
    "\n",
    "### *_Here we are assuming all csv files have column 1 and column 2_*"
   ]
  },
  {
   "cell_type": "code",
   "execution_count": 17,
   "id": "eefc391b",
   "metadata": {},
   "outputs": [],
   "source": [
    "# Function to process each CSV file\n",
    "def process_csv(file_path):\n",
    "    \n",
    "    result_df = pd.DataFrame()\n",
    "    \n",
    "    # Read the CSV file into a DataFrame\n",
    "    df = pd.read_csv(file_path)\n",
    "    \n",
    "    # Extract file name without extension\n",
    "    file_name = os.path.splitext(os.path.basename(file_path))[0]\n",
    "    \n",
    "    # Perform division and multiplication\n",
    "    result_df[file_name] = (df['column1'] / df['column2']) * 100\n",
    "    \n",
    "    return result_df\n",
    "\n",
    "# For Storing resultant Dataframe\n",
    "combined_df = pd.DataFrame()\n",
    "\n",
    "import os\n",
    "\n",
    "# Directory path\n",
    "directory = 'Path_to_Directory'\n",
    "\n",
    "# Iterate through the files in the directory\n",
    "for filename in os.listdir(directory):\n",
    "    \n",
    "    # Checking if the file is a CSV file\n",
    "    if filename.endswith('.csv'):\n",
    "        \n",
    "        # Construct the full file path\n",
    "        file_path = os.path.join(directory, filename)\n",
    "        \n",
    "        df = process_csv(file_path)\n",
    "        \n",
    "        combined_df = pd.concat([combined_df, df], axis = 1)\n",
    "        \n",
    "# Save combined DataFrame to a new CSV file\n",
    "combined_df.to_csv(r'Path_to_File', index=False)"
   ]
  },
  {
   "cell_type": "markdown",
   "id": "c7d8c290",
   "metadata": {},
   "source": [
    "### Printing Resultant Dataframe"
   ]
  },
  {
   "cell_type": "code",
   "execution_count": 18,
   "id": "bcf12ce8",
   "metadata": {},
   "outputs": [
    {
     "name": "stdout",
     "output_type": "stream",
     "text": [
      "Resultant Dataframe is:\n",
      "\n"
     ]
    },
    {
     "data": {
      "text/html": [
       "<div>\n",
       "<style scoped>\n",
       "    .dataframe tbody tr th:only-of-type {\n",
       "        vertical-align: middle;\n",
       "    }\n",
       "\n",
       "    .dataframe tbody tr th {\n",
       "        vertical-align: top;\n",
       "    }\n",
       "\n",
       "    .dataframe thead th {\n",
       "        text-align: right;\n",
       "    }\n",
       "</style>\n",
       "<table border=\"1\" class=\"dataframe\">\n",
       "  <thead>\n",
       "    <tr style=\"text-align: right;\">\n",
       "      <th></th>\n",
       "      <th>File1</th>\n",
       "      <th>File2</th>\n",
       "      <th>File3</th>\n",
       "    </tr>\n",
       "  </thead>\n",
       "  <tbody>\n",
       "    <tr>\n",
       "      <th>0</th>\n",
       "      <td>66.666667</td>\n",
       "      <td>90.909091</td>\n",
       "      <td>94.736842</td>\n",
       "    </tr>\n",
       "    <tr>\n",
       "      <th>1</th>\n",
       "      <td>80.000000</td>\n",
       "      <td>92.307692</td>\n",
       "      <td>95.238095</td>\n",
       "    </tr>\n",
       "    <tr>\n",
       "      <th>2</th>\n",
       "      <td>85.714286</td>\n",
       "      <td>93.333333</td>\n",
       "      <td>95.652174</td>\n",
       "    </tr>\n",
       "    <tr>\n",
       "      <th>3</th>\n",
       "      <td>88.888889</td>\n",
       "      <td>94.117647</td>\n",
       "      <td>96.000000</td>\n",
       "    </tr>\n",
       "  </tbody>\n",
       "</table>\n",
       "</div>"
      ],
      "text/plain": [
       "       File1      File2      File3\n",
       "0  66.666667  90.909091  94.736842\n",
       "1  80.000000  92.307692  95.238095\n",
       "2  85.714286  93.333333  95.652174\n",
       "3  88.888889  94.117647  96.000000"
      ]
     },
     "execution_count": 18,
     "metadata": {},
     "output_type": "execute_result"
    }
   ],
   "source": [
    "print(\"Resultant Dataframe is:\\n\")\n",
    "\n",
    "combined_df"
   ]
  },
  {
   "cell_type": "markdown",
   "id": "334488ce",
   "metadata": {},
   "source": [
    "### In case we need to do only for first and second Column of each CSV File"
   ]
  },
  {
   "cell_type": "code",
   "execution_count": 22,
   "id": "e5fa41d4",
   "metadata": {},
   "outputs": [],
   "source": [
    "# Function to process each CSV file\n",
    "def process_csv(file_path):\n",
    "    \n",
    "    result_df = pd.DataFrame()\n",
    "    \n",
    "    # Read the CSV file into a DataFrame\n",
    "    df = pd.read_csv(file_path)\n",
    "    \n",
    "    # Extract file name without extension\n",
    "    file_name = os.path.splitext(os.path.basename(file_path))[0]\n",
    "    \n",
    "    columns_list = df.columns\n",
    "    \n",
    "    # Perform division and multiplication\n",
    "    result_df[file_name] = (df[columns_list[0]] / df[columns_list[1]]) * 100\n",
    "    \n",
    "    return result_df\n",
    "\n",
    "# For Storing resultant Dataframe\n",
    "combined_df = pd.DataFrame()\n",
    "\n",
    "import os\n",
    "\n",
    "# Directory path\n",
    "directory = 'Path_to_Directory'\n",
    "\n",
    "# Iterate through the files in the directory\n",
    "for filename in os.listdir(directory):\n",
    "    \n",
    "    # Checking if the file is a CSV file\n",
    "    if filename.endswith('.csv'):\n",
    "        \n",
    "        # Construct the full file path\n",
    "        file_path = os.path.join(directory, filename)\n",
    "        \n",
    "        df = process_csv(file_path)\n",
    "        \n",
    "        combined_df = pd.concat([combined_df, df], axis = 1)\n",
    "        \n",
    "# Save combined DataFrame to a new CSV file\n",
    "combined_df.to_csv(r'Path_to_File', index=False)"
   ]
  },
  {
   "cell_type": "code",
   "execution_count": 23,
   "id": "faa50fe2",
   "metadata": {},
   "outputs": [
    {
     "data": {
      "text/html": [
       "<div>\n",
       "<style scoped>\n",
       "    .dataframe tbody tr th:only-of-type {\n",
       "        vertical-align: middle;\n",
       "    }\n",
       "\n",
       "    .dataframe tbody tr th {\n",
       "        vertical-align: top;\n",
       "    }\n",
       "\n",
       "    .dataframe thead th {\n",
       "        text-align: right;\n",
       "    }\n",
       "</style>\n",
       "<table border=\"1\" class=\"dataframe\">\n",
       "  <thead>\n",
       "    <tr style=\"text-align: right;\">\n",
       "      <th></th>\n",
       "      <th>File1</th>\n",
       "      <th>File2</th>\n",
       "      <th>File3</th>\n",
       "    </tr>\n",
       "  </thead>\n",
       "  <tbody>\n",
       "    <tr>\n",
       "      <th>0</th>\n",
       "      <td>66.666667</td>\n",
       "      <td>90.909091</td>\n",
       "      <td>94.736842</td>\n",
       "    </tr>\n",
       "    <tr>\n",
       "      <th>1</th>\n",
       "      <td>80.000000</td>\n",
       "      <td>92.307692</td>\n",
       "      <td>95.238095</td>\n",
       "    </tr>\n",
       "    <tr>\n",
       "      <th>2</th>\n",
       "      <td>85.714286</td>\n",
       "      <td>93.333333</td>\n",
       "      <td>95.652174</td>\n",
       "    </tr>\n",
       "    <tr>\n",
       "      <th>3</th>\n",
       "      <td>88.888889</td>\n",
       "      <td>94.117647</td>\n",
       "      <td>96.000000</td>\n",
       "    </tr>\n",
       "  </tbody>\n",
       "</table>\n",
       "</div>"
      ],
      "text/plain": [
       "       File1      File2      File3\n",
       "0  66.666667  90.909091  94.736842\n",
       "1  80.000000  92.307692  95.238095\n",
       "2  85.714286  93.333333  95.652174\n",
       "3  88.888889  94.117647  96.000000"
      ]
     },
     "execution_count": 23,
     "metadata": {},
     "output_type": "execute_result"
    }
   ],
   "source": [
    "combined_df"
   ]
  },
  {
   "cell_type": "code",
   "execution_count": null,
   "id": "97a5c5e5",
   "metadata": {},
   "outputs": [],
   "source": []
  }
 ],
 "metadata": {
  "kernelspec": {
   "display_name": "Python 3 (ipykernel)",
   "language": "python",
   "name": "python3"
  },
  "language_info": {
   "codemirror_mode": {
    "name": "ipython",
    "version": 3
   },
   "file_extension": ".py",
   "mimetype": "text/x-python",
   "name": "python",
   "nbconvert_exporter": "python",
   "pygments_lexer": "ipython3",
   "version": "3.11.4"
  }
 },
 "nbformat": 4,
 "nbformat_minor": 5
}
