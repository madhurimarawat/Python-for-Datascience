{
 "cells": [
  {
   "cell_type": "markdown",
   "metadata": {},
   "source": [
    "Importing pandas<br>\n",
    "Support most file types like csv,json<br>\n",
    "Support data visualization"
   ]
  },
  {
   "cell_type": "code",
   "execution_count": 36,
   "metadata": {},
   "outputs": [],
   "source": [
    "import pandas as pd\n",
    "import matplotlib.pyplot as plt"
   ]
  },
  {
   "cell_type": "markdown",
   "metadata": {},
   "source": [
    "Creating series<br>\n",
    "We get index with values"
   ]
  },
  {
   "cell_type": "code",
   "execution_count": 37,
   "metadata": {},
   "outputs": [
    {
     "name": "stdout",
     "output_type": "stream",
     "text": [
      "Series of int data type is: 0    9\n",
      "1    8\n",
      "2    7\n",
      "3    6\n",
      "4    5\n",
      "dtype: int64\n",
      "Fourth element of series is: 6\n"
     ]
    }
   ],
   "source": [
    "series=pd.Series([9,8,7,6,5])\n",
    "print(\"Series of int data type is:\",series)\n",
    "print(\"Fourth element of series is:\",series[3])"
   ]
  },
  {
   "cell_type": "markdown",
   "metadata": {},
   "source": [
    "float series"
   ]
  },
  {
   "cell_type": "code",
   "execution_count": 38,
   "metadata": {},
   "outputs": [
    {
     "name": "stdout",
     "output_type": "stream",
     "text": [
      "Series of float data type is: 0    9.0\n",
      "1    8.0\n",
      "2    7.0\n",
      "3    6.0\n",
      "4    5.0\n",
      "dtype: float64\n"
     ]
    }
   ],
   "source": [
    "series=pd.Series([9,8,7,6,5],dtype=float)\n",
    "print(\"Series of float data type is:\",series)"
   ]
  },
  {
   "cell_type": "markdown",
   "metadata": {},
   "source": [
    "String series"
   ]
  },
  {
   "cell_type": "code",
   "execution_count": 39,
   "metadata": {},
   "outputs": [
    {
     "name": "stdout",
     "output_type": "stream",
     "text": [
      "Series of series data type is: 0    9\n",
      "1    5\n",
      "dtype: object\n"
     ]
    }
   ],
   "source": [
    "series=pd.Series([\"9\",\"5\"],dtype=str)\n",
    "print(\"Series of series data type is:\",series)"
   ]
  },
  {
   "cell_type": "markdown",
   "metadata": {},
   "source": [
    "For mixed data values we get object, it represents combination or heterogeneous data types"
   ]
  },
  {
   "cell_type": "code",
   "execution_count": 40,
   "metadata": {},
   "outputs": [
    {
     "name": "stdout",
     "output_type": "stream",
     "text": [
      "Series of mixed data type is: 1        9\n",
      "2        8\n",
      "3        7\n",
      "4        6\n",
      "5        5\n",
      "6     Abcd\n",
      "7    Hello\n",
      "Name: Series, dtype: object\n",
      "Fourth element of series is: 7\n",
      "Values of series are: [9 8 7 6 5 'Abcd' 'Hello']\n",
      "Shape of series is: (7,) Dimension of series is: 1\n",
      "Information about series is:\n",
      "<class 'pandas.core.series.Series'>\n",
      "RangeIndex: 7 entries, 1 to 7\n",
      "Series name: Series\n",
      "Non-Null Count  Dtype \n",
      "--------------  ----- \n",
      "7 non-null      object\n",
      "dtypes: object(1)\n",
      "memory usage: 188.0+ bytes\n",
      "None\n",
      "Items of series are: <zip object at 0x000001E68262E7C0>\n",
      "Items of series in list format are: [(1, 9), (2, 8), (3, 7), (4, 6), (5, 5), (6, 'Abcd'), (7, 'Hello')]\n"
     ]
    }
   ],
   "source": [
    "series=pd.Series([9,8,7,6,5,\"Abcd\",\"Hello\"],index=range(1,8),name=\"Series\")\n",
    "print(\"Series of mixed data type is:\",series)\n",
    "print(\"Fourth element of series is:\",series[3])\n",
    "print(\"Values of series are:\",series.values)\n",
    "print(\"Shape of series is:\",series.shape,\"Dimension of series is:\",series.ndim)\n",
    "print(\"Information about series is:\")\n",
    "print(series.info())\n",
    "# series.items show address only\n",
    "print(\"Items of series are:\",series.items())\n",
    "print(\"Items of series in list format are:\",list(series.items()))"
   ]
  },
  {
   "cell_type": "code",
   "execution_count": 41,
   "metadata": {},
   "outputs": [
    {
     "name": "stdout",
     "output_type": "stream",
     "text": [
      "Series with index is: a     9\n",
      "c     8\n",
      "d     7\n",
      "g     6\n",
      "m     5\n",
      "o    10\n",
      "Name: Series, dtype: int64\n",
      "Series after applying function:\n",
      "a     729\n",
      "c     512\n",
      "d     343\n",
      "g     216\n",
      "m     125\n",
      "o    1000\n",
      "Name: Series, dtype: int64\n",
      "Series is:\n",
      "a     9\n",
      "c     8\n",
      "d     7\n",
      "g     6\n",
      "m     5\n",
      "o    10\n",
      "Name: Series, dtype: int64\n"
     ]
    }
   ],
   "source": [
    "series=pd.Series([9,8,7,6,5,10],index=['a','c','d','g','m','o'],name=\"Series\")\n",
    "print(\"Series with index is:\",series)\n",
    "# function to change all values of string\n",
    "print(\"Series after applying function:\")\n",
    "print(series.apply(lambda x:x**3))\n",
    "# Dosen't change data in actual variable\n",
    "print(\"Series is:\")\n",
    "print(series)"
   ]
  },
  {
   "cell_type": "markdown",
   "metadata": {},
   "source": [
    "Converting series to array format"
   ]
  },
  {
   "cell_type": "code",
   "execution_count": 42,
   "metadata": {},
   "outputs": [
    {
     "name": "stdout",
     "output_type": "stream",
     "text": [
      "Type of series after converting to numpy array: <class 'numpy.ndarray'>\n"
     ]
    }
   ],
   "source": [
    "print(\"Type of series after converting to numpy array:\",type(series.to_numpy()))"
   ]
  },
  {
   "cell_type": "markdown",
   "metadata": {},
   "source": [
    "Dataframe-Tabular format of data"
   ]
  },
  {
   "cell_type": "markdown",
   "metadata": {},
   "source": [
    "\n",
    "<br>\n",
    "   d e f<br>\n",
    "a  1 2 3<br>\n",
    "b  4 5 6<br>\n",
    "c  7 8 9<br>\n"
   ]
  },
  {
   "cell_type": "code",
   "execution_count": 43,
   "metadata": {},
   "outputs": [
    {
     "name": "stdout",
     "output_type": "stream",
     "text": [
      "Dataframe before index labels is:\n",
      "   0  1  2\n",
      "0  1  2  3\n",
      "1  4  5  6\n",
      "2  7  8  9\n"
     ]
    }
   ],
   "source": [
    "df1=pd.DataFrame([[1,2,3],[4,5,6],[7,8,9]])\n",
    "print(\"Dataframe before index labels is:\")\n",
    "print(df1)"
   ]
  },
  {
   "cell_type": "markdown",
   "metadata": {},
   "source": [
    "Adding rows and column names"
   ]
  },
  {
   "cell_type": "code",
   "execution_count": 44,
   "metadata": {},
   "outputs": [
    {
     "name": "stdout",
     "output_type": "stream",
     "text": [
      "Dataframe after index and columns labels made by using list is:\n",
      "   d  e  f\n",
      "a  1  2  3\n",
      "b  4  5  6\n",
      "c  7  8  9\n"
     ]
    }
   ],
   "source": [
    "df1=pd.DataFrame([[1,2,3],[4,5,6],[7,8,9]],index=['a','b','c'],columns=['d','e','f'])\n",
    "print(\"Dataframe after index and columns labels made by using list is:\")\n",
    "print(df1)"
   ]
  },
  {
   "cell_type": "code",
   "execution_count": 45,
   "metadata": {},
   "outputs": [
    {
     "name": "stdout",
     "output_type": "stream",
     "text": [
      "Dataframe after index and columns labels made by using Dictionary is:\n",
      "   d  e  f\n",
      "a  1  1  1\n",
      "b  2  2  2\n",
      "c  3  3  3\n"
     ]
    }
   ],
   "source": [
    "df2=pd.DataFrame({'d':[1,2,3],'e':[1,2,3],'f':[1,2,3]},index=['a','b','c'])\n",
    "print(\"Dataframe after index and columns labels made by using Dictionary is:\")\n",
    "print(df2)"
   ]
  },
  {
   "cell_type": "markdown",
   "metadata": {},
   "source": [
    "\n",
    "<br>\n",
    "Ask user to enter a number 10 1-10<br>\n",
    "even and odd<br>\n",
    "store in dataframe format<br>\n",
    "even odd column<br>\n",
    "<br>\n",
    "Now if we pass even value it will work but for odd values it will give error as both columns should be of same length"
   ]
  },
  {
   "cell_type": "code",
   "execution_count": 46,
   "metadata": {},
   "outputs": [
    {
     "name": "stdout",
     "output_type": "stream",
     "text": [
      "Enter range: 20\n",
      "Dataframe made by creating dictionary in dataframe is:\n",
      "   Even  Odd\n",
      "0     2    1\n",
      "1     4    3\n",
      "2     6    5\n",
      "3     8    7\n",
      "4    10    9\n",
      "5    12   11\n",
      "6    14   13\n",
      "7    16   15\n",
      "8    18   17\n",
      "9    20   19\n",
      "\n",
      "\n",
      "Enter range: 26\n",
      "Dataframe made by directly creating dictionary is:\n",
      "    Even  Odd\n",
      "0      2    1\n",
      "1      4    3\n",
      "2      6    5\n",
      "3      8    7\n",
      "4     10    9\n",
      "5     12   11\n",
      "6     14   13\n",
      "7     16   15\n",
      "8     18   17\n",
      "9     20   19\n",
      "10    22   21\n",
      "11    24   23\n",
      "12    26   25\n"
     ]
    }
   ],
   "source": [
    "n= int(input(\"Enter range: \"))\n",
    "even=[]\n",
    "odd=[]\n",
    "for i in range(1,n+1):\n",
    "    if(i%2==0):\n",
    "        even.append(i)\n",
    "    else:\n",
    "        odd.append(i)\n",
    "df3=pd.DataFrame({\"Even\":even,\"Odd\":odd})\n",
    "print(\"Dataframe made by creating dictionary in dataframe is:\")\n",
    "print(df3)\n",
    "print(\"\\n\")\n",
    "# Second method - directly creating dictionary\n",
    "n1= int(input(\"Enter range: \"))\n",
    "dic={\"Even\":[],\"Odd\":[]}\n",
    "for i in range(1,n1+1):\n",
    "    if(i%2==0):\n",
    "        dic['Even'].append(i)\n",
    "    else:\n",
    "        dic['Odd'].append(i)\n",
    "data=pd.DataFrame(dic)\n",
    "print(\"Dataframe made by directly creating dictionary is:\")\n",
    "print(data)"
   ]
  },
  {
   "cell_type": "markdown",
   "metadata": {},
   "source": [
    "Adding a new column"
   ]
  },
  {
   "cell_type": "code",
   "execution_count": 47,
   "metadata": {},
   "outputs": [
    {
     "name": "stdout",
     "output_type": "stream",
     "text": [
      "Dataframe after Adding a new column     Even  Odd  addition\n",
      "0      2    1         3\n",
      "1      4    3         7\n",
      "2      6    5        11\n",
      "3      8    7        15\n",
      "4     10    9        19\n",
      "5     12   11        23\n",
      "6     14   13        27\n",
      "7     16   15        31\n",
      "8     18   17        35\n",
      "9     20   19        39\n",
      "10    22   21        43\n",
      "11    24   23        47\n",
      "12    26   25        51\n",
      "Information about Dataframe is:\n",
      "<class 'pandas.core.frame.DataFrame'>\n",
      "RangeIndex: 13 entries, 0 to 12\n",
      "Data columns (total 3 columns):\n",
      " #   Column    Non-Null Count  Dtype\n",
      "---  ------    --------------  -----\n",
      " 0   Even      13 non-null     int64\n",
      " 1   Odd       13 non-null     int64\n",
      " 2   addition  13 non-null     int64\n",
      "dtypes: int64(3)\n",
      "memory usage: 440.0 bytes\n",
      "None\n",
      "Dimension of Dataframe is: 2 Shape of Dataframe is: (13, 3)\n"
     ]
    }
   ],
   "source": [
    "data['addition']=data.apply(lambda x: sum(x),axis=1)\n",
    "print(\"Dataframe after Adding a new column\",data)\n",
    "print(\"Information about Dataframe is:\")\n",
    "print(data.info())\n",
    "print(\"Dimension of Dataframe is:\" ,data.ndim,\"Shape of Dataframe is:\",data.shape)"
   ]
  },
  {
   "cell_type": "markdown",
   "metadata": {},
   "source": [
    "Accessing data columns"
   ]
  },
  {
   "cell_type": "code",
   "execution_count": 48,
   "metadata": {},
   "outputs": [
    {
     "name": "stdout",
     "output_type": "stream",
     "text": [
      "Accessing addition column:\n",
      "0      3\n",
      "1      7\n",
      "2     11\n",
      "3     15\n",
      "4     19\n",
      "5     23\n",
      "6     27\n",
      "7     31\n",
      "8     35\n",
      "9     39\n",
      "10    43\n",
      "11    47\n",
      "12    51\n",
      "Name: addition, dtype: int64\n",
      "Type is: <class 'pandas.core.series.Series'>\n",
      "Information is:\n",
      "<class 'pandas.core.series.Series'>\n",
      "RangeIndex: 13 entries, 0 to 12\n",
      "Series name: addition\n",
      "Non-Null Count  Dtype\n",
      "--------------  -----\n",
      "13 non-null     int64\n",
      "dtypes: int64(1)\n",
      "memory usage: 232.0 bytes\n",
      "None\n",
      "Second element of dataframe is: 11\n"
     ]
    }
   ],
   "source": [
    "print(\"Accessing addition column:\")\n",
    "print(data['addition'])\n",
    "print(\"Type is:\",type(data['addition']))\n",
    "print(\"Information is:\")\n",
    "print(data['addition'].info())\n",
    "# Accessing data values\n",
    "# This is not the right way\n",
    "print(\"Second element of dataframe is:\",data['addition'][2])"
   ]
  },
  {
   "cell_type": "markdown",
   "metadata": {},
   "source": [
    "We can do that using loc and iloc function"
   ]
  },
  {
   "cell_type": "code",
   "execution_count": 49,
   "metadata": {},
   "outputs": [
    {
     "name": "stdout",
     "output_type": "stream",
     "text": [
      "Using loc:, 11\n",
      "\n",
      "After changing Second element of dataframe to 90:\n",
      "    Even  Odd addition\n",
      "0      2    1        3\n",
      "1      4    3        7\n",
      "2      6    5       90\n",
      "3      8    7       15\n",
      "4     10    9       19\n",
      "5     12   11       23\n",
      "6     14   13       27\n",
      "7     16   15       31\n",
      "8     18   17       35\n",
      "9     20   19       39\n",
      "10    22   21       43\n",
      "11    24   23       47\n",
      "12    26   25       51\n",
      "\n",
      "After changing Second element of dataframe to None:\n",
      "    Even  Odd addition\n",
      "0      2    1        3\n",
      "1      4    3        7\n",
      "2      6    5     None\n",
      "3      8    7       15\n",
      "4     10    9       19\n",
      "5     12   11       23\n",
      "6     14   13       27\n",
      "7     16   15       31\n",
      "8     18   17       35\n",
      "9     20   19       39\n",
      "10    22   21       43\n",
      "11    24   23       47\n",
      "12    26   25       51\n",
      "\n",
      "Information is:\n",
      "<class 'pandas.core.frame.DataFrame'>\n",
      "RangeIndex: 13 entries, 0 to 12\n",
      "Data columns (total 3 columns):\n",
      " #   Column    Non-Null Count  Dtype \n",
      "---  ------    --------------  ----- \n",
      " 0   Even      13 non-null     int64 \n",
      " 1   Odd       13 non-null     int64 \n",
      " 2   addition  12 non-null     object\n",
      "dtypes: int64(2), object(1)\n",
      "memory usage: 440.0+ bytes\n",
      "None\n"
     ]
    }
   ],
   "source": [
    "print(\"Using loc:,\",data.iloc[2,2])\n",
    "# Updating the data\n",
    "data.iloc[2,2]=\"90\"\n",
    "print(\"\\nAfter changing Second element of dataframe to 90:\")\n",
    "print(data)\n",
    "data.iloc[2,2]=None\n",
    "print(\"\\nAfter changing Second element of dataframe to None:\")\n",
    "print(data)\n",
    "print(\"\\nInformation is:\")\n",
    "print(data.info())"
   ]
  },
  {
   "cell_type": "code",
   "execution_count": 50,
   "metadata": {},
   "outputs": [
    {
     "name": "stdout",
     "output_type": "stream",
     "text": [
      "After changing Second element of dataframe to NA:\n",
      "    Even  Odd addition\n",
      "0      2    1        3\n",
      "1      4    3        7\n",
      "2      6    5     <NA>\n",
      "3      8    7       15\n",
      "4     10    9       19\n",
      "5     12   11       23\n",
      "6     14   13       27\n",
      "7     16   15       31\n",
      "8     18   17       35\n",
      "9     20   19       39\n",
      "10    22   21       43\n",
      "11    24   23       47\n",
      "12    26   25       51\n",
      "\n",
      "Information is:\n",
      "<class 'pandas.core.frame.DataFrame'>\n",
      "RangeIndex: 13 entries, 0 to 12\n",
      "Data columns (total 3 columns):\n",
      " #   Column    Non-Null Count  Dtype \n",
      "---  ------    --------------  ----- \n",
      " 0   Even      13 non-null     int64 \n",
      " 1   Odd       13 non-null     int64 \n",
      " 2   addition  12 non-null     object\n",
      "dtypes: int64(2), object(1)\n",
      "memory usage: 440.0+ bytes\n",
      "None\n"
     ]
    }
   ],
   "source": [
    "data.iloc[2,2]=pd.NA\n",
    "print(\"After changing Second element of dataframe to NA:\")\n",
    "print(data)\n",
    "print(\"\\nInformation is:\")\n",
    "print(data.info())"
   ]
  },
  {
   "cell_type": "code",
   "execution_count": 51,
   "metadata": {},
   "outputs": [
    {
     "name": "stdout",
     "output_type": "stream",
     "text": [
      "Empty DataFrame\n",
      "Columns: []\n",
      "Index: [3, 4, 5]\n",
      "\n",
      "Using iloc:\n",
      "   Odd addition\n",
      "1    3        7\n",
      "2    5     <NA>\n",
      "3    7       15\n"
     ]
    }
   ],
   "source": [
    "print(data.loc[3:5,\"Odd\":\"Addition\"])\n",
    "print(\"\\nUsing iloc:\")\n",
    "print(data.loc[1:3, 'Odd':'addition'])"
   ]
  },
  {
   "cell_type": "markdown",
   "metadata": {},
   "source": [
    "Remove rows<br>\n",
    "inplace make changes in actual dataset"
   ]
  },
  {
   "cell_type": "code",
   "execution_count": 52,
   "metadata": {},
   "outputs": [
    {
     "name": "stdout",
     "output_type": "stream",
     "text": [
      "    Even  Odd addition\n",
      "0      2    1        3\n",
      "1      4    3        7\n",
      "2      6    5     <NA>\n",
      "3      8    7       15\n",
      "4     10    9       19\n",
      "5     12   11       23\n",
      "6     14   13       27\n",
      "7     16   15       31\n",
      "8     18   17       35\n",
      "9     20   19       39\n",
      "10    22   21       43\n",
      "11    24   23       47\n",
      "12    26   25       51\n"
     ]
    }
   ],
   "source": [
    "data.dropna(inplace=False)\n",
    "print(data)"
   ]
  },
  {
   "cell_type": "markdown",
   "metadata": {},
   "source": [
    "Remove columns"
   ]
  },
  {
   "cell_type": "code",
   "execution_count": 53,
   "metadata": {},
   "outputs": [
    {
     "name": "stdout",
     "output_type": "stream",
     "text": [
      "    Even  Odd addition\n",
      "0      2    1        3\n",
      "1      4    3        7\n",
      "2      6    5     <NA>\n",
      "3      8    7       15\n",
      "4     10    9       19\n",
      "5     12   11       23\n",
      "6     14   13       27\n",
      "7     16   15       31\n",
      "8     18   17       35\n",
      "9     20   19       39\n",
      "10    22   21       43\n",
      "11    24   23       47\n",
      "12    26   25       51\n"
     ]
    }
   ],
   "source": [
    "data.dropna(axis=1,inplace=False)\n",
    "print(data)"
   ]
  },
  {
   "cell_type": "markdown",
   "metadata": {},
   "source": [
    "Error as by default axis in rows,we have to change it"
   ]
  },
  {
   "cell_type": "code",
   "execution_count": 54,
   "metadata": {},
   "outputs": [
    {
     "name": "stdout",
     "output_type": "stream",
     "text": [
      "    Even  Odd addition\n",
      "0      2    1        3\n",
      "1      4    3        7\n",
      "2      6    5     <NA>\n",
      "3      8    7       15\n",
      "4     10    9       19\n",
      "5     12   11       23\n",
      "6     14   13       27\n",
      "7     16   15       31\n",
      "8     18   17       35\n",
      "9     20   19       39\n",
      "10    22   21       43\n",
      "11    24   23       47\n",
      "12    26   25       51\n"
     ]
    }
   ],
   "source": [
    "data.drop(['addition'],inplace=False,axis=1)\n",
    "print(data)"
   ]
  },
  {
   "cell_type": "markdown",
   "metadata": {},
   "source": [
    "data.drop([2,3,4],inplace=True)- Dosen't work"
   ]
  },
  {
   "cell_type": "code",
   "execution_count": 55,
   "metadata": {},
   "outputs": [
    {
     "name": "stdout",
     "output_type": "stream",
     "text": [
      "    Even  Odd addition\n",
      "0      2    1        3\n",
      "1      4    3        7\n",
      "2      6    5     <NA>\n",
      "3      8    7       15\n",
      "4     10    9       19\n",
      "5     12   11       23\n",
      "6     14   13       27\n",
      "7     16   15       31\n",
      "8     18   17       35\n",
      "9     20   19       39\n",
      "10    22   21       43\n",
      "11    24   23       47\n",
      "12    26   25       51\n"
     ]
    }
   ],
   "source": [
    "print(data)"
   ]
  },
  {
   "cell_type": "markdown",
   "metadata": {},
   "source": [
    "Saving in csv file<br>\n",
    "IF we save without index false it will save with index values"
   ]
  },
  {
   "cell_type": "code",
   "execution_count": 56,
   "metadata": {},
   "outputs": [],
   "source": [
    "index=['a','b','c','d','e']\n",
    "# data.to_csv(\"data_demo.csv\",index_label=index)\n",
    "data.to_csv(\"data_demo.csv\")"
   ]
  },
  {
   "cell_type": "markdown",
   "metadata": {},
   "source": [
    "index_col takes data without unnamed index"
   ]
  },
  {
   "cell_type": "code",
   "execution_count": 57,
   "metadata": {},
   "outputs": [
    {
     "name": "stdout",
     "output_type": "stream",
     "text": [
      "    Even  Odd  addition\n",
      "0      2    1       3.0\n",
      "1      4    3       7.0\n",
      "2      6    5       NaN\n",
      "3      8    7      15.0\n",
      "4     10    9      19.0\n",
      "5     12   11      23.0\n",
      "6     14   13      27.0\n",
      "7     16   15      31.0\n",
      "8     18   17      35.0\n",
      "9     20   19      39.0\n",
      "10    22   21      43.0\n",
      "11    24   23      47.0\n",
      "12    26   25      51.0\n"
     ]
    }
   ],
   "source": [
    "data1=pd.read_csv(\"data_demo.csv\",index_col=0)\n",
    "print(data1)"
   ]
  },
  {
   "cell_type": "code",
   "execution_count": 58,
   "metadata": {},
   "outputs": [
    {
     "name": "stdout",
     "output_type": "stream",
     "text": [
      "       Even  Odd  addition\n",
      "index                     \n",
      "0         2    1       3.0\n",
      "1         4    3       7.0\n",
      "2         6    5       NaN\n",
      "3         8    7      15.0\n",
      "4        10    9      19.0\n",
      "5        12   11      23.0\n",
      "6        14   13      27.0\n",
      "7        16   15      31.0\n",
      "8        18   17      35.0\n",
      "9        20   19      39.0\n",
      "10       22   21      43.0\n",
      "11       24   23      47.0\n",
      "12       26   25      51.0\n",
      "<class 'pandas.core.frame.DataFrame'>\n",
      "Int64Index: 13 entries, 0 to 12\n",
      "Data columns (total 3 columns):\n",
      " #   Column    Non-Null Count  Dtype  \n",
      "---  ------    --------------  -----  \n",
      " 0   Even      13 non-null     int64  \n",
      " 1   Odd       13 non-null     int64  \n",
      " 2   addition  12 non-null     float64\n",
      "dtypes: float64(1), int64(2)\n",
      "memory usage: 416.0 bytes\n",
      "None\n"
     ]
    }
   ],
   "source": [
    "data.to_excel(\"data.xlsx\",sheet_name=\"sample data\",index_label=\"index\")\n",
    "data2=pd.read_excel('data.xlsx',sheet_name=\"sample data\",index_col=\"index\")\n",
    "print(data2)\n",
    "print(data2.info())"
   ]
  },
  {
   "cell_type": "code",
   "execution_count": 59,
   "metadata": {},
   "outputs": [
    {
     "name": "stdout",
     "output_type": "stream",
     "text": [
      "Data is:\n",
      "       Even  Odd\n",
      "index           \n",
      "0         2    1\n",
      "1         4    3\n",
      "2         6    5\n",
      "3         8    7\n",
      "4        10    9\n",
      "5        12   11\n",
      "6        14   13\n",
      "7        16   15\n",
      "8        18   17\n",
      "9        20   19\n",
      "10       22   21\n",
      "11       24   23\n",
      "12       26   25\n",
      "Information about Data is:\n",
      "<class 'pandas.core.frame.DataFrame'>\n",
      "Int64Index: 13 entries, 0 to 12\n",
      "Data columns (total 2 columns):\n",
      " #   Column  Non-Null Count  Dtype\n",
      "---  ------  --------------  -----\n",
      " 0   Even    13 non-null     int64\n",
      " 1   Odd     13 non-null     int64\n",
      "dtypes: int64(2)\n",
      "memory usage: 312.0 bytes\n",
      "None\n"
     ]
    }
   ],
   "source": [
    "data2=pd.read_excel('data.xlsx',usecols=[\"index\",\"Even\",\"Odd\"],sheet_name=\"sample data\",index_col=\"index\")\n",
    "print(\"Data is:\")\n",
    "print(data2)\n",
    "print(\"Information about Data is:\")\n",
    "print(data2.info())"
   ]
  },
  {
   "cell_type": "markdown",
   "metadata": {},
   "source": [
    "When we set use cols memory usage reduces"
   ]
  },
  {
   "cell_type": "code",
   "execution_count": 60,
   "metadata": {},
   "outputs": [
    {
     "name": "stdout",
     "output_type": "stream",
     "text": [
      "Data is:\n",
      "   Even  Odd\n",
      "0     2    1\n",
      "1     4    3\n",
      "2     6    5\n",
      "3     8    7\n",
      "4    10    9\n",
      "Information about Data is:\n",
      "<class 'pandas.core.frame.DataFrame'>\n",
      "RangeIndex: 5 entries, 0 to 4\n",
      "Data columns (total 2 columns):\n",
      " #   Column  Non-Null Count  Dtype\n",
      "---  ------  --------------  -----\n",
      " 0   Even    5 non-null      int64\n",
      " 1   Odd     5 non-null      int64\n",
      "dtypes: int64(2)\n",
      "memory usage: 208.0 bytes\n",
      "None\n",
      "Dataframe columns are:\n",
      "Index(['Even', 'Odd'], dtype='object')\n"
     ]
    }
   ],
   "source": [
    "data2=pd.read_excel('data.xlsx',nrows=5,usecols=[\"Even\",\"Odd\"],sheet_name=\"sample data\")\n",
    "print(\"Data is:\")\n",
    "print(data2)\n",
    "print(\"Information about Data is:\")\n",
    "print(data2.info())\n",
    "# Gives columns names\n",
    "print(\"Dataframe columns are:\")\n",
    "print(data2.columns)"
   ]
  },
  {
   "cell_type": "markdown",
   "metadata": {},
   "source": [
    "Data Visualization<br>\n",
    "we need to install matplotlib for this<br>\n",
    "box plot"
   ]
  },
  {
   "cell_type": "code",
   "execution_count": 61,
   "metadata": {},
   "outputs": [
    {
     "data": {
      "image/png": "[encoded data removed]",
      "text/plain": [
       "<Figure size 432x288 with 1 Axes>"
      ]
     },
     "metadata": {
      "needs_background": "light"
     },
     "output_type": "display_data"
    }
   ],
   "source": [
    "data2.boxplot()\n",
    "plt.xlabel(\"Columns\")\n",
    "plt.ylabel(\"Count\")\n",
    "plt.title(\"Box Plot of Dataframe\")\n",
    "plt.show()"
   ]
  },
  {
   "cell_type": "markdown",
   "metadata": {},
   "source": [
    "histogram"
   ]
  },
  {
   "cell_type": "code",
   "execution_count": 62,
   "metadata": {},
   "outputs": [
    {
     "data": {
      "image/png": "[encoded data removed]",
      "text/plain": [
       "<Figure size 432x288 with 2 Axes>"
      ]
     },
     "metadata": {
      "needs_background": "light"
     },
     "output_type": "display_data"
    }
   ],
   "source": [
    "data2.hist()\n",
    "plt.show()"
   ]
  }
 ],
 "metadata": {
  "kernelspec": {
   "display_name": "Python 3 (ipykernel)",
   "language": "python",
   "name": "python3"
  },
  "language_info": {
   "codemirror_mode": {
    "name": "ipython",
    "version": 3
   },
   "file_extension": ".py",
   "mimetype": "text/x-python",
   "name": "python",
   "nbconvert_exporter": "python",
   "pygments_lexer": "ipython3",
   "version": "3.9.12"
  }
 },
 "nbformat": 4,
 "nbformat_minor": 2
}
