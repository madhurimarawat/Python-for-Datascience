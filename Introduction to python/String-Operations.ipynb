{
 "cells": [
  {
   "cell_type": "markdown",
   "metadata": {},
   "source": [
    "Creating String"
   ]
  },
  {
   "cell_type": "code",
   "execution_count": 1,
   "metadata": {},
   "outputs": [
    {
     "name": "stdout",
     "output_type": "stream",
     "text": [
      "String is: How are you?\n",
      "Index 8 of string is: y\n",
      "Index -4 of string is: y\n"
     ]
    }
   ],
   "source": [
    "msg=\"How are you?\"\n",
    "# 0-Last index (Positive Indexing)\n",
    "# -1-First index (Negative Indexing)\n",
    "print(\"String is:\",msg)\n",
    "print(\"Index 8 of string is:\",msg[8])\n",
    "print(\"Index -4 of string is:\",msg[-4])"
   ]
  },
  {
   "cell_type": "markdown",
   "metadata": {},
   "source": [
    "Slicing -Extracting pattern from string"
   ]
  },
  {
   "cell_type": "code",
   "execution_count": 2,
   "metadata": {},
   "outputs": [
    {
     "name": "stdout",
     "output_type": "stream",
     "text": [
      "String from 0 to 3 index is: How\n",
      "String from -4 to -1 index is: you\n",
      "String from 8 to last index is: you?\n",
      "String with index : is: How are you?\n",
      "String with step 1 without start and stop is: How are you?\n",
      "String with step 2 with start 0 and without stop is: Hwaeyu\n",
      "String with step -1 without start and stop is: ?uoy era woH\n"
     ]
    }
   ],
   "source": [
    "print(\"String from 0 to 3 index is:\",msg[0:3])\n",
    "print(\"String from -4 to -1 index is:\",msg[-4:-1])\n",
    "print(\"String from 8 to last index is:\",msg[8:])\n",
    "# prints entire string\n",
    "print(\"String with index : is:\",msg[:])\n",
    "# start:stop:step category\n",
    "print(\"String with step 1 without start and stop is:\",msg[::1])\n",
    "print(\"String with step 2 with start 0 and without stop is:\",msg[0::2])\n",
    "# printing string in reverse\n",
    "print(\"String with step -1 without start and stop is:\",msg[::-1])"
   ]
  },
  {
   "cell_type": "markdown",
   "metadata": {},
   "source": [
    "Checking if user entered string is palindrome or not"
   ]
  },
  {
   "cell_type": "code",
   "execution_count": 3,
   "metadata": {},
   "outputs": [
    {
     "name": "stdout",
     "output_type": "stream",
     "text": [
      "Enter string to check for palindrome: assa\n",
      "It is palindrome\n"
     ]
    }
   ],
   "source": [
    "n1=input(\"Enter string to check for palindrome: \")\n",
    "if n1==n1[::-1]:\n",
    "    print(\"It is palindrome\")\n",
    "else:\n",
    "    print(\"It is  not palindrome\")"
   ]
  },
  {
   "cell_type": "markdown",
   "metadata": {},
   "source": [
    "Checking if user entered number is palindrome or not"
   ]
  },
  {
   "cell_type": "code",
   "execution_count": 4,
   "metadata": {},
   "outputs": [
    {
     "name": "stdout",
     "output_type": "stream",
     "text": [
      "Enter number to check for palindrome:: 233\n",
      "It is  not palindrome\n"
     ]
    }
   ],
   "source": [
    "n1=int(input(\"Enter number to check for palindrome:: \"))\n",
    "if n1==int(str(n1)[::-1]):\n",
    "    print(\"It is palindrome\")\n",
    "else:\n",
    "    print(\"It is  not palindrome\")"
   ]
  },
  {
   "cell_type": "markdown",
   "metadata": {},
   "source": [
    "Adam Number<br>\n",
    "12 -> 144 ->441 -> 21 -> 12"
   ]
  },
  {
   "cell_type": "code",
   "execution_count": 5,
   "metadata": {},
   "outputs": [
    {
     "name": "stdout",
     "output_type": "stream",
     "text": [
      "Enter Number to check for Adam Number: 12\n",
      "12 Adam Number\n"
     ]
    }
   ],
   "source": [
    "n1=int(input(\"Enter Number to check for Adam Number: \"))\n",
    "if n1 == int(str(int(int(str(n1**2)[::-1])**0.5))[::-1]):\n",
    "    print(n1,\"Adam Number\")\n",
    "else:\n",
    "    print(n1,\"is not Adam Number\")"
   ]
  },
  {
   "cell_type": "code",
   "execution_count": 6,
   "metadata": {},
   "outputs": [],
   "source": [
    "month=\"janfebmaraprmayjunjulaugsepoctnovdec\"\n",
    "# Ask the user to enter num b/w 1 to 12\n",
    "# Print 1st 3 letters of that month"
   ]
  },
  {
   "cell_type": "markdown",
   "metadata": {},
   "source": [
    "Ask the user to enter num b/w 1 to 12<br>\n",
    "Print 1st 3 letters of that month"
   ]
  },
  {
   "cell_type": "code",
   "execution_count": 7,
   "metadata": {},
   "outputs": [
    {
     "name": "stdout",
     "output_type": "stream",
     "text": [
      "Enter Number for which you want month: 10\n",
      "Month is: oct\n"
     ]
    }
   ],
   "source": [
    "n=int(input(\"Enter Number for which you want month: \"))\n",
    "month=\"janfebmaraprmayjunjulaugsepoctnovdec\"\n",
    "# printing month\n",
    "print(\"Month is:\",month[3*(n-1):3*(n-1)+3])"
   ]
  }
 ],
 "metadata": {
  "kernelspec": {
   "display_name": "Python 3 (ipykernel)",
   "language": "python",
   "name": "python3"
  },
  "language_info": {
   "codemirror_mode": {
    "name": "ipython",
    "version": 3
   },
   "file_extension": ".py",
   "mimetype": "text/x-python",
   "name": "python",
   "nbconvert_exporter": "python",
   "pygments_lexer": "ipython3",
   "version": "3.9.12"
  }
 },
 "nbformat": 4,
 "nbformat_minor": 2
}
