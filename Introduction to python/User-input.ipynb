{
 "cells": [
  {
   "cell_type": "markdown",
   "metadata": {},
   "source": [
    "Taking input from user"
   ]
  },
  {
   "cell_type": "code",
   "execution_count": 1,
   "metadata": {},
   "outputs": [
    {
     "name": "stdout",
     "output_type": "stream",
     "text": [
      "Enter the value of x: 25\n",
      "Number is: 25\n",
      "Enter the value of y: 63\n",
      "Number is: 63\n",
      "Concatenation of x and y is:  2563\n",
      "Type of x is: <class 'str'> Type of y is: <class 'str'>\n"
     ]
    }
   ],
   "source": [
    "x=input(\"Enter the value of x: \")\n",
    "print(\"Number is:\",x)\n",
    "y=input(\"Enter the value of y: \")\n",
    "print(\"Number is:\",y)\n",
    "# Returns concatenated string as by default input is string\n",
    "print(\"Concatenation of x and y is: \",x+y)\n",
    "print(\"Type of x is:\",type(x),\"Type of y is:\",type(y))"
   ]
  },
  {
   "cell_type": "markdown",
   "metadata": {},
   "source": [
    "Type casting/type conversion"
   ]
  },
  {
   "cell_type": "code",
   "execution_count": 2,
   "metadata": {},
   "outputs": [
    {
     "name": "stdout",
     "output_type": "stream",
     "text": [
      "Enter the value of x: 33\n",
      "Number is: 33\n",
      "Enter the value of y: 66\n",
      "Number is: 66\n",
      "Addition of x and y is:  99\n",
      "Type of x1 is: <class 'int'> Type of y1 is: <class 'int'>\n"
     ]
    }
   ],
   "source": [
    "x1=int(input(\"Enter the value of x: \"))\n",
    "print(\"Number is:\",x1)\n",
    "y1=int(input(\"Enter the value of y: \"))\n",
    "print(\"Number is:\",y1)\n",
    "# Returns addition\n",
    "print(\"Addition of x and y is: \",x1+y1)\n",
    "print(\"Type of x1 is:\",type(x1),\"Type of y1 is:\",type(y1))"
   ]
  },
  {
   "cell_type": "markdown",
   "metadata": {},
   "source": [
    "Doing in single line"
   ]
  },
  {
   "cell_type": "code",
   "execution_count": 3,
   "metadata": {},
   "outputs": [],
   "source": [
    "x,y,z=int(x),int(y),8"
   ]
  },
  {
   "cell_type": "markdown",
   "metadata": {},
   "source": [
    "Python use indentation for proper format(starting and ending of function blocks)<br>\n",
    "Using relational/comparison operator and conditional statement<br>\n",
    "If bracket is optional"
   ]
  },
  {
   "cell_type": "code",
   "execution_count": 4,
   "metadata": {},
   "outputs": [
    {
     "name": "stdout",
     "output_type": "stream",
     "text": [
      "63 is greater\n"
     ]
    }
   ],
   "source": [
    "if(x>y):\n",
    "    print(x,\"is greater\")\n",
    "    if True:\n",
    "        print(\"This wil be printed every time the condition is true\")\n",
    "else:\n",
    "    print(y, \"is greater\")"
   ]
  },
  {
   "cell_type": "markdown",
   "metadata": {},
   "source": [
    "Ask user for 3 numbers and check greater number among them"
   ]
  },
  {
   "cell_type": "code",
   "execution_count": 5,
   "metadata": {},
   "outputs": [
    {
     "name": "stdout",
     "output_type": "stream",
     "text": [
      "Enter the value of first number: 85\n",
      "Enter the value of second number: 99\n",
      "Enter the value of third  number: 105\n"
     ]
    }
   ],
   "source": [
    "n1=int(input(\"Enter the value of first number: \"))\n",
    "n2=int(input(\"Enter the value of second number: \"))\n",
    "n3=int(input(\"Enter the value of third  number: \"))"
   ]
  },
  {
   "cell_type": "markdown",
   "metadata": {},
   "source": [
    "Doing with simple if else statement"
   ]
  },
  {
   "cell_type": "code",
   "execution_count": 6,
   "metadata": {},
   "outputs": [
    {
     "name": "stdout",
     "output_type": "stream",
     "text": [
      "105 is greater\n"
     ]
    }
   ],
   "source": [
    "if n1>n2:\n",
    "    if n1>n3:\n",
    "        print(n1,\"is greater\")\n",
    "    else:\n",
    "       print(n3,\"is greater\")\n",
    "elif n1==n2==n3:\n",
    "    print(\"Numbers are equal\")\n",
    "else:\n",
    "    if n2>n3:\n",
    "        print(n2,\"is greater\")\n",
    "    else:\n",
    "        print(n3, \"is greater\")"
   ]
  },
  {
   "cell_type": "markdown",
   "metadata": {},
   "source": [
    "Doing using function and elif"
   ]
  },
  {
   "cell_type": "code",
   "execution_count": 7,
   "metadata": {},
   "outputs": [
    {
     "name": "stdout",
     "output_type": "stream",
     "text": [
      "105 is greater\n"
     ]
    }
   ],
   "source": [
    "def max(x,y,z):\n",
    "    if x>y and x>z:\n",
    "        print(x,\"is greater\")\n",
    "    elif y>z:\n",
    "        print(y,\"is greater\")\n",
    "    elif n1 == n2 == n3:\n",
    "        print(\"Numbers are equal\")\n",
    "    else:\n",
    "        print(z,\"is greater\")\n",
    "max(n1,n2,n3)"
   ]
  }
 ],
 "metadata": {
  "kernelspec": {
   "display_name": "Python 3 (ipykernel)",
   "language": "python",
   "name": "python3"
  },
  "language_info": {
   "codemirror_mode": {
    "name": "ipython",
    "version": 3
   },
   "file_extension": ".py",
   "mimetype": "text/x-python",
   "name": "python",
   "nbconvert_exporter": "python",
   "pygments_lexer": "ipython3",
   "version": "3.9.12"
  }
 },
 "nbformat": 4,
 "nbformat_minor": 2
}
