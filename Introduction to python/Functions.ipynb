{
 "cells": [
  {
   "cell_type": "markdown",
   "metadata": {},
   "source": [
    "Functions<br>\n",
    "It is a piece of code which can be used when needed<br>\n",
    "Functions makes the code shorter and also increases reusability while reducing redundancy"
   ]
  },
  {
   "cell_type": "markdown",
   "metadata": {},
   "source": [
    "Creating a simple function"
   ]
  },
  {
   "cell_type": "code",
   "execution_count": 1,
   "metadata": {},
   "outputs": [
    {
     "name": "stdout",
     "output_type": "stream",
     "text": [
      "Hello\n"
     ]
    }
   ],
   "source": [
    "def message():\n",
    "    print(\"Hello\")\n",
    "# Calling the function\n",
    "message()"
   ]
  },
  {
   "cell_type": "markdown",
   "metadata": {},
   "source": [
    "Creating a function with one argument"
   ]
  },
  {
   "cell_type": "code",
   "execution_count": 2,
   "metadata": {},
   "outputs": [
    {
     "name": "stdout",
     "output_type": "stream",
     "text": [
      "Square is: 64\n"
     ]
    }
   ],
   "source": [
    "def square(n):\n",
    "    print(\"Square is:\",n**2)\n",
    "# Calling the function\n",
    "square(8)"
   ]
  },
  {
   "cell_type": "markdown",
   "metadata": {},
   "source": [
    "Creating a function with two argument"
   ]
  },
  {
   "cell_type": "code",
   "execution_count": 3,
   "metadata": {},
   "outputs": [
    {
     "name": "stdout",
     "output_type": "stream",
     "text": [
      "Subtraction is: -1\n",
      "Subtraction is: 1\n"
     ]
    }
   ],
   "source": [
    "def sub(a,b):\n",
    "    print(\"Subtraction is:\",a-b)\n",
    "# Calling the function\n",
    "sub(3,4)\n",
    "# Calling the function with keyword arguments\n",
    "sub(b=3,a=4)"
   ]
  },
  {
   "cell_type": "markdown",
   "metadata": {},
   "source": [
    "To take multiple arguments"
   ]
  },
  {
   "cell_type": "code",
   "execution_count": 4,
   "metadata": {},
   "outputs": [
    {
     "name": "stdout",
     "output_type": "stream",
     "text": [
      "Sum is: 21\n"
     ]
    }
   ],
   "source": [
    "def add(*v):\n",
    "    print(\"Sum is:\",sum(v))\n",
    "# Calling the function\n",
    "add(2,3,4,5,7)"
   ]
  },
  {
   "cell_type": "markdown",
   "metadata": {},
   "source": [
    "To take multiple arguments-keywords and normal"
   ]
  },
  {
   "cell_type": "code",
   "execution_count": 5,
   "metadata": {},
   "outputs": [
    {
     "name": "stdout",
     "output_type": "stream",
     "text": [
      "Sum is: 29\n",
      "Keywords arguments are: {'v': 3, 'k': 4, 'l': 6, 'p': 2, 'w': 1}\n"
     ]
    }
   ],
   "source": [
    "def add(*v,**k):\n",
    "    print(\"Sum is:\",sum(v))\n",
    "    print(\"Keywords arguments are:\",k)\n",
    "# Calling the function\n",
    "add(2,2,3,4,5,6,7,v=3,k=4,l=6,p=2,w=1)"
   ]
  },
  {
   "cell_type": "markdown",
   "metadata": {},
   "source": [
    "Creating a function with argument and return value"
   ]
  },
  {
   "cell_type": "code",
   "execution_count": 6,
   "metadata": {},
   "outputs": [
    {
     "name": "stdout",
     "output_type": "stream",
     "text": [
      "Subtraction is: 1\n"
     ]
    }
   ],
   "source": [
    "def sub(a=2,b=8):\n",
    "    return a-b\n",
    "# Calling the function\n",
    "print(\"Subtraction is:\",sub(9,8))"
   ]
  },
  {
   "cell_type": "markdown",
   "metadata": {},
   "source": [
    "Function to store palindrome number in range in dictionary"
   ]
  },
  {
   "cell_type": "code",
   "execution_count": 7,
   "metadata": {},
   "outputs": [
    {
     "name": "stdout",
     "output_type": "stream",
     "text": [
      "Enter range: 12\n",
      "Palindrome numbers are: {'palindrome': [1, 2, 3, 4, 5, 6, 7, 8, 9, 11]}\n"
     ]
    }
   ],
   "source": [
    "def palindrome(n):\n",
    "    return str(n)==str(n)[::-1]\n",
    "x={'palindrome':[]}\n",
    "for i in range(1,int(input(\"Enter range: \"))):\n",
    "    if(palindrome(i)):\n",
    "        x['palindrome'].append(i)\n",
    "else:\n",
    "    print(\"Palindrome numbers are:\",x)"
   ]
  },
  {
   "cell_type": "markdown",
   "metadata": {},
   "source": [
    "lambda function"
   ]
  },
  {
   "cell_type": "code",
   "execution_count": 8,
   "metadata": {},
   "outputs": [
    {
     "name": "stdout",
     "output_type": "stream",
     "text": [
      "Enter range: 20\n",
      "Palindrome numbers are: {'palindrome': [1, 2, 3, 4, 5, 6, 7, 8, 9, 11]}\n"
     ]
    }
   ],
   "source": [
    "palindrome=lambda n:str(n)==str(n)[::-1]\n",
    "x=[]\n",
    "for i in range(1,int(input(\"Enter range: \"))):\n",
    "    if(palindrome(i)):\n",
    "        x.append(i)\n",
    "else:\n",
    "    print(\"Palindrome numbers are:\",{'palindrome':x})"
   ]
  }
 ],
 "metadata": {
  "kernelspec": {
   "display_name": "Python 3 (ipykernel)",
   "language": "python",
   "name": "python3"
  },
  "language_info": {
   "codemirror_mode": {
    "name": "ipython",
    "version": 3
   },
   "file_extension": ".py",
   "mimetype": "text/x-python",
   "name": "python",
   "nbconvert_exporter": "python",
   "pygments_lexer": "ipython3",
   "version": "3.9.12"
  }
 },
 "nbformat": 4,
 "nbformat_minor": 2
}
