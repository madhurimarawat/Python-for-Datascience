{
  "cells": [
    {
      "cell_type": "code",
      "execution_count": null,
      "metadata": {
        "colab": {
          "base_uri": "https://localhost:8080/"
        },
        "id": "ktf02sb8yGK-",
        "outputId": "f4e8877f-4c89-40ad-b827-8074bd78b817"
      },
      "outputs": [
        {
          "name": "stdout",
          "output_type": "stream",
          "text": [
            "String using '' is: string1\n",
            "String using  is: string\n",
            "String using ''' is: string\n",
            "String using  is: hello\n",
            "Empty List is: []\n",
            "List is: [1, 2, 3, 45, 'hello', 45.7]\n",
            "List is: [[1, 2, 3, 45, 'hello', 45.7], ['hek', 89, 90, 78.6, 12]]\n"
          ]
        }
      ],
      "source": [
        "#strings list tuple slicing and concatenation\n",
        "# Creating strings\n",
        "a=\"string1\";\n",
        "b='string';\n",
        "print(\"String using '' is:\",a);\n",
        "print(\"String using \"\" is:\",b);\n",
        "c='''string''';\n",
        "d=\"\"\"hello\"\"\";\n",
        "print(\"String using ''' is:\",c);\n",
        "print(\"String using \"\" is:\",d);\n",
        "# Creating List\n",
        "e=[];\n",
        "v=[1,2,3,45,\"hello\",45.7]\n",
        "print(\"Empty List is:\",e);\n",
        "print(\"List is:\",v);\n",
        "h=[[1,2,3,45,\"hello\",45.7],[\"hek\",89,90,78.6,12]]\n",
        "print(\"List is:\",h);"
      ]
    },
    {
      "cell_type": "code",
      "execution_count": null,
      "metadata": {
        "colab": {
          "base_uri": "https://localhost:8080/"
        },
        "id": "V1NfF1sdyHjF",
        "outputId": "f1c399e8-524a-4210-e64e-b8d041bef231"
      },
      "outputs": [
        {
          "name": "stdout",
          "output_type": "stream",
          "text": [
            "()\n"
          ]
        }
      ],
      "source": [
        "# Creating Empty Tuple\n",
        "a=()\n",
        "print(\"Empty Tuple is:\",a);"
      ]
    },
    {
      "cell_type": "code",
      "execution_count": null,
      "metadata": {
        "colab": {
          "base_uri": "https://localhost:8080/"
        },
        "id": "mAC3K5Qt1PZX",
        "outputId": "9c69b71f-a569-49f2-88c0-d8f83d485d9c"
      },
      "outputs": [
        {
          "name": "stdout",
          "output_type": "stream",
          "text": [
            "(1, 2, 3, 45, 'hello', 45.7)\n"
          ]
        }
      ],
      "source": [
        "# Creating Tuple\n",
        "v=(1,2,3,45,\"hello\",45.7)\n",
        "print(\"Tuple is:\",v)"
      ]
    },
    {
      "cell_type": "code",
      "execution_count": null,
      "metadata": {
        "colab": {
          "base_uri": "https://localhost:8080/"
        },
        "id": "uRVcFb021fL4",
        "outputId": "ea665a48-2a4b-4c03-a915-34489fb0d33b"
      },
      "outputs": [
        {
          "output_type": "stream",
          "name": "stdout",
          "text": [
            "Tuple using tuple() function: (1, 2, 3, 45, 'hello', 45.7)\n"
          ]
        }
      ],
      "source": [
        "# Creating Tuple using tuple() function\n",
        "v=[1,2,3,45,\"hello\",45.7]\n",
        "x= tuple(v)\n",
        "print(\"Tuple using tuple() function:\",x)"
      ]
    },
    {
      "cell_type": "code",
      "execution_count": null,
      "metadata": {
        "colab": {
          "base_uri": "https://localhost:8080/"
        },
        "id": "0EKjQ2Tq2C8t",
        "outputId": "c74b0d47-bc7c-4fd7-e0cd-451f8863d67f"
      },
      "outputs": [
        {
          "output_type": "stream",
          "name": "stdout",
          "text": [
            "List created from tuple is: [1, 2, 3, 45, 'hello', 45.7]\n"
          ]
        }
      ],
      "source": [
        "# Creating List using tuple\n",
        "v=(1,2,3,45,\"hello\",45.7)\n",
        "x= list(v)\n",
        "print(\"List created from tuple is:\",x)"
      ]
    },
    {
      "cell_type": "code",
      "execution_count": null,
      "metadata": {
        "colab": {
          "base_uri": "https://localhost:8080/"
        },
        "id": "qdq6xL0O3GO1",
        "outputId": "7cbe3bac-7b77-4199-c1fd-064be85f651a"
      },
      "outputs": [
        {
          "output_type": "stream",
          "name": "stdout",
          "text": [
            "Type of Empty Dictionary is: <class 'dict'>\n"
          ]
        }
      ],
      "source": [
        "# Creating Empty Dictionary\n",
        "a={}\n",
        "print(\"Type of Empty Dictionary is:\",type(a))"
      ]
    },
    {
      "cell_type": "code",
      "execution_count": null,
      "metadata": {
        "colab": {
          "base_uri": "https://localhost:8080/"
        },
        "id": "cdL6B_IU3kRf",
        "outputId": "28bbec93-a784-4171-9746-f8622f5ed901"
      },
      "outputs": [
        {
          "output_type": "stream",
          "name": "stdout",
          "text": [
            "Type of Empty Set is: <class 'set'>\n"
          ]
        }
      ],
      "source": [
        "# Creating Empty Set\n",
        "a=set({})\n",
        "print(\"Type of Empty Set is:\",type(a))"
      ]
    },
    {
      "cell_type": "code",
      "execution_count": null,
      "metadata": {
        "colab": {
          "base_uri": "https://localhost:8080/"
        },
        "id": "5pIKAX_-3wRQ",
        "outputId": "321ca034-2558-4c1f-9d68-b8198643887e"
      },
      "outputs": [
        {
          "output_type": "stream",
          "name": "stdout",
          "text": [
            "Set is: {'H', 'l', 'E', 'o'}\n"
          ]
        }
      ],
      "source": [
        "# Creating Empty Set\n",
        "a=set(\"HEllo\")\n",
        "print(\"Set is:\",a)"
      ]
    },
    {
      "cell_type": "code",
      "execution_count": null,
      "metadata": {
        "colab": {
          "base_uri": "https://localhost:8080/"
        },
        "id": "v6EIUJwI4nym",
        "outputId": "0afacf4d-f0a8-48df-cbf6-f075f893a551"
      },
      "outputs": [
        {
          "output_type": "stream",
          "name": "stdout",
          "text": [
            "Dictionary is: {1: {'H', 'l', 'E', 'o'}, 'string': 'apple', 'k': 'kites'}\n"
          ]
        }
      ],
      "source": [
        "# Creating Dictionary\n",
        "b={1:a,b:\"apple\",\"k\":\"kites\"}\n",
        "print(\"Dictionary is:\",b)"
      ]
    },
    {
      "cell_type": "code",
      "execution_count": null,
      "metadata": {
        "colab": {
          "base_uri": "https://localhost:8080/"
        },
        "id": "kqv7DNbh5Fvp",
        "outputId": "10e199a6-b968-433d-ba6f-48c2ee0cc162"
      },
      "outputs": [
        {
          "output_type": "stream",
          "name": "stdout",
          "text": [
            "Dictionary is: {1: 678, 'b': 'apple', 'k': 'kites'}\n"
          ]
        }
      ],
      "source": [
        "# Creating Dictionary\n",
        "b={1:678,\"b\":\"apple\",\"k\":\"kites\"}\n",
        "print(\"Dictionary is:\",b)"
      ]
    },
    {
      "cell_type": "code",
      "execution_count": null,
      "metadata": {
        "colab": {
          "base_uri": "https://localhost:8080/"
        },
        "id": "inIhX9KG53pV",
        "outputId": "76afaef5-503e-49d2-df2e-e18612ab1826"
      },
      "outputs": [
        {
          "output_type": "stream",
          "name": "stdout",
          "text": [
            " Empty Dictionary using set from dict() function is: {}\n"
          ]
        }
      ],
      "source": [
        "# Creating Empty Dictionary using set from dict() function\n",
        "m=dict({})\n",
        "print(\" Empty Dictionary using set from dict() function is:\",m)"
      ]
    },
    {
      "cell_type": "code",
      "execution_count": null,
      "metadata": {
        "colab": {
          "base_uri": "https://localhost:8080/"
        },
        "id": "dg6cVBBm6Sh2",
        "outputId": "6e431987-c2ac-4b48-8199-70587ff2729c"
      },
      "outputs": [
        {
          "output_type": "stream",
          "name": "stdout",
          "text": [
            "Dictionary is: {1: 678, 'b': 'apple', 'k': 'kites'}\n",
            "List from Dictionary is: [1, 'b', 'k']\n"
          ]
        }
      ],
      "source": [
        "# Creating Dictionary\n",
        "b={1:678,\"b\":\"apple\",\"k\":\"kites\"}\n",
        "print(\"Dictionary is:\",b)\n",
        "# Creating list from Dictionary\n",
        "g=list(b)\n",
        "print(\"List from Dictionary is:\",g)"
      ]
    },
    {
      "cell_type": "code",
      "execution_count": null,
      "metadata": {
        "colab": {
          "base_uri": "https://localhost:8080/"
        },
        "id": "3fuUihNc6vLR",
        "outputId": "fe6b3bc6-f868-4c6d-9b16-267fc17e8c00"
      },
      "outputs": [
        {
          "output_type": "stream",
          "name": "stdout",
          "text": [
            "First element is: 1678\n",
            "First element is: 1678\n"
          ]
        }
      ],
      "source": [
        "# Creating list\n",
        "b=[1678,\"apple\",\"kites\"]\n",
        "# Indexing\n",
        "print(\"First element is:\",b[0])\n",
        "g=b[0]\n",
        "print(\"First element is:\",g)"
      ]
    },
    {
      "cell_type": "code",
      "execution_count": null,
      "metadata": {
        "colab": {
          "base_uri": "https://localhost:8080/"
        },
        "id": "-z5O1jVK7V4w",
        "outputId": "f49757ea-a260-4fdc-9886-69141f0478b0"
      },
      "outputs": [
        {
          "output_type": "stream",
          "name": "stdout",
          "text": [
            "First element is: 1678\n",
            "Third element is: kites\n"
          ]
        }
      ],
      "source": [
        "# Creating list\n",
        "b=[1678,\"apple\",\"kites\"]\n",
        "# Indexing\n",
        "print(\"First element is:\",b[0])\n",
        "g=b[2]\n",
        "print(\"Third element is:\",g)"
      ]
    },
    {
      "cell_type": "code",
      "execution_count": null,
      "metadata": {
        "colab": {
          "base_uri": "https://localhost:8080/"
        },
        "id": "N7mMaF7S7tqF",
        "outputId": "fca59b84-4fb9-41ef-b10c-359de19075fa"
      },
      "outputs": [
        {
          "output_type": "stream",
          "name": "stdout",
          "text": [
            "First element is: 1678\n",
            "Second element is: apple\n"
          ]
        }
      ],
      "source": [
        "# Creating list\n",
        "b=[1678,\"apple\",\"kites\"]\n",
        "# Indexing\n",
        "print(\"First element is:\",b[0])\n",
        "g=b[1]\n",
        "print(\"Second element is:\",g)"
      ]
    },
    {
      "cell_type": "code",
      "execution_count": null,
      "metadata": {
        "colab": {
          "base_uri": "https://localhost:8080/"
        },
        "id": "vlE2cYDY74YF",
        "outputId": "e144736c-4efb-4393-f8b0-6aaa02cfe467"
      },
      "outputs": [
        {
          "output_type": "stream",
          "name": "stdout",
          "text": [
            "Third element is: kites\n",
            "NO elements!!!!!!\n"
          ]
        }
      ],
      "source": [
        "# Exception Handling and Indexing\n",
        "try:\n",
        "  b=[1678,\"apple\",\"kites\"]\n",
        "  print(\"Third element is:\",b[2])\n",
        "  g=b[4]\n",
        "  print(g)\n",
        "except:\n",
        "  print(\"NO elements!!!!!!\")"
      ]
    },
    {
      "cell_type": "code",
      "execution_count": 31,
      "metadata": {
        "colab": {
          "base_uri": "https://localhost:8080/"
        },
        "id": "MvbqdZSt8A6M",
        "outputId": "6eb90ed8-9c9f-4900-adb6-ff8874fba02d"
      },
      "outputs": [
        {
          "output_type": "stream",
          "name": "stdout",
          "text": [
            "Index of i is: 3\n",
            "Index of i is: 3\n"
          ]
        }
      ],
      "source": [
        "# Creating string\n",
        "s=\"string\"\n",
        "# Indexing using index function\n",
        "b=s.index(\"i\")\n",
        "print(\"Index of i is:\",b)\n",
        "# Indexing using index function giving start and stop range\n",
        "print(\"Index of i is:\",s.index(\"i\",2,5))"
      ]
    },
    {
      "cell_type": "code",
      "execution_count": 32,
      "metadata": {
        "colab": {
          "base_uri": "https://localhost:8080/"
        },
        "id": "k7_iHnm98jYv",
        "outputId": "b1019575-9783-4b36-b789-b1e42609db8b"
      },
      "outputs": [
        {
          "output_type": "stream",
          "name": "stdout",
          "text": [
            "Index of g is: 5\n"
          ]
        }
      ],
      "source": [
        "# Creating string\n",
        "s=\"string\"\n",
        "# Indexing using index function giving start and stop range\n",
        "print(\"Index of g is:\",s.index(\"g\",2,6))"
      ]
    },
    {
      "cell_type": "code",
      "execution_count": 34,
      "metadata": {
        "colab": {
          "base_uri": "https://localhost:8080/"
        },
        "id": "9S-uRoUH-rDM",
        "outputId": "b1442588-7b76-40ac-f26d-d93e9fb7a229"
      },
      "outputs": [
        {
          "output_type": "stream",
          "name": "stdout",
          "text": [
            "Original List is: [1678, 'apple', 'kites']\n",
            "List after Repetition is: [1678, 'apple', 'kites', 1678, 'apple', 'kites', 1678, 'apple', 'kites']\n"
          ]
        }
      ],
      "source": [
        "# Creating List\n",
        "b=[1678,\"apple\",\"kites\"]\n",
        "print(\"Original List is:\",b)\n",
        "# Repetition of list\n",
        "print(\"List after Repetition is:\",b*3)"
      ]
    },
    {
      "cell_type": "code",
      "execution_count": 35,
      "metadata": {
        "colab": {
          "base_uri": "https://localhost:8080/"
        },
        "id": "-70c5ICD_Kju",
        "outputId": "c299d738-8f94-449c-8248-1d6f4e6edd49"
      },
      "outputs": [
        {
          "output_type": "stream",
          "name": "stdout",
          "text": [
            "List is: (1678, 'apple', 'kites')\n",
            "List after Multiplying to 0 is: ()\n"
          ]
        }
      ],
      "source": [
        "# Creating List\n",
        "b=(1678,\"apple\",\"kites\")\n",
        "print(\"List is:\",b)\n",
        "# Multiplying to 0 creates empty list\n",
        "print(\"List after Multiplying to 0 is:\",b*0)"
      ]
    },
    {
      "cell_type": "code",
      "execution_count": 36,
      "metadata": {
        "colab": {
          "base_uri": "https://localhost:8080/"
        },
        "id": "F2rpXK96_StW",
        "outputId": "858001c7-ac40-442b-dade-7d7f9bcefff2"
      },
      "outputs": [
        {
          "output_type": "stream",
          "name": "stdout",
          "text": [
            "List is: (1678, 'apple', 'kites')\n",
            "List after Multiplying to -5 is: ()\n"
          ]
        }
      ],
      "source": [
        "# Creating List\n",
        "b=(1678,\"apple\",\"kites\")\n",
        "print(\"List is:\",b)\n",
        "# Multiplying to -5 creates empty list\n",
        "print(\"List after Multiplying to -5 is:\",b*-5)"
      ]
    },
    {
      "cell_type": "code",
      "execution_count": 37,
      "metadata": {
        "colab": {
          "base_uri": "https://localhost:8080/"
        },
        "id": "EKHNM0j3_XEm",
        "outputId": "ffaf5b5f-cae1-48d7-a2ef-aaf3d8178605"
      },
      "outputs": [
        {
          "output_type": "stream",
          "name": "stdout",
          "text": [
            "Addition of string is: helloworld\n"
          ]
        }
      ],
      "source": [
        "# Creating strings\n",
        "a=\"hello\"\n",
        "b=\"world\"\n",
        "# Addition of string\n",
        "print(\"Addition of string is:\",a+b)"
      ]
    },
    {
      "cell_type": "code",
      "execution_count": 38,
      "metadata": {
        "colab": {
          "base_uri": "https://localhost:8080/"
        },
        "id": "vyzVMnTS_oWA",
        "outputId": "c049928b-9a24-4721-c443-d268bf65aee2"
      },
      "outputs": [
        {
          "output_type": "stream",
          "name": "stdout",
          "text": [
            "Combining using join function is: hello @world\n"
          ]
        }
      ],
      "source": [
        "# Combining using join function- combined with a character given\n",
        "c=\" @\".join([a,b])\n",
        "print(\"Combining using join function is:\",c)"
      ]
    },
    {
      "cell_type": "code",
      "execution_count": 39,
      "metadata": {
        "colab": {
          "base_uri": "https://localhost:8080/"
        },
        "id": "D7-jP9A5AM8q",
        "outputId": "1b0f3184-5460-4410-a803-db88266c49d4"
      },
      "outputs": [
        {
          "output_type": "stream",
          "name": "stdout",
          "text": [
            "Set 1 is: {'apple', 1678, 'kites'}\n",
            "Set 2 is: {'hello'}\n",
            "Set after union is: {'hello', 'apple', 1678, 'kites'}\n"
          ]
        }
      ],
      "source": [
        "# Creating sets\n",
        "b={1678,\"apple\",\"kites\"}\n",
        "print(\"Set 1 is:\",b)\n",
        "c={\"hello\"}\n",
        "print(\"Set 2 is:\",c)\n",
        "d=b.union(c)\n",
        "print(\"Set after union is:\",d)"
      ]
    },
    {
      "cell_type": "code",
      "execution_count": 40,
      "metadata": {
        "colab": {
          "base_uri": "https://localhost:8080/"
        },
        "id": "V2tRPogbBxYm",
        "outputId": "5fe131e7-0439-4d3d-d346-73fe0b5c7926"
      },
      "outputs": [
        {
          "output_type": "stream",
          "name": "stdout",
          "text": [
            "List 1 is: [1678, 'apple', 'kites']\n",
            "List 2 is: [22, 56, 78]\n",
            "Addition of list is: [1678, 'apple', 'kites', 22, 56, 78]\n"
          ]
        }
      ],
      "source": [
        "# Creating lists\n",
        "b=[1678,\"apple\",\"kites\"]\n",
        "print(\"List 1 is:\",b)\n",
        "c=[22,56,78]\n",
        "print(\"List 2 is:\",c)\n",
        "d=b+c\n",
        "print(\"Addition of list is:\",d)"
      ]
    },
    {
      "cell_type": "code",
      "execution_count": 41,
      "metadata": {
        "colab": {
          "base_uri": "https://localhost:8080/"
        },
        "id": "8c15_vBQCSpY",
        "outputId": "f7885d5b-edf0-4ff5-f722-d76624a0d4c4"
      },
      "outputs": [
        {
          "output_type": "stream",
          "name": "stdout",
          "text": [
            "Tuple 1 is: (90.78, 78, 76, 45)\n",
            "Tuple 2 is: ('j', 8, 78, 76)\n",
            "Addition of tuple is: (90.78, 78, 76, 45, 'j', 8, 78, 76)\n"
          ]
        }
      ],
      "source": [
        "# Creating tuples\n",
        "b=(90.78,78,76,45)\n",
        "print(\"Tuple 1 is:\",b)\n",
        "m=(\"j\",8,78,76)\n",
        "print(\"Tuple 2 is:\",m)\n",
        "print(\"Addition of tuple is:\",b+m)"
      ]
    },
    {
      "cell_type": "code",
      "execution_count": 52,
      "metadata": {
        "colab": {
          "base_uri": "https://localhost:8080/"
        },
        "id": "-Tt0mXcXC54b",
        "outputId": "785d33d4-3d3f-4142-e760-02a022b0d6e9"
      },
      "outputs": [
        {
          "output_type": "stream",
          "name": "stdout",
          "text": [
            "Slicing using slice function is: bor\n"
          ]
        }
      ],
      "source": [
        "# Creating string\n",
        "a=\"boring\"\n",
        "# Slicing using slice function\n",
        "# Start:stop:step\n",
        "b=slice(3)\n",
        "c=a[b]\n",
        "print(\"Slicing using slice function is:\",c)"
      ]
    },
    {
      "cell_type": "code",
      "execution_count": 50,
      "metadata": {
        "colab": {
          "base_uri": "https://localhost:8080/"
        },
        "id": "--23xPZFDYii",
        "outputId": "2ce5d1f4-21c7-420f-e602-05b86cbbe5cb"
      },
      "outputs": [
        {
          "output_type": "stream",
          "name": "stdout",
          "text": [
            "Slice is: or\n"
          ]
        }
      ],
      "source": [
        "# Creating string\n",
        "a=\"boring\"\n",
        "# Slicing using slice function\n",
        "b=slice(1,3)\n",
        "# Accesing via index\n",
        "c=a[b]\n",
        "print(\"Slice is:\",c)"
      ]
    },
    {
      "cell_type": "code",
      "execution_count": 57,
      "metadata": {
        "colab": {
          "base_uri": "https://localhost:8080/"
        },
        "id": "TaiGbb5AD6ZM",
        "outputId": "a99b3321-fba4-4c02-9dde-4fda7f828580"
      },
      "outputs": [
        {
          "output_type": "stream",
          "name": "stdout",
          "text": [
            "List using :: is: [78, 89, 8999]\n"
          ]
        }
      ],
      "source": [
        "# Creating List\n",
        "a=[78,89,8999]\n",
        "# Indexing-start:stop:step\n",
        "# Giving no value by defaults it takes 0:len(list)+1:1\n",
        "print(\"List using :: is:\",a[::])"
      ]
    },
    {
      "cell_type": "code",
      "execution_count": 60,
      "metadata": {
        "colab": {
          "base_uri": "https://localhost:8080/"
        },
        "id": "DFPd1fVDEaT3",
        "outputId": "a7688f87-6405-480d-84fc-bc9eb092aa4c"
      },
      "outputs": [
        {
          "output_type": "stream",
          "name": "stdout",
          "text": [
            "List using : is: [78, 89, 8999, 90, 67, 45, 23]\n"
          ]
        }
      ],
      "source": [
        "# Creating List\n",
        "a=[78,89,8999,90,67,45,23]\n",
        "# Indexing-start:stop:step\n",
        "# Giving no value by defaults it takes 0:len(list)+1\n",
        "print(\"List using : is:\",a[:])"
      ]
    },
    {
      "cell_type": "code",
      "execution_count": 61,
      "metadata": {
        "colab": {
          "base_uri": "https://localhost:8080/"
        },
        "id": "n--3NKPpEjfv",
        "outputId": "8df45e39-307a-44f9-fa91-93c088ba21f5"
      },
      "outputs": [
        {
          "output_type": "stream",
          "name": "stdout",
          "text": [
            "List from index 0 to index 1 aka from first element to third element is: [78, 89]\n"
          ]
        }
      ],
      "source": [
        "# Giving start:stop value\n",
        "print(\"List from index 0 to index 1 aka from first element to third element is:\",a[0:2])"
      ]
    },
    {
      "cell_type": "code",
      "execution_count": 62,
      "metadata": {
        "colab": {
          "base_uri": "https://localhost:8080/"
        },
        "id": "YIqMMxbyEoKu",
        "outputId": "d8a0106d-06d8-4f6e-9700-67a5372a3657"
      },
      "outputs": [
        {
          "output_type": "stream",
          "name": "stdout",
          "text": [
            "List from index 2 to end of list aka from third element to end is: [8999, 90, 67, 45, 23]\n"
          ]
        }
      ],
      "source": [
        "# Giving start:stop value\n",
        "print(\"List from index 2 to end of list aka from third element to end is:\",a[2:])"
      ]
    },
    {
      "cell_type": "code",
      "execution_count": 63,
      "metadata": {
        "colab": {
          "base_uri": "https://localhost:8080/"
        },
        "id": "c0875nnTFDsJ",
        "outputId": "a18be896-6f64-48f7-c96b-72ecd9ae7b46"
      },
      "outputs": [
        {
          "output_type": "stream",
          "name": "stdout",
          "text": [
            "List from index -1 to -4 of list aka from last element to fifth is: [67, 54, 32]\n"
          ]
        }
      ],
      "source": [
        "# Negative Indexing\n",
        "# Creating List\n",
        "a=[78,89,8999,89,67,54,32,12]\n",
        "# Giving start:stop value\n",
        "print(\"List from index -1 to -4 of list aka from last element to fifth is:\",a[-4:-1])"
      ]
    }
  ],
  "metadata": {
    "colab": {
      "provenance": []
    },
    "kernelspec": {
      "display_name": "Python 3",
      "name": "python3"
    },
    "language_info": {
      "name": "python"
    }
  },
  "nbformat": 4,
  "nbformat_minor": 0
}