{
 "cells": [
  {
   "cell_type": "code",
   "execution_count": 3,
   "id": "bc549446",
   "metadata": {},
   "outputs": [
    {
     "name": "stdout",
     "output_type": "stream",
     "text": [
      "Enter an integer: 27\n",
      "27 is not a multiple of both 5 and 7\n"
     ]
    }
   ],
   "source": [
    "# Taking Input\n",
    "n = int(input(\"Enter an integer: \"))\n",
    "\n",
    "# Defining function for checking\n",
    "def check_5and7(number):\n",
    "            if((number%5==0)and(number%7==0)):\n",
    "                    print(number, \"is a multiple of both 5 and 7\") \n",
    "            else:\n",
    "                    print(number, \"is not a multiple of both 5 and 7\")\n",
    "\n",
    "# Calling Function\n",
    "check_5and7(n)"
   ]
  },
  {
   "cell_type": "code",
   "execution_count": 7,
   "id": "4a7acbe9",
   "metadata": {},
   "outputs": [
    {
     "name": "stdout",
     "output_type": "stream",
     "text": [
      "Enter Two numbers :-\n",
      "Enter First Number: 25\n",
      "Enter Second Number: 33\n",
      "Enter the operation +,-,,/ :  /\n",
      "Division is: 0.7575757575757576\n"
     ]
    }
   ],
   "source": [
    "# Making a calculator function\n",
    "\n",
    "# For addition\n",
    "def add(x,y):\n",
    "    print(\"Addition is:\",x+y)\n",
    "    \n",
    "# For Subtraction\n",
    "def subtract(x,y):\n",
    "    print(\"Subtraction is:\",x-y)\n",
    "    \n",
    "# For Multiplication\n",
    "def multiply(x,y):\n",
    "    print(\"Multiplication is:\",x*y)\n",
    "    \n",
    "# For Division\n",
    "def divide(x,y):\n",
    "    print(\"Division is:\",x/y)\n",
    "\n",
    "# For Input and operation performance\n",
    "def calculator():\n",
    "    \n",
    "    print(\"Enter Two numbers :-\")\n",
    "    n1=int(input(\"Enter First Number: \"))\n",
    "    n2=int(input(\"Enter Second Number: \"))\n",
    "    \n",
    "    op=input(\"Enter the operation +,-,,/ :  \") \n",
    "    \n",
    "    if op=='+':\n",
    "        add(int(n1),int(n2))\n",
    "        \n",
    "    elif op=='-':\n",
    "        subtract(int(n1),int(n2))\n",
    "        \n",
    "    elif op=='':\n",
    "        multiply(int(n1),int(n2))\n",
    "        \n",
    "    elif op=='/':\n",
    "        divide(int(n1),int(n2))\n",
    "        \n",
    "    else:\n",
    "        print(\" Invalid entry \")\n",
    "\n",
    "# Calling calulator function\n",
    "calculator()"
   ]
  },
  {
   "cell_type": "code",
   "execution_count": 8,
   "id": "d0a6ff7e",
   "metadata": {},
   "outputs": [
    {
     "name": "stdout",
     "output_type": "stream",
     "text": [
      "Enter the value of 'n': 8\n",
      "Fibonacci Series :  0 1 1 2 3 5 8 13 "
     ]
    }
   ],
   "source": [
    "# Fibonacci Series Printing\n",
    "\n",
    "# Creating Function\n",
    "def fibo(n):\n",
    "    a = 0\n",
    "    b = 1\n",
    "    sum = 0\n",
    "    count = 1\n",
    "    print(\"Fibonacci Series : \", end = \" \")\n",
    "    while(count <= n):\n",
    "        print(sum, end = \" \")\n",
    "        count += 1\n",
    "        a = b\n",
    "        b = sum\n",
    "        sum = a + b\n",
    "\n",
    "# Number of Terms\n",
    "n = int(input(\"Enter the value of 'n': \"))\n",
    "# Calling Function\n",
    "fibo(n)"
   ]
  },
  {
   "cell_type": "code",
   "execution_count": 19,
   "id": "8fa79bee",
   "metadata": {},
   "outputs": [
    {
     "name": "stdout",
     "output_type": "stream",
     "text": [
      "Enter the range: 501\n",
      "Numbers which are equal to sum of square of digits in the given range are: \n",
      "1 25 36 "
     ]
    }
   ],
   "source": [
    "# Printing numbers equal to to sum of square of digits\n",
    "# For example 64- Digits are- 4^3=64 , 370-3^3 + 7^3 +0^3 = 27+343+0 = 370\n",
    "\n",
    "# Creating function\n",
    "def sumsqr(n):\n",
    "    \n",
    "    for num in range(1,n):  \n",
    "       sum = 0  \n",
    "       temp = num  \n",
    "       while temp > 0:  \n",
    "           digit = temp % 10  \n",
    "           sum += digit ** 2  \n",
    "           temp //= 10  \n",
    "           if num == sum:  \n",
    "               print(num,end=\" \")\n",
    "\n",
    "# Taking input the range\n",
    "n=int(input(\"Enter the range: \"))\n",
    "print(\"Numbers which are equal to sum of square of digits in the given range are: \")\n",
    "sumsqr(n)"
   ]
  },
  {
   "cell_type": "code",
   "execution_count": 14,
   "id": "381f8b43",
   "metadata": {},
   "outputs": [
    {
     "name": "stdout",
     "output_type": "stream",
     "text": [
      "Enter the range: 501\n",
      "Numbers which are equal to sum of cube of digits in the given range are: \n",
      "1 64 125 153 216 370 371 407 "
     ]
    }
   ],
   "source": [
    "# Printing numbers equal to to sum of cube of digits\n",
    "# For example 64- Digits are- 4^3=64 , 370-3^3 + 7^3 +0^3 = 27+343+0 = 370\n",
    "\n",
    "# Creating function\n",
    "def sumcub(n):\n",
    "    \n",
    "    for num in range(1,n):  \n",
    "       sum = 0  \n",
    "       temp = num  \n",
    "       while temp > 0:  \n",
    "           digit = temp % 10  \n",
    "           sum += digit ** 3  \n",
    "           temp //= 10  \n",
    "           if num == sum:  \n",
    "               print(num,end=\" \")\n",
    "\n",
    "# Taking input the range\n",
    "n=int(input(\"Enter the range: \"))\n",
    "print(\"Numbers which are equal to sum of cube of digits in the given range are: \")\n",
    "sumcub(n)"
   ]
  },
  {
   "cell_type": "code",
   "execution_count": 16,
   "id": "5470882c",
   "metadata": {},
   "outputs": [
    {
     "name": "stdout",
     "output_type": "stream",
     "text": [
      "Enter a Number: 25\n",
      "Yes, 25 is an automorphic number\n"
     ]
    }
   ],
   "source": [
    "# Checking for Automorphic Number\n",
    "# Automorphic Number is number in which the square of number ends with the number\n",
    "# For example - 25^2 =625 25 is present at the end of its square\n",
    "\n",
    "# Creating a function\n",
    "def automorphic(num):\n",
    "    \n",
    "    # Getting the number of digits in num\n",
    "    num_of_digits = len(str(num))  \n",
    "  \n",
    "    # Computing the square of a number  \n",
    "    square = num**2  \n",
    "  \n",
    "    # Obtaining the last digits   \n",
    "    last_digits = square%pow(10,num_of_digits)  \n",
    "  \n",
    "    # Comparing the digits of number with input  \n",
    "    if last_digits == num:  \n",
    "          print(\"Yes, {} is an automorphic number\".format(num))  \n",
    "            \n",
    "# Taking Input\n",
    "n=int(input(\"Enter a Number: \"))\n",
    "# Calling function\n",
    "automorphic(n)"
   ]
  }
 ],
 "metadata": {
  "kernelspec": {
   "display_name": "Python 3 (ipykernel)",
   "language": "python",
   "name": "python3"
  },
  "language_info": {
   "codemirror_mode": {
    "name": "ipython",
    "version": 3
   },
   "file_extension": ".py",
   "mimetype": "text/x-python",
   "name": "python",
   "nbconvert_exporter": "python",
   "pygments_lexer": "ipython3",
   "version": "3.9.12"
  }
 },
 "nbformat": 4,
 "nbformat_minor": 5
}
