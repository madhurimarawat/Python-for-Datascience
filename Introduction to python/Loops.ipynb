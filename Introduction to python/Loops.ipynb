{
 "cells": [
  {
   "cell_type": "markdown",
   "metadata": {},
   "source": [
    "while loop for loop<br>\n",
    "Runs till specified condition is correct<br>\n",
    "1-10"
   ]
  },
  {
   "cell_type": "code",
   "execution_count": 1,
   "metadata": {},
   "outputs": [
    {
     "name": "stdout",
     "output_type": "stream",
     "text": [
      "Value is 10\n",
      "Value is 9\n",
      "Value is 8\n",
      "Value is 7\n",
      "Value is 6\n",
      "Value is 5\n",
      "Task completed\n"
     ]
    }
   ],
   "source": [
    "count=10\n",
    "# while loop\n",
    "while count>=5:\n",
    "    print(\"Value is {}\".format(count))\n",
    "    count-=1\n",
    "else:\n",
    "    print(\"Task completed\")"
   ]
  },
  {
   "cell_type": "markdown",
   "metadata": {},
   "source": [
    "for loop<br>\n",
    "three values in range start:stop:step"
   ]
  },
  {
   "cell_type": "code",
   "execution_count": 2,
   "metadata": {},
   "outputs": [
    {
     "name": "stdout",
     "output_type": "stream",
     "text": [
      "1\n",
      "4\n",
      "7\n",
      "10\n",
      "Task completed\n"
     ]
    }
   ],
   "source": [
    "for counter in range(1,11,3): # 1-10\n",
    "    print(counter)\n",
    "else:\n",
    "    print(\"Task completed\")"
   ]
  },
  {
   "cell_type": "code",
   "execution_count": 3,
   "metadata": {},
   "outputs": [
    {
     "name": "stdout",
     "output_type": "stream",
     "text": [
      "printed\n",
      "H\n",
      "o\n",
      "w\n",
      " \n",
      "a\n",
      "r\n",
      "e\n",
      " \n",
      "o\n",
      "u\n",
      " \n"
     ]
    }
   ],
   "source": [
    "message=\"How are you class?\"\n",
    "# break- to stop execution after condition\n",
    "# continue- continues after condition skipping that condition\n",
    "# pass-simply passes through and do nothing but execute statement in its block\n",
    "for i in message:\n",
    "    if i==\"c\":\n",
    "        break\n",
    "    if i==\"y\":\n",
    "        continue\n",
    "    if i==\"H\":\n",
    "        pass\n",
    "        print(\"printed\")\n",
    "    print(i)"
   ]
  },
  {
   "cell_type": "markdown",
   "metadata": {},
   "source": [
    "\n",
    "<br>\n",
    "*<br>\n",
    "* *<br>\n",
    "* * *<br>\n",
    "* * * *<br>\n",
    "* * * * *\n"
   ]
  },
  {
   "cell_type": "code",
   "execution_count": 4,
   "metadata": {},
   "outputs": [
    {
     "name": "stdout",
     "output_type": "stream",
     "text": [
      "Pattern using one loop is:\n",
      "* \n",
      "* * \n",
      "* * * \n",
      "* * * * \n",
      "* * * * * \n",
      "\n",
      "\n",
      "Pattern using two loop is:\n",
      "* \n",
      "* * \n",
      "* * * \n",
      "* * * * \n",
      "* * * * * \n"
     ]
    }
   ],
   "source": [
    "print(\"Pattern using one loop is:\")\n",
    "for i in range(0,5):\n",
    "    print(\"* \"*(i+1))\n",
    "print(\"\\n\")\n",
    "print(\"Pattern using two loop is:\")\n",
    "for i in range(0,5):\n",
    "    for j in range(i+1):\n",
    "        print(\"*\",end=\" \")\n",
    "    print('\\n',end=\"\")"
   ]
  },
  {
   "cell_type": "markdown",
   "metadata": {},
   "source": [
    "Inverted pattern"
   ]
  },
  {
   "cell_type": "code",
   "execution_count": 5,
   "metadata": {},
   "outputs": [
    {
     "name": "stdout",
     "output_type": "stream",
     "text": [
      "\n",
      "Pattern using one loop is:\n",
      "* * * * * \n",
      "* * * * \n",
      "* * * \n",
      "* * \n",
      "* \n",
      "\n",
      "\n",
      "\n",
      "Pattern using two loop is:\n",
      "* * * * * \n",
      "* * * * \n",
      "* * * \n",
      "* * \n",
      "* \n",
      "\n"
     ]
    }
   ],
   "source": [
    "print(\"\\n\",end=\"\")\n",
    "print(\"Pattern using one loop is:\")\n",
    "for i in range(6,0,-1):\n",
    "    print(\"* \"*(i-1))\n",
    "print(\"\\n\")\n",
    "print(\"Pattern using two loop is:\")\n",
    "for i in range(6,0,-1):\n",
    "    for j in range(i-1):\n",
    "        print(\"*\",end=\" \")\n",
    "    print('\\n',end=\"\")"
   ]
  },
  {
   "cell_type": "markdown",
   "metadata": {},
   "source": [
    "Ask the user to enter number and find if its prime or not"
   ]
  },
  {
   "cell_type": "code",
   "execution_count": 6,
   "metadata": {},
   "outputs": [
    {
     "name": "stdout",
     "output_type": "stream",
     "text": [
      "Enter a number:  25\n",
      "25 is not a Prime number\n"
     ]
    }
   ],
   "source": [
    "n=int(input(\"Enter a number:  \"))\n",
    "def prime(n):\n",
    "    c=0\n",
    "    for i in range(2,n//2):\n",
    "        if(n==0 or n==1):\n",
    "            c=0\n",
    "        elif n==2:\n",
    "            c=1\n",
    "        elif (n % i == 0):\n",
    "            c = 0\n",
    "            break\n",
    "        else:\n",
    "            c = 1\n",
    "    return c\n",
    "if(prime(n)==0):\n",
    "        print(n,\"is not a Prime number\")\n",
    "else:\n",
    "        print(n,\"is a Prime number\")"
   ]
  },
  {
   "cell_type": "markdown",
   "metadata": {},
   "source": [
    "Printing range of prime numbers"
   ]
  },
  {
   "cell_type": "code",
   "execution_count": 7,
   "metadata": {},
   "outputs": [
    {
     "name": "stdout",
     "output_type": "stream",
     "text": [
      "Range of prime numbers from 25 are:\n",
      "2 3 5 7 11 13 17 19 23 "
     ]
    }
   ],
   "source": [
    "print(\"Range of prime numbers from\",n,\"are:\")\n",
    "for i in range(2,n):\n",
    "    for j in range(2,i):\n",
    "        if(i%j==0):\n",
    "            break\n",
    "    else:\n",
    "        print(i,end=\" \")"
   ]
  }
 ],
 "metadata": {
  "kernelspec": {
   "display_name": "Python 3 (ipykernel)",
   "language": "python",
   "name": "python3"
  },
  "language_info": {
   "codemirror_mode": {
    "name": "ipython",
    "version": 3
   },
   "file_extension": ".py",
   "mimetype": "text/x-python",
   "name": "python",
   "nbconvert_exporter": "python",
   "pygments_lexer": "ipython3",
   "version": "3.9.12"
  }
 },
 "nbformat": 4,
 "nbformat_minor": 2
}
