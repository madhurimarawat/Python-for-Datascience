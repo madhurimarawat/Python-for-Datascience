{
 "cells": [
  {
   "cell_type": "markdown",
   "metadata": {},
   "source": [
    "Printing statement in python"
   ]
  },
  {
   "cell_type": "code",
   "execution_count": 1,
   "metadata": {},
   "outputs": [
    {
     "name": "stdout",
     "output_type": "stream",
     "text": [
      "Hello\tclass\tHow are you?\tHello Class\n",
      "String repetition is: 6.56.56.56.5\n",
      "Built in python directories are:\n",
      "\n",
      "['ArithmeticError', 'AssertionError', 'AttributeError', 'BaseException', 'BlockingIOError', 'BrokenPipeError', 'BufferError', 'BytesWarning', 'ChildProcessError', 'ConnectionAbortedError', 'ConnectionError', 'ConnectionRefusedError', 'ConnectionResetError', 'DeprecationWarning', 'EOFError', 'Ellipsis', 'EnvironmentError', 'Exception', 'False', 'FileExistsError', 'FileNotFoundError', 'FloatingPointError', 'FutureWarning', 'GeneratorExit', 'IOError', 'ImportError', 'ImportWarning', 'IndentationError', 'IndexError', 'InterruptedError', 'IsADirectoryError', 'KeyError', 'KeyboardInterrupt', 'LookupError', 'MemoryError', 'ModuleNotFoundError', 'NameError', 'None', 'NotADirectoryError', 'NotImplemented', 'NotImplementedError', 'OSError', 'OverflowError', 'PendingDeprecationWarning', 'PermissionError', 'ProcessLookupError', 'RecursionError', 'ReferenceError', 'ResourceWarning', 'RuntimeError', 'RuntimeWarning', 'StopAsyncIteration', 'StopIteration', 'SyntaxError', 'SyntaxWarning', 'SystemError', 'SystemExit', 'TabError', 'TimeoutError', 'True', 'TypeError', 'UnboundLocalError', 'UnicodeDecodeError', 'UnicodeEncodeError', 'UnicodeError', 'UnicodeTranslateError', 'UnicodeWarning', 'UserWarning', 'ValueError', 'Warning', 'WindowsError', 'ZeroDivisionError', '__IPYTHON__', '__build_class__', '__debug__', '__doc__', '__import__', '__loader__', '__name__', '__package__', '__spec__', 'abs', 'all', 'any', 'ascii', 'bin', 'bool', 'breakpoint', 'bytearray', 'bytes', 'callable', 'chr', 'classmethod', 'compile', 'complex', 'copyright', 'credits', 'delattr', 'dict', 'dir', 'display', 'divmod', 'enumerate', 'eval', 'exec', 'execfile', 'filter', 'float', 'format', 'frozenset', 'get_ipython', 'getattr', 'globals', 'hasattr', 'hash', 'help', 'hex', 'id', 'input', 'int', 'isinstance', 'issubclass', 'iter', 'len', 'license', 'list', 'locals', 'map', 'max', 'memoryview', 'min', 'next', 'object', 'oct', 'open', 'ord', 'pow', 'print', 'property', 'range', 'repr', 'reversed', 'round', 'runfile', 'set', 'setattr', 'slice', 'sorted', 'staticmethod', 'str', 'sum', 'super', 'tuple', 'type', 'vars', 'zip']\n"
     ]
    }
   ],
   "source": [
    "print(\"Hello\",\"class\",\"How are you?\",sep=\"\\t\",end=\"\\t\")\n",
    "print(\"Hello Class\")\n",
    "# 6.5 is string so it simply repeat it\n",
    "print(\"String repetition is:\",4*\"6.5\")\n",
    "# Seeing Builtin python functions which can be used without importing library\n",
    "print(\"Built in python directories are:\\n\")\n",
    "print(dir(__builtins__))"
   ]
  },
  {
   "cell_type": "markdown",
   "metadata": {},
   "source": [
    "Arithmetic Operator + - * / ** // %"
   ]
  },
  {
   "cell_type": "code",
   "execution_count": 2,
   "metadata": {},
   "outputs": [
    {
     "name": "stdout",
     "output_type": "stream",
     "text": [
      "Addition + of 5 and 2 is: 7\n",
      "Subtraction - of 5 and 2 is: 3\n",
      "Multiplication * of 5 and 2 is: 10\n",
      "Division / of 5 and 2 is: 2.5\n",
      "Modulus % of 5 and 2 is: 2\n",
      "Floor division // of 5 and 2 is: 2\n",
      "Exponent /power * of 5 and 2 is: 25\n"
     ]
    }
   ],
   "source": [
    "print(\"Addition + of 5 and 2 is:\",5+2)\n",
    "print(\"Subtraction - of 5 and 2 is:\",5-2)\n",
    "print(\"Multiplication * of 5 and 2 is:\",5*2)\n",
    "print(\"Division / of 5 and 2 is:\",5/2)\n",
    "print(\"Modulus % of 5 and 2 is:\",2%5)\n",
    "print(\"Floor division // of 5 and 2 is:\",5//2)  # // Floor division\n",
    "print(\"Exponent /power * of 5 and 2 is:\",5**2) # ** Exponent /power"
   ]
  },
  {
   "cell_type": "markdown",
   "metadata": {},
   "source": [
    " Comparison Operator - < > == <= >= !="
   ]
  },
  {
   "cell_type": "code",
   "execution_count": 3,
   "metadata": {},
   "outputs": [
    {
     "name": "stdout",
     "output_type": "stream",
     "text": [
      "4==4 is: True\n",
      "4!=4 is: False\n",
      "4>=4 is: True\n",
      "4<=4 is: True\n",
      "4>4 is: False\n",
      "4<4 is: False\n"
     ]
    }
   ],
   "source": [
    "print(\"4==4 is:\",4==4)\n",
    "print(\"4!=4 is:\",4!=4)\n",
    "print(\"4>=4 is:\",4>=4)\n",
    "print(\"4<=4 is:\",4<=4)\n",
    "print(\"4>4 is:\",4>4)\n",
    "print(\"4<4 is:\",4<4)"
   ]
  },
  {
   "cell_type": "markdown",
   "metadata": {},
   "source": [
    " Logical Operator - and or not"
   ]
  },
  {
   "cell_type": "code",
   "execution_count": 4,
   "metadata": {},
   "outputs": [
    {
     "name": "stdout",
     "output_type": "stream",
     "text": [
      "True and False is: False\n",
      "True or False True\n",
      "not False is: True\n"
     ]
    }
   ],
   "source": [
    "print(\"True and False is:\",True and False)\n",
    "print(\"True or False\",True or False)\n",
    "print(\"not False is:\",not False)"
   ]
  },
  {
   "cell_type": "markdown",
   "metadata": {},
   "source": [
    "Declaring/ Creating variable<br>\n",
    "We don't declare datatype<br>\n",
    "x- we need to define data else it gives error"
   ]
  },
  {
   "cell_type": "code",
   "execution_count": 5,
   "metadata": {},
   "outputs": [
    {
     "name": "stdout",
     "output_type": "stream",
     "text": [
      "Variable x is: 4\n",
      "Type of Variable x is: <class 'int'>\n"
     ]
    }
   ],
   "source": [
    "x=4\n",
    "print(\"Variable x is:\",x)\n",
    "print(\"Type of Variable x is:\",type(x))"
   ]
  },
  {
   "cell_type": "code",
   "execution_count": 6,
   "metadata": {},
   "outputs": [
    {
     "name": "stdout",
     "output_type": "stream",
     "text": [
      "Variable x is: 4.5\n",
      "Type of Variable x is: <class 'float'>\n"
     ]
    }
   ],
   "source": [
    "x=4.5\n",
    "print(\"Variable x is:\",x)\n",
    "print(\"Type of Variable x is:\",type(x))"
   ]
  },
  {
   "cell_type": "code",
   "execution_count": 7,
   "metadata": {},
   "outputs": [
    {
     "name": "stdout",
     "output_type": "stream",
     "text": [
      "Variable x is: 4.578904567\n",
      "Type of Variable x is: <class 'str'>\n",
      "Index of 5 is: 2\n",
      "Index of 9 is: 5\n",
      "Index of 7 is: 3\n",
      "Count of 7 is: 2\n"
     ]
    }
   ],
   "source": [
    "y=\"4.578904567\"\n",
    "print(\"Variable x is:\",y)\n",
    "print(\"Type of Variable x is:\",type(y))\n",
    "# index gives index of value passed\n",
    "print(\"Index of 5 is:\",y.index(\"5\"))\n",
    "# If value dosen't exist gives error\n",
    "print(\"Index of 9 is:\",y.index(\"9\"))\n",
    "print(\"Index of 7 is:\",y.index(\"7\"))\n",
    "# count is used for counting number of occurence\n",
    "print(\"Count of 7 is:\",y.count(\"7\"))"
   ]
  },
  {
   "cell_type": "markdown",
   "metadata": {},
   "source": [
    "String"
   ]
  },
  {
   "cell_type": "code",
   "execution_count": 8,
   "metadata": {},
   "outputs": [
    {
     "name": "stdout",
     "output_type": "stream",
     "text": [
      "String is: Apple Juice and\n",
      "Index of a is: 12\n",
      "Count of a is: 1\n"
     ]
    }
   ],
   "source": [
    "a=\"Apple Juice and\"\n",
    "print(\"String is:\",a)\n",
    "print(\"Index of a is:\",a.index(\"a\"))\n",
    "# Python is case sensitive\n",
    "# count is used for counting number of occurence\n",
    "print(\"Count of a is:\",a.count(\"a\"))"
   ]
  }
 ],
 "metadata": {
  "kernelspec": {
   "display_name": "Python 3 (ipykernel)",
   "language": "python",
   "name": "python3"
  },
  "language_info": {
   "codemirror_mode": {
    "name": "ipython",
    "version": 3
   },
   "file_extension": ".py",
   "mimetype": "text/x-python",
   "name": "python",
   "nbconvert_exporter": "python",
   "pygments_lexer": "ipython3",
   "version": "3.9.12"
  }
 },
 "nbformat": 4,
 "nbformat_minor": 2
}
