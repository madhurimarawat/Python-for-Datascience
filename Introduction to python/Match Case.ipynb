{
 "cells": [
  {
   "cell_type": "markdown",
   "id": "51378663",
   "metadata": {},
   "source": [
    "# Switch Statement in Python\n",
    "## For python Version 3.10 and after Switch statement is supported\n",
    "We can Implement it using match and case"
   ]
  },
  {
   "cell_type": "code",
   "execution_count": 4,
   "id": "015e974a",
   "metadata": {},
   "outputs": [
    {
     "name": "stdout",
     "output_type": "stream",
     "text": [
      "Programming Language you entered is:  Python\n",
      "High Level Programming Language\n"
     ]
    }
   ],
   "source": [
    "# Implementing Switch case\n",
    "\n",
    "# Taking User Input\n",
    "prog=input(\"Enter Programming Language: \")\n",
    "# Printing User input\n",
    "print(\"Programming Language you entered is: \",prog)\n",
    "\n",
    "# Switch Case is implemented using match and case\n",
    "match prog:\n",
    "\n",
    "    # Adding cases\n",
    "    case 'C':\n",
    "        print(\"Middle Level Programming Language\")\n",
    "    case 'Python':\n",
    "        print(\"High Level Programming Language\")\n",
    "    case 'R':\n",
    "        print(\"High Level Programming Language\")\n",
    "\n",
    "    # This will execute if no case is matched\n",
    "    case default:\n",
    "        print('Not a Valid Programming Language')  "
   ]
  },
  {
   "cell_type": "code",
   "execution_count": null,
   "id": "c5d3758f",
   "metadata": {},
   "outputs": [],
   "source": []
  }
 ],
 "metadata": {
  "kernelspec": {
   "display_name": "Python 3 (ipykernel)",
   "language": "python",
   "name": "python3"
  },
  "language_info": {
   "codemirror_mode": {
    "name": "ipython",
    "version": 3
   },
   "file_extension": ".py",
   "mimetype": "text/x-python",
   "name": "python",
   "nbconvert_exporter": "python",
   "pygments_lexer": "ipython3",
   "version": "3.10.4"
  }
 },
 "nbformat": 4,
 "nbformat_minor": 5
}
