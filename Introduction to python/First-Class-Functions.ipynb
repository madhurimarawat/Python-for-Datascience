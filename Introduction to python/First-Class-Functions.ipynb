{
 "cells": [
  {
   "cell_type": "markdown",
   "id": "5a0a7331",
   "metadata": {},
   "source": [
    "# First Class Functions in Python\n",
    "<br>\n",
    "--> First Class Objects in a language are handled uniformly throughout.<br><br>\n",
    "--> They may be stored in data structures,passed as arguments, or used in control structures.<br><br>\n",
    "--> A Programming Language is said to support First Class functions if it treats functions as First Class objects.<br><br>\n",
    "--> Python supports the concept of First Class functions.<br>"
   ]
  },
  {
   "cell_type": "markdown",
   "id": "a531863c",
   "metadata": {},
   "source": [
    "# Properties of First Class Functions\n",
    "<br>\n",
    "--> A function is an instance of the object type.<br><br>\n",
    "--> Function can be stored in a variable.<br><br>\n",
    "--> Function can be passed as a parameter to another function.<br><br>\n",
    "--> Function can be returned from a function<br><br>\n",
    "--> Function can be stored in data structures such as hash tables,lists.<br>"
   ]
  },
  {
   "cell_type": "code",
   "execution_count": 8,
   "id": "7d21f43d",
   "metadata": {},
   "outputs": [
    {
     "name": "stdout",
     "output_type": "stream",
     "text": [
      "First Class Function in Python\n",
      "Function to convert string to Uppercase\n",
      "Uppercase string from function is: HELLO\n",
      "Uppercase string from variable is: HELLO\n"
     ]
    }
   ],
   "source": [
    "# Example of First Class Functions with one argument\n",
    "\n",
    "print(\"First Class Function in Python\")\n",
    "print(\"Function to convert string to Uppercase\")\n",
    "\n",
    "# Creating a function to convert string to uppercase\n",
    "def shout(text):\n",
    "    return text.upper()\n",
    "\n",
    "# Calling function\n",
    "print(\"Uppercase string from function is:\",shout(\"Hello\"))\n",
    "\n",
    "# Storing in variable\n",
    "yell=shout\n",
    "\n",
    "# Calling function using variable\n",
    "print(\"Uppercase string from variable is:\",yell(\"Hello\"))"
   ]
  },
  {
   "cell_type": "code",
   "execution_count": 9,
   "id": "c95f28d7",
   "metadata": {},
   "outputs": [
    {
     "name": "stdout",
     "output_type": "stream",
     "text": [
      "First Class Function in Python\n",
      "Function to convert string to Uppercase\n",
      "Concatenated string from function is: Hello,How are You?\n",
      "Concatenated string from variable is: Hello,How are You?\n"
     ]
    }
   ],
   "source": [
    "# Example of First Class Functions with three arguments\n",
    "\n",
    "print(\"First Class Function in Python\")\n",
    "print(\"Function to convert string to Uppercase\")\n",
    "\n",
    "# Creating a function to add string\n",
    "def calc(a,b,c):\n",
    "    return a+b+c\n",
    "\n",
    "# Calling function\n",
    "print(\"Concatenated string from function is:\",calc(\"Hello\",\",\",\"How are You?\"))\n",
    "\n",
    "# Storing in variable\n",
    "c=calc\n",
    "\n",
    "# Calling function using variable\n",
    "print(\"Concatenated string from variable is:\",calc(\"Hello\",\",\",\"How are You?\"))"
   ]
  }
 ],
 "metadata": {
  "kernelspec": {
   "display_name": "Python 3 (ipykernel)",
   "language": "python",
   "name": "python3"
  },
  "language_info": {
   "codemirror_mode": {
    "name": "ipython",
    "version": 3
   },
   "file_extension": ".py",
   "mimetype": "text/x-python",
   "name": "python",
   "nbconvert_exporter": "python",
   "pygments_lexer": "ipython3",
   "version": "3.9.12"
  }
 },
 "nbformat": 4,
 "nbformat_minor": 5
}
