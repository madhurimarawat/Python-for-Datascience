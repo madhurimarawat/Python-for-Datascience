{
  "nbformat": 4,
  "nbformat_minor": 0,
  "metadata": {
    "colab": {
      "provenance": []
    },
    "kernelspec": {
      "name": "python3",
      "display_name": "Python 3"
    },
    "language_info": {
      "name": "python"
    }
  },
  "cells": [
    {
      "cell_type": "code",
      "execution_count": 1,
      "metadata": {
        "id": "gRllG_mu5019"
      },
      "outputs": [],
      "source": [
        "# Math module coding in python\n",
        "# Importing Module\n",
        "import math"
      ]
    },
    {
      "cell_type": "code",
      "source": [
        "# Exponential Function\n",
        "print(\"The exponential of 2 is:\",math.exp(2))"
      ],
      "metadata": {
        "colab": {
          "base_uri": "https://localhost:8080/"
        },
        "id": "HvCu0qhi55ig",
        "outputId": "9f67029c-114f-4e72-84e0-f6e44e55ce0d"
      },
      "execution_count": 5,
      "outputs": [
        {
          "output_type": "stream",
          "name": "stdout",
          "text": [
            "The exponential of 2 is: 7.38905609893065\n"
          ]
        }
      ]
    },
    {
      "cell_type": "code",
      "source": [
        "# fabs Function\n",
        "# Print absolute values from numbers\n",
        "# This method always converts the value to a float value\n",
        "print(math.fabs(-2.0009998))"
      ],
      "metadata": {
        "colab": {
          "base_uri": "https://localhost:8080/"
        },
        "id": "-ws5QZH6595u",
        "outputId": "d862eef4-40bc-4016-e8b6-a3ada0850905"
      },
      "execution_count": 6,
      "outputs": [
        {
          "output_type": "stream",
          "name": "stdout",
          "text": [
            "2.0009998\n"
          ]
        }
      ]
    },
    {
      "cell_type": "code",
      "source": [
        "# Power Function\n",
        "print(\"The power of 2 raise to 8 is:\",math.pow(2,8))"
      ],
      "metadata": {
        "colab": {
          "base_uri": "https://localhost:8080/"
        },
        "id": "2q7kRmOl6Ivu",
        "outputId": "0440d993-ad5d-4058-e546-a8e64c3b22b7"
      },
      "execution_count": 7,
      "outputs": [
        {
          "output_type": "stream",
          "name": "stdout",
          "text": [
            "The power of 2 raise to 8 is: 256.0\n"
          ]
        }
      ]
    },
    {
      "cell_type": "code",
      "source": [
        "# Square root Function\n",
        "print(\"Square root of 64 is:\",math.sqrt(64))"
      ],
      "metadata": {
        "colab": {
          "base_uri": "https://localhost:8080/"
        },
        "id": "J17kWp5P6Mne",
        "outputId": "b1e82078-b20e-4f75-c698-3d369fa4b1b6"
      },
      "execution_count": 9,
      "outputs": [
        {
          "output_type": "stream",
          "name": "stdout",
          "text": [
            "Square root of 64 is: 8.0\n"
          ]
        }
      ]
    },
    {
      "cell_type": "code",
      "source": [
        "# Print the number of ways to choose k items from n items perm(n,k)\n",
        "print(\"The permutation of 8 to 2 is:\",math.perm(8,2))"
      ],
      "metadata": {
        "id": "1MtNFu-r6ape",
        "colab": {
          "base_uri": "https://localhost:8080/"
        },
        "outputId": "dbac98fb-a75b-4036-b286-205d0b9eacc1"
      },
      "execution_count": 12,
      "outputs": [
        {
          "output_type": "stream",
          "name": "stdout",
          "text": [
            "The permutation of 8 to 2 is: 56\n"
          ]
        }
      ]
    },
    {
      "cell_type": "code",
      "source": [
        "# Taking sides as user input and then finding area of triangle\n",
        "a=float(input(\"Enter first number: \"))\n",
        "b=float(input(\"Enter second number: \"))\n",
        "c=float(input(\"Enter third number: \"))\n",
        "s=(a+b+c)/2\n",
        "area=math.sqrt(s*(s-a)*(s-b)*(s-c))\n",
        "print(\"Area of triangle is:\",area)"
      ],
      "metadata": {
        "colab": {
          "base_uri": "https://localhost:8080/"
        },
        "id": "rRl3FfYo6eYW",
        "outputId": "5e778b56-ae2b-44c8-e008-9efac3e840cf"
      },
      "execution_count": 14,
      "outputs": [
        {
          "output_type": "stream",
          "name": "stdout",
          "text": [
            "Enter first number: 5\n",
            "Enter second number: 6\n",
            "Enter third number: 8\n",
            "Area of triangle is: 14.981238266578634\n"
          ]
        }
      ]
    },
    {
      "cell_type": "code",
      "source": [
        "# Finding root of a number\n",
        "a=float(input(\"Enter first number: \"))\n",
        "b=float(input(\"Enter second number: \"))\n",
        "c=float(input(\"Enter third number: \"))\n",
        "r=b**2-4*a*c\n",
        "if r>0:\n",
        "  num_root=2\n",
        "  x1=((-b)+(math.sqrt(r))/(2*a))\n",
        "  x2=((-b)-(math.sqrt(r))/(2*a))\n",
        "  print(\"Two roots:\",x1,x2)"
      ],
      "metadata": {
        "colab": {
          "base_uri": "https://localhost:8080/"
        },
        "id": "o-A97c85872O",
        "outputId": "db85bfc8-30a3-4141-d981-1d13cbeda0c5"
      },
      "execution_count": 25,
      "outputs": [
        {
          "name": "stdout",
          "output_type": "stream",
          "text": [
            "Enter first number: 12\n",
            "Enter second number: 1\n",
            "Enter third number: 11\n"
          ]
        }
      ]
    },
    {
      "cell_type": "code",
      "source": [
        "# Importing functions from math module to directly use them\n",
        "# Finding area of polygon\n",
        "from math import tan,pi\n",
        "n_sides=int(input(\"Input the number of sides: \"))\n",
        "l_length=int(input(\"Input the length of sides: \"))\n",
        "p_area = n_sides * (l_length ** 2) / (4 * tan(pi / n_sides))\n",
        "print(\"Area of polygon is:\",p_area)"
      ],
      "metadata": {
        "id": "zpVPaV1P-fPm",
        "colab": {
          "base_uri": "https://localhost:8080/"
        },
        "outputId": "440b5daf-8d17-42e7-e482-36cce008c3bc"
      },
      "execution_count": 31,
      "outputs": [
        {
          "output_type": "stream",
          "name": "stdout",
          "text": [
            "Input the number of sides: 8\n",
            "Input the length of sides: 21\n",
            "Area of polygon is: 2129.33636201307\n"
          ]
        }
      ]
    },
    {
      "cell_type": "code",
      "source": [
        "# Random module\n",
        "# Importing module\n",
        "import random\n",
        "# Using random function\n",
        "num=random.random()\n",
        "print(\"Random number generated is:\",num)"
      ],
      "metadata": {
        "colab": {
          "base_uri": "https://localhost:8080/"
        },
        "id": "iYNZjNIJyRKW",
        "outputId": "c01997af-3dab-44bf-de6c-091b97173e12"
      },
      "execution_count": 33,
      "outputs": [
        {
          "output_type": "stream",
          "name": "stdout",
          "text": [
            "Random number generated is: 0.15057866642261053\n"
          ]
        }
      ]
    },
    {
      "cell_type": "code",
      "source": [
        "# Using randint function\n",
        "num=random.randint(1,1500)\n",
        "print(\"Random integer generated is:\",num)"
      ],
      "metadata": {
        "colab": {
          "base_uri": "https://localhost:8080/"
        },
        "id": "gmYm7YrjyeSc",
        "outputId": "9a9b06fa-963a-46bd-a7ae-187de1d8be9f"
      },
      "execution_count": 34,
      "outputs": [
        {
          "output_type": "stream",
          "name": "stdout",
          "text": [
            "Random integer generated is: 289\n"
          ]
        }
      ]
    },
    {
      "cell_type": "code",
      "source": [
        "# Using randrange function\n",
        "num=random.randrange(1,10)\n",
        "print(\"Random number generated from range is:\",num)"
      ],
      "metadata": {
        "colab": {
          "base_uri": "https://localhost:8080/"
        },
        "id": "hvHUx8hhyv3E",
        "outputId": "3ef50df8-8bb5-4608-fd95-54762467ab08"
      },
      "execution_count": 35,
      "outputs": [
        {
          "output_type": "stream",
          "name": "stdout",
          "text": [
            "Random number generated from range is: 6\n"
          ]
        }
      ]
    },
    {
      "cell_type": "code",
      "source": [
        "# Shuffle elements randomly\n",
        "# Using shuffle function\n",
        "num=[21,56,89,78,41]\n",
        "random.shuffle(num)\n",
        "print(\"List after shuffling is:\",num)"
      ],
      "metadata": {
        "colab": {
          "base_uri": "https://localhost:8080/"
        },
        "id": "L5mk_Hwwy9uE",
        "outputId": "8515a0d4-5355-4f45-93e6-dbf6cc50358f"
      },
      "execution_count": 36,
      "outputs": [
        {
          "output_type": "stream",
          "name": "stdout",
          "text": [
            "List after shuffling is: [89, 78, 56, 41, 21]\n"
          ]
        }
      ]
    },
    {
      "cell_type": "code",
      "source": [
        "# Choose elements randomly\n",
        "# Using choice function\n",
        "num=[21,56,89,78,41]\n",
        "c=random.choice(num)\n",
        "print(\"Random number choosen is:\",c)"
      ],
      "metadata": {
        "colab": {
          "base_uri": "https://localhost:8080/"
        },
        "id": "4bRs7KFqzXTx",
        "outputId": "9cce1c6f-b0c7-48b2-bc9c-c9a7a1d2e8f1"
      },
      "execution_count": 37,
      "outputs": [
        {
          "output_type": "stream",
          "name": "stdout",
          "text": [
            "Random number choosen is: 41\n"
          ]
        }
      ]
    },
    {
      "cell_type": "code",
      "source": [
        "# Generating otp using randint function\n",
        "otp = random.randint(100000, 999999)\n",
        "print(\"OTP generated is:\", otp)"
      ],
      "metadata": {
        "colab": {
          "base_uri": "https://localhost:8080/"
        },
        "id": "AKCTc2BeHxM3",
        "outputId": "2430610c-0a77-4f57-bc95-6c7af714e7f3"
      },
      "execution_count": 38,
      "outputs": [
        {
          "output_type": "stream",
          "name": "stdout",
          "text": [
            "OTP generated is: 708460\n"
          ]
        }
      ]
    },
    {
      "cell_type": "code",
      "source": [
        "# Importing module as alias(Given name)\n",
        "import random as r\n",
        "n=int(input(\"Enter no. of times you want otp: \"))\n",
        "# Generating otp using  for loop and randint function\n",
        "for i in range(0,n):\n",
        " otp = r.randint(100000, 999999)\n",
        " print(\"OTP\",i+1,\":\", otp)"
      ],
      "metadata": {
        "id": "_P1xzQDnHzPm",
        "colab": {
          "base_uri": "https://localhost:8080/"
        },
        "outputId": "c5f100f2-8952-4d17-b0f5-d96519628f26"
      },
      "execution_count": 40,
      "outputs": [
        {
          "output_type": "stream",
          "name": "stdout",
          "text": [
            "Enter no. of times you want otp: 5\n",
            "OTP 1 : 232458\n",
            "OTP 2 : 649197\n",
            "OTP 3 : 547654\n",
            "OTP 4 : 159544\n",
            "OTP 5 : 348770\n"
          ]
        }
      ]
    },
    {
      "cell_type": "code",
      "source": [
        "# itertools module\n",
        "# Importing module\n",
        "import itertools as it\n",
        "result={'heads':0,'tails':0}\n",
        "a=result.keys()\n",
        "b=list(a)\n",
        "print(a)\n",
        "print(b)\n",
        "n=int(input(\"Enter limit:\"))\n",
        "# Randomly generating list of heads and tails and then counting the number of heads and tails\n",
        "for i in range(n):\n",
        "  c=random.choice(b)\n",
        "  print(c)\n",
        "  result[c]+=1\n",
        "print(\"Total Heads:\",result['heads'])\n",
        "print(\"Total Tails:\",result['tails'])"
      ],
      "metadata": {
        "colab": {
          "base_uri": "https://localhost:8080/"
        },
        "id": "7xFAxN61xr7m",
        "outputId": "2b9f47f7-d788-4266-e8eb-fafa40a0ef0b"
      },
      "execution_count": 42,
      "outputs": [
        {
          "output_type": "stream",
          "name": "stdout",
          "text": [
            "dict_keys(['heads', 'tails'])\n",
            "['heads', 'tails']\n",
            "Enter limit:8\n",
            "heads\n",
            "heads\n",
            "tails\n",
            "tails\n",
            "heads\n",
            "heads\n",
            "tails\n",
            "tails\n",
            "Total Heads: 4\n",
            "Total Tails: 4\n"
          ]
        }
      ]
    }
  ]
}