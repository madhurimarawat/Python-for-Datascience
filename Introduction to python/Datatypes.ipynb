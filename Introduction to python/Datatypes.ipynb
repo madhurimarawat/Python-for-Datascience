{
 "cells": [
  {
   "cell_type": "markdown",
   "metadata": {},
   "source": [
    "list [1,2,34,56]<br>\n",
    "tuple (1,2,34,56)<br>\n",
    "set {1,2,34,56}<br>\n",
    "dictionary {key:value}"
   ]
  },
  {
   "cell_type": "markdown",
   "metadata": {},
   "source": [
    "List stores both heterogeneous and homogeneous data"
   ]
  },
  {
   "cell_type": "code",
   "execution_count": 11,
   "metadata": {},
   "outputs": [
    {
     "name": "stdout",
     "output_type": "stream",
     "text": [
      "List is: [1, 2, 34, 56]\n",
      "List consisting string is: ['h', 'e', 'l', 'l', 'o']\n"
     ]
    }
   ],
   "source": [
    "list1=[1,2,34,56]\n",
    "print(\"List is:\",list1)\n",
    "print(\"List consisting string is:\",list(\"hello\"))"
   ]
  },
  {
   "cell_type": "markdown",
   "metadata": {},
   "source": [
    "Accessing is done using indexing"
   ]
  },
  {
   "cell_type": "code",
   "execution_count": 12,
   "metadata": {},
   "outputs": [
    {
     "name": "stdout",
     "output_type": "stream",
     "text": [
      "Reversed List is: [56, 34, 2, 1]\n"
     ]
    }
   ],
   "source": [
    "print(\"Reversed List is:\",list1[::-1])"
   ]
  },
  {
   "cell_type": "markdown",
   "metadata": {},
   "source": [
    "Assigning elements"
   ]
  },
  {
   "cell_type": "code",
   "execution_count": 13,
   "metadata": {},
   "outputs": [
    {
     "name": "stdout",
     "output_type": "stream",
     "text": [
      "List after assignment is: [1, 5, 34, 56]\n"
     ]
    }
   ],
   "source": [
    "list1[1]=5\n",
    "print(\"List after assignment is:\",list1)"
   ]
  },
  {
   "cell_type": "markdown",
   "metadata": {},
   "source": [
    "index function is also used to access values - returns index"
   ]
  },
  {
   "cell_type": "code",
   "execution_count": 14,
   "metadata": {},
   "outputs": [
    {
     "name": "stdout",
     "output_type": "stream",
     "text": [
      "34 is at 2 index.\n"
     ]
    }
   ],
   "source": [
    "print(\"34 is at\",list1.index(34),\"index.\")"
   ]
  },
  {
   "cell_type": "markdown",
   "metadata": {},
   "source": [
    "append add element at the end of list"
   ]
  },
  {
   "cell_type": "code",
   "execution_count": 15,
   "metadata": {},
   "outputs": [
    {
     "name": "stdout",
     "output_type": "stream",
     "text": [
      "List after append is: [1, 5, 34, 56, 78]\n"
     ]
    }
   ],
   "source": [
    "list1.append(78)\n",
    "print(\"List after append is:\",list1)"
   ]
  },
  {
   "cell_type": "markdown",
   "metadata": {},
   "source": [
    "insert add element at the required index of list"
   ]
  },
  {
   "cell_type": "code",
   "execution_count": 16,
   "metadata": {},
   "outputs": [
    {
     "name": "stdout",
     "output_type": "stream",
     "text": [
      "List after inserting is: [1, 5, 34, 79, 56, 78]\n",
      "List after inserting multiple elements is: [1, 5, 34, 79, 56, 78, [4, 5, 6, 88, 99]]\n"
     ]
    }
   ],
   "source": [
    "list1.insert(3,79)\n",
    "print(\"List after inserting is:\",list1)\n",
    "# for multiple values,it dosen't work\n",
    "list1.insert(len(list1)+1,[4,5,6,88,99])\n",
    "print(\"List after inserting multiple elements is:\",list1)"
   ]
  },
  {
   "cell_type": "markdown",
   "metadata": {},
   "source": [
    "pop delete element at the last index of list and we can also give required index of list"
   ]
  },
  {
   "cell_type": "code",
   "execution_count": 17,
   "metadata": {},
   "outputs": [
    {
     "name": "stdout",
     "output_type": "stream",
     "text": [
      "[4, 5, 6, 88, 99]\n",
      "List after pop is: [1, 5, 34, 79, 56, 78]\n",
      "34\n",
      "List after popping index 2 is: [1, 5, 79, 56, 78]\n"
     ]
    }
   ],
   "source": [
    "print(list1.pop())\n",
    "print(\"List after pop is:\",list1)\n",
    "print(list1.pop(2))\n",
    "print(\"List after popping index 2 is:\",list1)"
   ]
  },
  {
   "cell_type": "markdown",
   "metadata": {},
   "source": [
    "We can add  multiple elements using extend method"
   ]
  },
  {
   "cell_type": "code",
   "execution_count": 18,
   "metadata": {},
   "outputs": [
    {
     "name": "stdout",
     "output_type": "stream",
     "text": [
      "None\n",
      "List after extend is: [1, 5, 79, 56, 78, 4, 5, 6, 88, 99]\n"
     ]
    }
   ],
   "source": [
    "print(list1.extend([4,5,6,88,99])) # Dosen't return any argument\n",
    "print(\"List after extend is:\",list1)"
   ]
  },
  {
   "cell_type": "markdown",
   "metadata": {},
   "source": [
    "remove function is used to remove values"
   ]
  },
  {
   "cell_type": "code",
   "execution_count": 19,
   "metadata": {},
   "outputs": [
    {
     "name": "stdout",
     "output_type": "stream",
     "text": [
      "None\n",
      "List after removing 4 is: [1, 5, 79, 56, 78, 5, 6, 88, 99]\n"
     ]
    }
   ],
   "source": [
    "print(list1.remove(4)) # Dosen't return any argument\n",
    "print(\"List after removing 4 is:\",list1)"
   ]
  },
  {
   "cell_type": "markdown",
   "metadata": {},
   "source": [
    "Printing list of prime numbers"
   ]
  },
  {
   "cell_type": "code",
   "execution_count": 20,
   "metadata": {},
   "outputs": [
    {
     "name": "stdout",
     "output_type": "stream",
     "text": [
      "Enter range: 12\n",
      "List of prime numbers: [2, 3, 5, 7, 11]\n"
     ]
    }
   ],
   "source": [
    "n=int(input(\"Enter range: \"))\n",
    "p=[]\n",
    "for i in range(2,n+1):\n",
    "    for j in range(2,i):\n",
    "        if i%j==0:\n",
    "            break\n",
    "    else:\n",
    "        p.append(i)\n",
    "else:\n",
    "    print(\"List of prime numbers:\",p)"
   ]
  },
  {
   "cell_type": "markdown",
   "metadata": {},
   "source": [
    "\n",
    "<br>\n",
    "Login/Signup Panel<br>\n",
    "1. First time it will automatically go to signup page<br>\n",
    "2. Data will bw stored in this format<br>\n",
    "   [[username1,password1],[username2,password2]]<br>\n",
    "3. signup condition : pass and confirm password are matched<br>\n",
    "4. login condition:<br>\n",
    "   - login successful if username and password are matched<br>\n",
    "   - print user dosen't exist and you will ask for password if username is incorrect<br>\n",
    "   - print incorrect password if username is correct and password is wrong<br>\n"
   ]
  },
  {
   "cell_type": "markdown",
   "metadata": {},
   "source": [
    "Storing data"
   ]
  },
  {
   "cell_type": "code",
   "execution_count": 21,
   "metadata": {},
   "outputs": [
    {
     "name": "stdout",
     "output_type": "stream",
     "text": [
      "Login/Signup Panel\n",
      "1 for Sign Up or 2 for Login: 2\n",
      "Welcome to Login Page\n",
      "Enter Username: kjig\n",
      "Enter Password: 123\n",
      "Username and Password dosen't match.\n",
      "Enter 1 to Signup or 0 to exit: 0\n",
      "Successfully Terminated Session.\n"
     ]
    }
   ],
   "source": [
    "data=[[\"kkjk\",\"0opiu\"],[\"John\",\"1236\"]]\n",
    "def signup():\n",
    "    print(\"Welcome to Sign Up Page\")\n",
    "    u1=input(\"Enter Username: \")\n",
    "    p1=input(\"Enter Password: \")\n",
    "    cf=input(\"Enter Password Again: \")\n",
    "    if p1 == cf:\n",
    "        data.append([u1,p1])\n",
    "        print(\"Sign Up Successful\")\n",
    "    else:\n",
    "        print(\"Password dosen't match!!\")\n",
    "def login():\n",
    "    print(\"Welcome to Login Page\")\n",
    "    c1 = input(\"Enter Username: \")\n",
    "    c2 = input(\"Enter Password: \")\n",
    "    l1=[c1,c2]\n",
    "    for i in data:\n",
    "        if l1 == i:\n",
    "            print(\"Login Successful\")\n",
    "            break\n",
    "        elif l1[0] ==i[0]:\n",
    "            print(\"Incorrect Password\")\n",
    "        elif l1[1]==i[1]:\n",
    "            print(\"User dosen't Exist\")\n",
    "            print(\"Enter Correct Username: \")\n",
    "    else:\n",
    "        print(\"Username and Password dosen't match.\")\n",
    "        ch=int(input(\"Enter 1 to Signup or 0 to exit: \"))\n",
    "        if ch == 1:\n",
    "            signup()\n",
    "        else:\n",
    "            print(\"Successfully Terminated Session.\")\n",
    "print(\"Login/Signup Panel\")\n",
    "un=int(input(\"1 for Sign Up or 2 for Login: \"))\n",
    "if un==1:\n",
    "    signup()\n",
    "else:\n",
    "    login()"
   ]
  },
  {
   "cell_type": "markdown",
   "metadata": {},
   "source": [
    "Tuples - stores both heterogeneous and homogeneous data/non-mutable"
   ]
  },
  {
   "cell_type": "code",
   "execution_count": 22,
   "metadata": {},
   "outputs": [
    {
     "name": "stdout",
     "output_type": "stream",
     "text": [
      "Tuple is: (1, 2, 3, 4, 5, 6, 4, 5, 6, 4, 4)\n",
      "Sliced tuple is: (2, 3, 4)\n",
      "Reversed tuple is: (4, 4, 6, 5, 4, 6, 5, 4, 3, 2, 1)\n",
      "4 is at 3 index.\n",
      "4 occures 4 times.\n"
     ]
    }
   ],
   "source": [
    "tup=(1,2,3,4,5,6,4,5,6,4,4)\n",
    "print(\"Tuple is:\",tup)\n",
    "# Slicing\n",
    "print(\"Sliced tuple is:\",tup[1:4])\n",
    "print(\"Reversed tuple is:\",tup[::-1])\n",
    "# index function is also used to access values - returns index\n",
    "print(\"4 is at\",tup.index(4),\"index.\")\n",
    "# count function is used to count values - returns number of occurences\n",
    "print(\"4 occures\",tup.count(4),\"times.\")"
   ]
  },
  {
   "cell_type": "markdown",
   "metadata": {},
   "source": [
    "Dictionary - key:value pair"
   ]
  },
  {
   "cell_type": "code",
   "execution_count": 23,
   "metadata": {},
   "outputs": [
    {
     "name": "stdout",
     "output_type": "stream",
     "text": [
      "Dictionary is: {'a': 6, 'b': 7, 'c': 8, 'd': 9}\n"
     ]
    }
   ],
   "source": [
    "dict={'a':6,'b':7,'c':8,'d':9}\n",
    "print(\"Dictionary is:\",dict)"
   ]
  },
  {
   "cell_type": "markdown",
   "metadata": {},
   "source": [
    "Not allows for duplicate keys"
   ]
  },
  {
   "cell_type": "code",
   "execution_count": 24,
   "metadata": {},
   "outputs": [
    {
     "name": "stdout",
     "output_type": "stream",
     "text": [
      "Dictionary is: {'a': 11, 'b': 7, 'c': 8, 'd': 9}\n"
     ]
    }
   ],
   "source": [
    "dict={'a':6,'b':7,'c':8,'d':9,'a':11} # Latest value is considered\n",
    "print(\"Dictionary is:\",dict)"
   ]
  },
  {
   "cell_type": "markdown",
   "metadata": {},
   "source": [
    "Accessing values corresponding to key"
   ]
  },
  {
   "cell_type": "code",
   "execution_count": 25,
   "metadata": {},
   "outputs": [
    {
     "name": "stdout",
     "output_type": "stream",
     "text": [
      "Value of a is: 11\n",
      "Keys are: dict_keys(['a', 'b', 'c', 'd'])\n",
      "values are: dict_values([11, 7, 8, 9])\n",
      "Items are: dict_items([('a', 11), ('b', 7), ('c', 8), ('d', 9)])\n"
     ]
    }
   ],
   "source": [
    "print(\"Value of a is:\",dict['a'])\n",
    "# Accessing keys\n",
    "print(\"Keys are:\", dict.keys())\n",
    "# Accessing values\n",
    "print(\"values are:\", dict.values())\n",
    "# Using items function\n",
    "print(\"Items are:\", dict.items())"
   ]
  },
  {
   "cell_type": "markdown",
   "metadata": {},
   "source": [
    "Adding elements-passing multiple values"
   ]
  },
  {
   "cell_type": "code",
   "execution_count": 26,
   "metadata": {},
   "outputs": [
    {
     "name": "stdout",
     "output_type": "stream",
     "text": [
      "Dictionary after updating is: {'a': 11, 'b': 20, 'c': 8, 'd': 77}\n"
     ]
    }
   ],
   "source": [
    "dict.update({'d':77,'b':20})\n",
    "print(\"Dictionary after updating is:\",dict)"
   ]
  },
  {
   "cell_type": "markdown",
   "metadata": {},
   "source": [
    "Removing items - pop(element key)"
   ]
  },
  {
   "cell_type": "code",
   "execution_count": 27,
   "metadata": {},
   "outputs": [
    {
     "name": "stdout",
     "output_type": "stream",
     "text": [
      "77\n",
      "Dictionary after deleting d is: {'a': 11, 'b': 20, 'c': 8}\n"
     ]
    }
   ],
   "source": [
    "print(dict.pop('d'))\n",
    "print(\"Dictionary after deleting d is:\",dict)"
   ]
  },
  {
   "cell_type": "markdown",
   "metadata": {},
   "source": [
    "printing in this format key is a and value is 11"
   ]
  },
  {
   "cell_type": "code",
   "execution_count": 28,
   "metadata": {},
   "outputs": [
    {
     "name": "stdout",
     "output_type": "stream",
     "text": [
      "Key is {key} and Value is {value}\n",
      "Key is {key} and Value is {value}\n",
      "Key is {key} and Value is {value}\n"
     ]
    }
   ],
   "source": [
    "for(key,value) in dict.items():\n",
    "    print(\"Key is {key} and Value is {value}\")"
   ]
  },
  {
   "cell_type": "markdown",
   "metadata": {},
   "source": [
    "updating value"
   ]
  },
  {
   "cell_type": "code",
   "execution_count": 29,
   "metadata": {},
   "outputs": [
    {
     "name": "stdout",
     "output_type": "stream",
     "text": [
      "Dictionary after updating is: {'a': 11, 'b': 20, 'c': 80}\n"
     ]
    }
   ],
   "source": [
    "dict['c']=80\n",
    "print(\"Dictionary after updating is:\",dict)"
   ]
  },
  {
   "cell_type": "markdown",
   "metadata": {},
   "source": [
    "Sets- Dosen't take duplicate values"
   ]
  },
  {
   "cell_type": "code",
   "execution_count": 30,
   "metadata": {},
   "outputs": [
    {
     "name": "stdout",
     "output_type": "stream",
     "text": [
      "Set is: {1, 2, 3, 4, 5, 6, 7, 8, 9}\n"
     ]
    }
   ],
   "source": [
    "set1={1,1,2,5,6,7,7,8,9,7,7,8,9,9,6,4,3,9,8,2,4,5,5,5,5,6,6,7,7,8,8,9}\n",
    "print(\"Set is:\",set1)\n",
    "set2={1,1,2,5,6,7,7,8,9,7,7,8,7,8,8,9,\"hello\",\"lopiy\"}"
   ]
  },
  {
   "cell_type": "markdown",
   "metadata": {},
   "source": [
    "Dosen't support slicing or indexing"
   ]
  },
  {
   "cell_type": "code",
   "execution_count": 31,
   "metadata": {},
   "outputs": [
    {
     "name": "stdout",
     "output_type": "stream",
     "text": [
      "Set after union is: {'hello', 1, 2, 3, 4, 5, 6, 7, 8, 9, 'lopiy'}\n",
      "Set after intersection is: {1, 2, 5, 6, 7, 8, 9}\n"
     ]
    }
   ],
   "source": [
    "print(\"Set after union is:\",set1.union(set2))\n",
    "print(\"Set after intersection is:\",set1.intersection(set2))"
   ]
  },
  {
   "cell_type": "markdown",
   "metadata": {},
   "source": [
    "Updating set<br>\n",
    "set.update - need to give iterable value<br>\n",
    "set1.update(56) - does not work as int is not iterable"
   ]
  },
  {
   "cell_type": "code",
   "execution_count": 32,
   "metadata": {},
   "outputs": [
    {
     "name": "stdout",
     "output_type": "stream",
     "text": [
      "Set after updating is: {'h', 1, 2, 3, 4, 5, 6, 7, 8, 9, 'e', 'l', 'o'}\n"
     ]
    }
   ],
   "source": [
    "set1.update(\"hello\")\n",
    "print(\"Set after updating is:\",set1)"
   ]
  },
  {
   "cell_type": "markdown",
   "metadata": {},
   "source": [
    "Printing type of data types"
   ]
  },
  {
   "cell_type": "code",
   "execution_count": 33,
   "metadata": {},
   "outputs": [
    {
     "name": "stdout",
     "output_type": "stream",
     "text": [
      "List is of type: <class 'list'>\n",
      "Tuple is of type: <class 'tuple'>\n",
      "Dictionary is of type: <class 'dict'>\n",
      "Set is of type: <class 'set'>\n"
     ]
    }
   ],
   "source": [
    "print(\"List is of type:\",type(list1))\n",
    "print(\"Tuple is of type:\",type(tup))\n",
    "print(\"Dictionary is of type:\",type(dict))\n",
    "print(\"Set is of type:\",type(set1))"
   ]
  },
  {
   "cell_type": "markdown",
   "metadata": {},
   "source": [
    "1-100 from user<br>\n",
    "Store even/odd in dictionary"
   ]
  },
  {
   "cell_type": "code",
   "execution_count": 34,
   "metadata": {},
   "outputs": [
    {
     "name": "stdout",
     "output_type": "stream",
     "text": [
      "Enter range: 22\n",
      "Dictionary is: {'Even': [2, 4, 6, 8, 10, 12, 14, 16, 18, 20, 22], 'Odd': [1, 3, 5, 7, 9, 11, 13, 15, 17, 19, 21]}\n"
     ]
    }
   ],
   "source": [
    "n1= int(input(\"Enter range: \"))\n",
    "dic={\"Even\":[],\"Odd\":[]}\n",
    "for i in range(1,n1+1):\n",
    "    if(i%2==0):\n",
    "        dic['Even'].append(i)\n",
    "    else:\n",
    "        dic['Odd'].append(i)\n",
    "else:\n",
    "    print(\"Dictionary is:\",dic)"
   ]
  }
 ],
 "metadata": {
  "kernelspec": {
   "display_name": "Python 3 (ipykernel)",
   "language": "python",
   "name": "python3"
  },
  "language_info": {
   "codemirror_mode": {
    "name": "ipython",
    "version": 3
   },
   "file_extension": ".py",
   "mimetype": "text/x-python",
   "name": "python",
   "nbconvert_exporter": "python",
   "pygments_lexer": "ipython3",
   "version": "3.9.12"
  }
 },
 "nbformat": 4,
 "nbformat_minor": 2
}
