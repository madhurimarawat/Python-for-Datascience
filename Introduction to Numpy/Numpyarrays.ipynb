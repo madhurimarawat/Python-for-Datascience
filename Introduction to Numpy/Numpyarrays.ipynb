{
  "nbformat": 4,
  "nbformat_minor": 0,
  "metadata": {
    "colab": {
      "provenance": []
    },
    "kernelspec": {
      "name": "python3",
      "display_name": "Python 3"
    },
    "language_info": {
      "name": "python"
    }
  },
  "cells": [
    {
      "cell_type": "code",
      "execution_count": 42,
      "metadata": {
        "colab": {
          "base_uri": "https://localhost:8080/"
        },
        "id": "xHZL3oU1LkIz",
        "outputId": "755797e2-f7d4-4f8a-ca5b-79d779de5fcf"
      },
      "outputs": [
        {
          "output_type": "stream",
          "name": "stdout",
          "text": [
            "Array is:\n",
            "[[ 0  1  2]\n",
            " [ 3  4  5]\n",
            " [ 6  7  8]\n",
            " [ 9 10 11]]\n",
            "Dimensions of array is: 2\n",
            "Shape of array is: (4, 3)\n"
          ]
        }
      ],
      "source": [
        "# Importing numpy\n",
        "import numpy as np\n",
        "# Creating 2 dimensional array\n",
        "array1=np.arange(12).reshape(4,3)\n",
        "print(\"Array is:\")\n",
        "print(array1)\n",
        "print(\"Dimensions of array is:\",np.ndim(array1))\n",
        "print(\"Shape of array is:\",np.shape(array1))"
      ]
    },
    {
      "cell_type": "code",
      "source": [
        "# Indexing in array\n",
        "# Starts from 0\n",
        "# First index is for row second is for column\n",
        "print(\"Element at 4 row 2 column is:\",array1[3][1])"
      ],
      "metadata": {
        "colab": {
          "base_uri": "https://localhost:8080/"
        },
        "id": "qOLlk4aEL7ax",
        "outputId": "ba5878e0-8190-492b-aeb8-6be67f779796"
      },
      "execution_count": 7,
      "outputs": [
        {
          "output_type": "stream",
          "name": "stdout",
          "text": [
            "Element at 4 row 2 column is: 10\n"
          ]
        }
      ]
    },
    {
      "cell_type": "code",
      "source": [
        "# Creating 2 dimensional array\n",
        "a2=np.array([[1,2,3],\n",
        "             [4,5,6],\n",
        "             [7,8,9]])\n",
        "print(\"Array is:\")\n",
        "print(a2)\n",
        "print(\"Dimensions of array is:\",np.ndim(a2))\n",
        "print(\"Shape of array is:\",np.shape(a2))"
      ],
      "metadata": {
        "colab": {
          "base_uri": "https://localhost:8080/"
        },
        "id": "OBY6oKJfMFIq",
        "outputId": "c537533f-0771-439c-c02c-c530496cdb19"
      },
      "execution_count": 41,
      "outputs": [
        {
          "output_type": "stream",
          "name": "stdout",
          "text": [
            "Array is:\n",
            "[[1 2 3]\n",
            " [4 5 6]\n",
            " [7 8 9]]\n",
            "Dimensions of array is: 2\n",
            "Shape of array is: (3, 3)\n"
          ]
        }
      ]
    },
    {
      "cell_type": "code",
      "source": [
        "# Indexing in array\n",
        "# Starts from 0\n",
        "# First index is for row second is for column\n",
        "print(\"Element at 3 row 2 column is:\",a2[2,1])"
      ],
      "metadata": {
        "colab": {
          "base_uri": "https://localhost:8080/"
        },
        "id": "MYM45vXfMZbw",
        "outputId": "ba72e813-5658-4e71-e770-a22ca9ed87c1"
      },
      "execution_count": 8,
      "outputs": [
        {
          "output_type": "stream",
          "name": "stdout",
          "text": [
            "Element at 3 row 2 column is: 8\n"
          ]
        }
      ]
    },
    {
      "cell_type": "code",
      "source": [
        "# Creating 3 dimensional array using arange function\n",
        "# arange gives number starting from a given range\n",
        "# 3 parameters start,stop,step\n",
        "# reshape reshapes array into required shape\n",
        "array1=np.arange(18).reshape(3,2,3)\n",
        "print(\"Array using arange and reshape function is:\")\n",
        "print(array1)\n",
        "print(\"Dimensions of array is:\",np.ndim(array1))\n",
        "print(\"Shape of array is:\",np.shape(array1))"
      ],
      "metadata": {
        "colab": {
          "base_uri": "https://localhost:8080/"
        },
        "id": "LDpc0kfwMhzf",
        "outputId": "ad6efebf-80ac-446f-9fa5-894d1146b88c"
      },
      "execution_count": 40,
      "outputs": [
        {
          "output_type": "stream",
          "name": "stdout",
          "text": [
            "Array using arange and reshape function is:\n",
            "[[[ 0  1  2]\n",
            "  [ 3  4  5]]\n",
            "\n",
            " [[ 6  7  8]\n",
            "  [ 9 10 11]]\n",
            "\n",
            " [[12 13 14]\n",
            "  [15 16 17]]]\n",
            "Dimensions of array is: 3\n",
            "Shape of array is: (3, 2, 3)\n"
          ]
        }
      ]
    },
    {
      "cell_type": "code",
      "source": [
        "# Indexing in array\n",
        "# Starts from 0\n",
        "# First index is for outer layer second is for row and third is for column\n",
        "print(\"Element at 3 layer 1 row 2 column is:\",array1[2][0][1])"
      ],
      "metadata": {
        "colab": {
          "base_uri": "https://localhost:8080/"
        },
        "id": "mNXKGB4aNRqe",
        "outputId": "66563e5b-14b3-4961-81dc-56f00692f19e"
      },
      "execution_count": 11,
      "outputs": [
        {
          "output_type": "stream",
          "name": "stdout",
          "text": [
            "Element at 3 layer 1 row 2 column is: 13\n"
          ]
        }
      ]
    },
    {
      "cell_type": "code",
      "source": [
        "# Creating 3 dimensional array\n",
        "arr3d=np.array([[[1,2,3],[4,5,6]],[[14,15,16],[7,8,9]]])\n",
        "print(\"Array using array function is:\")\n",
        "print(arr3d)\n",
        "print(\"Dimensions of array is:\",np.ndim(arr3d))\n",
        "print(\"Shape of array is:\",np.shape(arr3d))"
      ],
      "metadata": {
        "id": "QBKl51N5NaR5",
        "colab": {
          "base_uri": "https://localhost:8080/"
        },
        "outputId": "a9b29bd1-aafb-412c-bd30-176c7b677718"
      },
      "execution_count": 37,
      "outputs": [
        {
          "output_type": "stream",
          "name": "stdout",
          "text": [
            "Array using array function is:\n",
            "[[[ 1  2  3]\n",
            "  [ 4  5  6]]\n",
            "\n",
            " [[14 15 16]\n",
            "  [ 7  8  9]]]\n",
            "Dimensions of array is: 3\n",
            "Shape of array is: (2, 2, 3)\n"
          ]
        }
      ]
    },
    {
      "cell_type": "code",
      "source": [
        "# Indexing in array\n",
        "# Starts from 0\n",
        "# First index is for outer layer second is for row and third is for column\n",
        "print(\"First Layer is:\")\n",
        "print(arr3d[0])\n",
        "print(\"Elements at 2 layer is:\")\n",
        "print(arr3d[1])\n",
        "print(\"Elements at 2 layer 1 row is:\",arr3d[1,0])"
      ],
      "metadata": {
        "colab": {
          "base_uri": "https://localhost:8080/"
        },
        "id": "pJ1ZGYoyOo-0",
        "outputId": "6a67779f-ca01-47b7-b2d4-ba639441942c"
      },
      "execution_count": 24,
      "outputs": [
        {
          "output_type": "stream",
          "name": "stdout",
          "text": [
            "First Layer is:\n",
            "[[1 2 3]\n",
            " [4 5 6]]\n",
            "Elements at 2 layer is:\n",
            "[[14 15 16]\n",
            " [ 7  8  9]]\n",
            "Elements at 2 layer 1 row is: [14 15 16]\n"
          ]
        }
      ]
    },
    {
      "cell_type": "code",
      "source": [
        "# Creating 3 dimensional array\n",
        "x=np.array([[[1,2,3],[4,5,6]],[[14,15,16],[7,8,9]]])\n",
        "print(\"Array using array function is:\")\n",
        "print(x)\n",
        "# Conditional Formatting in array-selecting elements that satisfy a particular condition\n",
        "print(\"Number greater than 5 are:\")\n",
        "print(x[x>5])\n",
        "print(\"Number equal to 4 are:\")\n",
        "print(x[x==4])\n",
        "print(\"Number lesser than 5 are:\")\n",
        "print(x[x<5])"
      ],
      "metadata": {
        "colab": {
          "base_uri": "https://localhost:8080/"
        },
        "id": "tu6sKzpsO9tg",
        "outputId": "2bd33c94-40a5-4194-b8b4-a858fd4ce29e"
      },
      "execution_count": 26,
      "outputs": [
        {
          "output_type": "stream",
          "name": "stdout",
          "text": [
            "Array using array function is:\n",
            "[[[ 1  2  3]\n",
            "  [ 4  5  6]]\n",
            "\n",
            " [[14 15 16]\n",
            "  [ 7  8  9]]]\n",
            "Number greater than 5 are:\n",
            "[ 6 14 15 16  7  8  9]\n",
            "Number equal to 4 are:\n",
            "[4]\n",
            "Number lesser than 5 are:\n",
            "[1 2 3 4]\n"
          ]
        }
      ]
    },
    {
      "cell_type": "code",
      "source": [
        "# Creating 1 dimensional complex number array\n",
        "a=np.array([1,2+6j,5,3+5j,10,50])\n",
        "print(\"Array is:\")\n",
        "print(a)\n",
        "# Printing complex number in array\n",
        "print(\"Complex number in array are:\",a[np.iscomplex(a)])"
      ],
      "metadata": {
        "colab": {
          "base_uri": "https://localhost:8080/"
        },
        "id": "tH-SMlQYRP75",
        "outputId": "59610a33-f7f0-470f-a901-3c06170fb98e"
      },
      "execution_count": 27,
      "outputs": [
        {
          "output_type": "stream",
          "name": "stdout",
          "text": [
            "Array is:\n",
            "[ 1.+0.j  2.+6.j  5.+0.j  3.+5.j 10.+0.j 50.+0.j]\n",
            "Complex number in array are: [2.+6.j 3.+5.j]\n"
          ]
        }
      ]
    },
    {
      "cell_type": "code",
      "source": [
        "# Creating 3 dimensional array\n",
        "a=np.array([[[1,2,3],[4,5,6]],[[14,15,16],[7,8,9]]])\n",
        "print(\"Array is:\")\n",
        "print(a)\n",
        "# Conditional Formatting in array-selecting elements that satisfy a particular condition\n",
        "print(\"Square of number divisible by 4 are:\",a[a%4==0]**2)"
      ],
      "metadata": {
        "colab": {
          "base_uri": "https://localhost:8080/"
        },
        "id": "Zr5VLHy-R_-F",
        "outputId": "43c68bf8-8d2e-413c-e502-7bd5f5272117"
      },
      "execution_count": 29,
      "outputs": [
        {
          "output_type": "stream",
          "name": "stdout",
          "text": [
            "Array is:\n",
            "[[[ 1  2  3]\n",
            "  [ 4  5  6]]\n",
            "\n",
            " [[14 15 16]\n",
            "  [ 7  8  9]]]\n",
            "Square of number divisible by 4 are: [ 16 256  64]\n"
          ]
        }
      ]
    },
    {
      "cell_type": "code",
      "source": [
        "# Creating 3 dimensional array\n",
        "a = np.array([[[[1,2,3],[4,5,6]],[[7,8,9],[10,11,12]],[[13,14,15],[16,17,18]]], [[[1,2,3],[4,5,6]],[[7,8,9],[10,11,12]],[[13,14,15],[16,17,18]]], [[[1,2,3],[4,5,6]],[[7,8,9],[10,11,12]],[[13,14,15],[16,17,18]]], [[[1,2,3],[4,5,6]],[[7,8,9],[10,11,12]],[[13,14,15],[16,17,18]]]])\n",
        "print(\"Array is:\")\n",
        "print(a)\n",
        "print(\"Dimensions of array is:\",np.ndim(a))\n",
        "print(\"Shape of array is:\",np.shape(a))"
      ],
      "metadata": {
        "id": "pMXuBDWDScTu",
        "colab": {
          "base_uri": "https://localhost:8080/"
        },
        "outputId": "3ffd7531-f867-4606-c7fc-5ce92ec8cfcb"
      },
      "execution_count": 43,
      "outputs": [
        {
          "output_type": "stream",
          "name": "stdout",
          "text": [
            "Array is:\n",
            "[[[[ 1  2  3]\n",
            "   [ 4  5  6]]\n",
            "\n",
            "  [[ 7  8  9]\n",
            "   [10 11 12]]\n",
            "\n",
            "  [[13 14 15]\n",
            "   [16 17 18]]]\n",
            "\n",
            "\n",
            " [[[ 1  2  3]\n",
            "   [ 4  5  6]]\n",
            "\n",
            "  [[ 7  8  9]\n",
            "   [10 11 12]]\n",
            "\n",
            "  [[13 14 15]\n",
            "   [16 17 18]]]\n",
            "\n",
            "\n",
            " [[[ 1  2  3]\n",
            "   [ 4  5  6]]\n",
            "\n",
            "  [[ 7  8  9]\n",
            "   [10 11 12]]\n",
            "\n",
            "  [[13 14 15]\n",
            "   [16 17 18]]]\n",
            "\n",
            "\n",
            " [[[ 1  2  3]\n",
            "   [ 4  5  6]]\n",
            "\n",
            "  [[ 7  8  9]\n",
            "   [10 11 12]]\n",
            "\n",
            "  [[13 14 15]\n",
            "   [16 17 18]]]]\n",
            "Dimensions of array is: 4\n",
            "Shape of array is: (4, 3, 2, 3)\n"
          ]
        }
      ]
    },
    {
      "cell_type": "code",
      "source": [
        "a1 = np.array([[[1,2,3],[4,5,6]],7,8,9,[10,11,12],[[13,14,15],[16,17,18],[19,20,21]]])\n",
        "print(\"Array is:\")\n",
        "print(a1)\n",
        "print(\"Dimensions of array is:\",np.ndim(a1))\n",
        "print(\"Shape of array is:\",np.shape(a1))"
      ],
      "metadata": {
        "colab": {
          "base_uri": "https://localhost:8080/"
        },
        "id": "PgEVRXCLWRom",
        "outputId": "c60b65c2-9735-435f-8776-3be06ba1111c"
      },
      "execution_count": 47,
      "outputs": [
        {
          "output_type": "stream",
          "name": "stdout",
          "text": [
            "Array is:\n",
            "[list([[1, 2, 3], [4, 5, 6]]) 7 8 9 list([10, 11, 12])\n",
            " list([[13, 14, 15], [16, 17, 18], [19, 20, 21]])]\n",
            "Dimensions of array is: 1\n",
            "Shape of array is: (6,)\n"
          ]
        },
        {
          "output_type": "stream",
          "name": "stderr",
          "text": [
            "<ipython-input-47-99f822ac6765>:1: VisibleDeprecationWarning: Creating an ndarray from ragged nested sequences (which is a list-or-tuple of lists-or-tuples-or ndarrays with different lengths or shapes) is deprecated. If you meant to do this, you must specify 'dtype=object' when creating the ndarray.\n",
            "  a1 = np.array([[[1,2,3],[4,5,6]],7,8,9,[10,11,12],[[13,14,15],[16,17,18],[19,20,21]]])\n"
          ]
        }
      ]
    },
    {
      "cell_type": "code",
      "source": [
        "# Creating array and setting dimensions using ndmin\n",
        "a=np.array([1,2,3,4],ndmin=4)\n",
        "print(\"Array is:\")\n",
        "print(a)\n",
        "print(\"Dimensions of array is:\",np.ndim(a))\n",
        "print(\"Shape of array is:\",np.shape(a))"
      ],
      "metadata": {
        "colab": {
          "base_uri": "https://localhost:8080/"
        },
        "id": "jAzWCTPdXyDJ",
        "outputId": "ea5241c0-6f51-4bc0-eba2-970aceb4d2f7"
      },
      "execution_count": 48,
      "outputs": [
        {
          "output_type": "stream",
          "name": "stdout",
          "text": [
            "Array is:\n",
            "[[[[1 2 3 4]]]]\n",
            "Dimensions of array is: 4\n",
            "Shape of array is: (1, 1, 1, 4)\n"
          ]
        }
      ]
    },
    {
      "cell_type": "code",
      "source": [
        "# Creating list\n",
        "a=[12,'nm',90,'bh']\n",
        "print(\"List is:\",a)\n",
        "# Checking type of list\n",
        "print(\"Type is:\",type(a))"
      ],
      "metadata": {
        "colab": {
          "base_uri": "https://localhost:8080/"
        },
        "id": "v2myIdODZO2O",
        "outputId": "999c29f1-bd52-42b7-900a-5b2b94dfa8e6"
      },
      "execution_count": 50,
      "outputs": [
        {
          "output_type": "stream",
          "name": "stdout",
          "text": [
            "List is: [12, 'nm', 90, 'bh']\n",
            "Type is: <class 'list'>\n"
          ]
        }
      ]
    },
    {
      "cell_type": "code",
      "source": [
        "# Converting to array\n",
        "a=np.array(a)\n",
        "print(\"Array is:\",a)\n",
        "# Checking type of array\n",
        "print(\"Type is:\",type(a))"
      ],
      "metadata": {
        "colab": {
          "base_uri": "https://localhost:8080/"
        },
        "id": "UbQzQXvGf7y9",
        "outputId": "600878ee-c6d5-4276-b556-11d5160db264"
      },
      "execution_count": 51,
      "outputs": [
        {
          "output_type": "stream",
          "name": "stdout",
          "text": [
            "Array is: ['12' 'nm' '90' 'bh']\n",
            "Type is: <class 'numpy.ndarray'>\n"
          ]
        }
      ]
    },
    {
      "cell_type": "code",
      "source": [
        "# Creating Lists\n",
        "b=[13, 67, 90]\n",
        "c=[13, 67, 90]\n",
        "d=[13, 67, 90]\n",
        "# Combining lists\n",
        "a=[b,c,d]\n",
        "# Converting to array\n",
        "l=np.array(a)\n",
        "print(\"Array is:\")\n",
        "print(l)\n",
        "print(\"Dimensions of array is:\",np.ndim(l))\n",
        "print(\"Shape of array is:\",np.shape(l))"
      ],
      "metadata": {
        "id": "jwne5mD1diXW",
        "colab": {
          "base_uri": "https://localhost:8080/"
        },
        "outputId": "875033f8-6db1-419c-cf88-32babcc0e270"
      },
      "execution_count": 52,
      "outputs": [
        {
          "output_type": "stream",
          "name": "stdout",
          "text": [
            "Array is:\n",
            "[[13 67 90]\n",
            " [13 67 90]\n",
            " [13 67 90]]\n",
            "Dimensions of array is: 2\n",
            "Shape of array is: (3, 3)\n"
          ]
        }
      ]
    },
    {
      "cell_type": "code",
      "source": [
        "# numpy array functions\n",
        "# Creating array\n",
        "a=np.array(42)\n",
        "print(\"Array is:\")\n",
        "print(a)\n",
        "print(\"Dimensions of array is:\",np.ndim(a))\n",
        "print(\"Shape of array is:\",a.shape)\n",
        "print(\"Size of array is:\",a.size)"
      ],
      "metadata": {
        "colab": {
          "base_uri": "https://localhost:8080/"
        },
        "id": "MDcRkahwhwSo",
        "outputId": "51501d82-244c-48e3-c30b-3bfde8e7896a"
      },
      "execution_count": 65,
      "outputs": [
        {
          "output_type": "stream",
          "name": "stdout",
          "text": [
            "Array is:\n",
            "42\n",
            "Dimensions of array is: 0\n",
            "Shape of array is: ()\n",
            "Size of array is: 1\n"
          ]
        }
      ]
    },
    {
      "cell_type": "code",
      "source": [
        "# numpy array functions\n",
        "# Creating array\n",
        "a=np.array([42])\n",
        "print(\"Array is:\")\n",
        "print(a)\n",
        "print(\"Dimensions of array is:\",np.ndim(a))\n",
        "print(\"Shape of array is:\",a.shape)\n",
        "print(\"Size of array is:\",a.size)"
      ],
      "metadata": {
        "colab": {
          "base_uri": "https://localhost:8080/"
        },
        "id": "n4svHJ4PhHUS",
        "outputId": "8c2cfa7c-1d91-4d56-c304-55471af27060"
      },
      "execution_count": 66,
      "outputs": [
        {
          "output_type": "stream",
          "name": "stdout",
          "text": [
            "Array is:\n",
            "[42]\n",
            "Dimensions of array is: 1\n",
            "Shape of array is: (1,)\n",
            "Size of array is: 1\n"
          ]
        }
      ]
    },
    {
      "cell_type": "code",
      "source": [
        "# Creating array\n",
        "a=np.array([42,])\n",
        "print(\"Array is:\")\n",
        "print(a)\n",
        "print(\"Dimensions of array is:\",np.ndim(a))\n",
        "print(\"Shape of array is:\",a.shape)\n",
        "print(\"Size of array is:\",a.size)"
      ],
      "metadata": {
        "colab": {
          "base_uri": "https://localhost:8080/"
        },
        "id": "tMT0i0B5hZI_",
        "outputId": "65f90d94-ef49-4245-bd2f-96a6a0498522"
      },
      "execution_count": 67,
      "outputs": [
        {
          "output_type": "stream",
          "name": "stdout",
          "text": [
            "Array is:\n",
            "[42]\n",
            "Dimensions of array is: 1\n",
            "Shape of array is: (1,)\n",
            "Size of array is: 1\n"
          ]
        }
      ]
    },
    {
      "cell_type": "code",
      "source": [
        "# Creating array\n",
        "a=np.array([42,90,78,65,54])\n",
        "print(\"Array is:\")\n",
        "print(a)\n",
        "print(\"Dimensions of array is:\",np.ndim(a))\n",
        "print(\"Shape of array is:\",a.shape)\n",
        "print(\"Size of array is:\",a.size)"
      ],
      "metadata": {
        "colab": {
          "base_uri": "https://localhost:8080/"
        },
        "id": "dW5DAbH-hfkh",
        "outputId": "b79a487f-5a05-476a-c486-5dfca931c055"
      },
      "execution_count": 68,
      "outputs": [
        {
          "output_type": "stream",
          "name": "stdout",
          "text": [
            "Array is:\n",
            "[42 90 78 65 54]\n",
            "Dimensions of array is: 1\n",
            "Shape of array is: (5,)\n",
            "Size of array is: 5\n"
          ]
        }
      ]
    },
    {
      "cell_type": "code",
      "source": [
        "# Creating array\n",
        "a=np.array([[42,90,78,65,54],[9,7,8,6,43]])\n",
        "print(\"Array is:\")\n",
        "print(a)\n",
        "print(\"Dimensions of array is:\",np.ndim(a))\n",
        "print(\"Shape of array is:\",a.shape)\n",
        "print(\"Size of array is:\",a.size)"
      ],
      "metadata": {
        "colab": {
          "base_uri": "https://localhost:8080/"
        },
        "id": "vttwX8vNiNKf",
        "outputId": "bcbe5eb1-3c3c-4e54-ff46-2d71cd37241c"
      },
      "execution_count": 69,
      "outputs": [
        {
          "output_type": "stream",
          "name": "stdout",
          "text": [
            "Array is:\n",
            "[[42 90 78 65 54]\n",
            " [ 9  7  8  6 43]]\n",
            "Dimensions of array is: 2\n",
            "Shape of array is: (2, 5)\n",
            "Size of array is: 10\n"
          ]
        }
      ]
    },
    {
      "cell_type": "code",
      "source": [
        "# Creating array\n",
        "a=np.array([[[42,90,78,65,54],[9,7,8,6,43]],[[12,34,45,67,78,98],[1,2,3,4,5]]])\n",
        "print(\"Array is:\")\n",
        "print(a)\n",
        "print(\"Dimensions of array is:\",np.ndim(a))\n",
        "print(\"Shape of array is:\",a.shape)\n",
        "print(\"Size of array is:\",a.size)"
      ],
      "metadata": {
        "colab": {
          "base_uri": "https://localhost:8080/"
        },
        "outputId": "9c2abd15-4486-42ca-bfd5-4647a8bd4de6",
        "id": "nPFyCFneiujK"
      },
      "execution_count": 73,
      "outputs": [
        {
          "output_type": "stream",
          "name": "stdout",
          "text": [
            "Array is:\n",
            "[[list([42, 90, 78, 65, 54]) list([9, 7, 8, 6, 43])]\n",
            " [list([12, 34, 45, 67, 78, 98]) list([1, 2, 3, 4, 5])]]\n",
            "Dimensions of array is: 2\n",
            "Shape of array is: (2, 2)\n",
            "Size of array is: 4\n"
          ]
        },
        {
          "output_type": "stream",
          "name": "stderr",
          "text": [
            "<ipython-input-73-0b5e660214ad>:2: VisibleDeprecationWarning: Creating an ndarray from ragged nested sequences (which is a list-or-tuple of lists-or-tuples-or ndarrays with different lengths or shapes) is deprecated. If you meant to do this, you must specify 'dtype=object' when creating the ndarray.\n",
            "  a=np.array([[[42,90,78,65,54],[9,7,8,6,43]],[[12,34,45,67,78,98],[1,2,3,4,5]]])\n"
          ]
        }
      ]
    },
    {
      "cell_type": "code",
      "source": [
        "# Creating array using ones function\n",
        "# Create array of ones\n",
        "a=np.ones([2,2])\n",
        "print(\"Array is:\")\n",
        "print(a)\n",
        "print(\"Dimensions of array is:\",np.ndim(a))\n",
        "print(\"Shape of array is:\",a.shape)\n",
        "print(\"Size of array is:\",a.size)"
      ],
      "metadata": {
        "colab": {
          "base_uri": "https://localhost:8080/"
        },
        "outputId": "7863cb93-b8ef-48ee-c389-12677972ea1b",
        "id": "1PyhtN4qjSZp"
      },
      "execution_count": 72,
      "outputs": [
        {
          "output_type": "stream",
          "name": "stdout",
          "text": [
            "Array is:\n",
            "[[1. 1.]\n",
            " [1. 1.]]\n",
            "Dimensions of array is: 2\n",
            "Shape of array is: (2, 2)\n",
            "Size of array is: 4\n"
          ]
        }
      ]
    },
    {
      "cell_type": "code",
      "source": [
        "# Creating array using ones_like function\n",
        "# Replaces ones to an array\n",
        "a=np.ones_like([2,2,4,5,6,7,8])\n",
        "print(\"Array is:\")\n",
        "print(a)\n",
        "print(\"Dimensions of array is:\",np.ndim(a))\n",
        "print(\"Shape of array is:\",a.shape)\n",
        "print(\"Size of array is:\",a.size)"
      ],
      "metadata": {
        "colab": {
          "base_uri": "https://localhost:8080/"
        },
        "outputId": "533d07b2-e61b-4923-9b8d-99c5a6835c36",
        "id": "E1jw6Vdjj24N"
      },
      "execution_count": 75,
      "outputs": [
        {
          "output_type": "stream",
          "name": "stdout",
          "text": [
            "Array is:\n",
            "[1 1 1 1 1 1 1]\n",
            "Dimensions of array is: 1\n",
            "Shape of array is: (7,)\n",
            "Size of array is: 7\n"
          ]
        }
      ]
    },
    {
      "cell_type": "code",
      "source": [
        "# Creating array using zeroes_like function\n",
        "# Create array of zeros\n",
        "a=np.zeros([2,2])\n",
        "print(\"Array is:\")\n",
        "print(a)\n",
        "print(\"Dimensions of array is:\",np.ndim(a))\n",
        "print(\"Shape of array is:\",a.shape)\n",
        "print(\"Size of array is:\",a.size)"
      ],
      "metadata": {
        "colab": {
          "base_uri": "https://localhost:8080/"
        },
        "id": "Yp8fz648kZNm",
        "outputId": "8336dc6b-a352-4004-b35e-9aebaa613dc4"
      },
      "execution_count": 78,
      "outputs": [
        {
          "output_type": "stream",
          "name": "stdout",
          "text": [
            "Array is:\n",
            "[[0. 0.]\n",
            " [0. 0.]]\n",
            "Dimensions of array is: 2\n",
            "Shape of array is: (2, 2)\n",
            "Size of array is: 4\n"
          ]
        }
      ]
    },
    {
      "cell_type": "code",
      "source": [
        "# Creating array using zeroes_like function\n",
        "# Replaces zeros to an array\n",
        "a=np.zeros_like([2,2,4,5,6,7,8])\n",
        "print(\"Array is:\")\n",
        "print(a)\n",
        "print(\"Dimensions of array is:\",np.ndim(a))\n",
        "print(\"Shape of array is:\",a.shape)\n",
        "print(\"Size of array is:\",a.size)"
      ],
      "metadata": {
        "colab": {
          "base_uri": "https://localhost:8080/"
        },
        "id": "1grQNhNfiy_R",
        "outputId": "f5e3bfbc-87bb-4d6d-f025-29c69b6374e7"
      },
      "execution_count": 79,
      "outputs": [
        {
          "output_type": "stream",
          "name": "stdout",
          "text": [
            "Array is:\n",
            "[0 0 0 0 0 0 0]\n",
            "Dimensions of array is: 1\n",
            "Shape of array is: (7,)\n",
            "Size of array is: 7\n"
          ]
        }
      ]
    },
    {
      "cell_type": "code",
      "source": [
        "# Creating array using full function\n",
        "# Creates array using the given value\n",
        "a=np.full([2,2],67)\n",
        "print(\"Array is:\")\n",
        "print(a)\n",
        "print(\"Dimensions of array is:\",np.ndim(a))\n",
        "print(\"Shape of array is:\",a.shape)\n",
        "print(\"Size of array is:\",a.size)"
      ],
      "metadata": {
        "colab": {
          "base_uri": "https://localhost:8080/"
        },
        "id": "WA7PPqgXkxYr",
        "outputId": "5f954483-9c48-4769-c43e-d3ae9f3afac9"
      },
      "execution_count": 81,
      "outputs": [
        {
          "output_type": "stream",
          "name": "stdout",
          "text": [
            "Array is:\n",
            "[[67 67]\n",
            " [67 67]]\n",
            "Dimensions of array is: 2\n",
            "Shape of array is: (2, 2)\n",
            "Size of array is: 4\n"
          ]
        }
      ]
    },
    {
      "cell_type": "code",
      "source": [
        "# Creating array using full_like function\n",
        "# Replaces array using the given value\n",
        "a=np.full_like([2,2,89,7,6,5,12,3,4],67)\n",
        "print(\"Array is:\")\n",
        "print(a)\n",
        "print(\"Dimensions of array is:\",np.ndim(a))\n",
        "print(\"Shape of array is:\",a.shape)\n",
        "print(\"Size of array is:\",a.size)"
      ],
      "metadata": {
        "colab": {
          "base_uri": "https://localhost:8080/"
        },
        "outputId": "fb96ff6a-dbe1-47f5-b587-1777d086695d",
        "id": "88GW1m3flHEz"
      },
      "execution_count": 82,
      "outputs": [
        {
          "output_type": "stream",
          "name": "stdout",
          "text": [
            "Array is:\n",
            "[67 67 67 67 67 67 67 67 67]\n",
            "Dimensions of array is: 1\n",
            "Shape of array is: (9,)\n",
            "Size of array is: 9\n"
          ]
        }
      ]
    },
    {
      "cell_type": "code",
      "source": [
        "# Giving dtype to arange and creating an array\n",
        "print(\"Array is:\")\n",
        "print(np.arange(10,dtype=float).reshape(2,5))"
      ],
      "metadata": {
        "colab": {
          "base_uri": "https://localhost:8080/"
        },
        "id": "dR9KGj6blUed",
        "outputId": "64f1ce8f-1f0e-4ec2-eb7c-f4cb422a7f0d"
      },
      "execution_count": 83,
      "outputs": [
        {
          "output_type": "stream",
          "name": "stdout",
          "text": [
            "Array is:\n",
            "[[0. 1. 2. 3. 4.]\n",
            " [5. 6. 7. 8. 9.]]\n"
          ]
        }
      ]
    },
    {
      "cell_type": "code",
      "source": [
        "# np.empty function is used to create empty arrays in which values will be filled later\n",
        "a= np.empty([3,4])\n",
        "print(\"Array is:\")\n",
        "print(a)\n",
        "print(\"Dimensions of array is:\",np.ndim(a))\n",
        "print(\"Shape of array is:\",a.shape)\n",
        "print(\"Size of array is:\",a.size)"
      ],
      "metadata": {
        "colab": {
          "base_uri": "https://localhost:8080/"
        },
        "id": "CzHfadf8mM75",
        "outputId": "1c33a8eb-eeca-4749-f561-71c1aa02a0b4"
      },
      "execution_count": 87,
      "outputs": [
        {
          "output_type": "stream",
          "name": "stdout",
          "text": [
            "Array is:\n",
            "[[4.9e-324 9.9e-324 1.5e-323 2.0e-323]\n",
            " [2.5e-323 3.0e-323 6.9e-323 7.4e-323]\n",
            " [7.9e-323 3.5e-323 4.0e-323 4.4e-323]]\n",
            "Dimensions of array is: 2\n",
            "Shape of array is: (3, 4)\n",
            "Size of array is: 12\n"
          ]
        }
      ]
    },
    {
      "cell_type": "code",
      "source": [
        "# Mathematical Functions in numpy arrays\n",
        "# Creating two arrays\n",
        "arr1=np.array([10,11,23,45])\n",
        "print(\"Array 1 is:\",arr1)\n",
        "arr2=np.array([20,11,23,95])\n",
        "print(\"Array 2 is:\",arr2)\n",
        "# Creating new array by Adding two arrays\n",
        "newarr=np.add(arr1,arr2)\n",
        "print(\"Addition of Array is:\",newarr)\n",
        "# Creating new array by Subtracting two arrays\n",
        "new=np.subtract(arr1,arr2)\n",
        "print(\"Subtraction of Array is:\",new)\n",
        "print(\"Multiplication of Array is:\",np.multiply(arr1,arr2))\n",
        "print(\"Division of Array using mod function is:\",np.mod(arr1,arr2))\n",
        "print(\"Division of Array using remainder function is:\",np.remainder(arr1,arr2))"
      ],
      "metadata": {
        "colab": {
          "base_uri": "https://localhost:8080/"
        },
        "id": "1QOaNCPmmTpW",
        "outputId": "5e90c55c-8ccd-433e-a597-891e54922d03"
      },
      "execution_count": 93,
      "outputs": [
        {
          "output_type": "stream",
          "name": "stdout",
          "text": [
            "Array 1 is: [10 11 23 45]\n",
            "Array 2 is: [20 11 23 95]\n",
            "Addition of Array is: [ 30  22  46 140]\n",
            "Subtraction of Array is: [-10   0   0 -50]\n",
            "Multiplication of Array is: [ 200  121  529 4275]\n",
            "Division of Array using mod function is: [10  0  0 45]\n",
            "Division of Array using remainder function is: [10  0  0 45]\n"
          ]
        }
      ]
    },
    {
      "cell_type": "code",
      "source": [
        "# Directly doing mathematical computation without functions\n",
        "# Creating two arrays\n",
        "arr1=np.array([10,11,23,45])\n",
        "print(\"Array 1 is:\",arr1)\n",
        "arr2=np.array([20,11,23,95])\n",
        "print(\"Array 2 is:\",arr2)\n",
        "# Creating new array by Adding two arrays\n",
        "newarr=arr1+arr2\n",
        "print(\"Addition of Array is:\",newarr)\n",
        "# Creating new array by Subtracting two arrays\n",
        "new=arr1-arr2\n",
        "print(\"Subtraction of Array is:\",new)\n",
        "print(\"Multiplication of Array is:\",arr1*arr2)\n",
        "print(\"Division of Array using mod function is:\",arr1/arr2)"
      ],
      "metadata": {
        "colab": {
          "base_uri": "https://localhost:8080/"
        },
        "id": "1oXkm3PboEsi",
        "outputId": "44bcb88e-46c1-44db-bef9-39dade6c7d4f"
      },
      "execution_count": 94,
      "outputs": [
        {
          "output_type": "stream",
          "name": "stdout",
          "text": [
            "Array 1 is: [10 11 23 45]\n",
            "Array 2 is: [20 11 23 95]\n",
            "Addition of Array is: [ 30  22  46 140]\n",
            "Subtraction of Array is: [-10   0   0 -50]\n",
            "Multiplication of Array is: [ 200  121  529 4275]\n",
            "Division of Array using mod function is: [0.5        1.         1.         0.47368421]\n"
          ]
        }
      ]
    },
    {
      "cell_type": "code",
      "source": [
        "# Other Functions\n",
        "print(\"Array is:\",arr1)\n",
        "print(\"Maximum element is:\",np.max(arr1))\n",
        "print(\"Minimum element is:\",np.min(arr1))\n",
        "print(\"Median is:\",np.median(arr1))\n",
        "print(\"Mean is:\",np.mean(arr1))\n",
        "print(\"Average is:\",np.average(arr1))\n",
        "print(\"Percentile is:\",np.percentile(arr1,11))\n",
        "print(\"Standard Deviation is:\",np.std(arr1))\n",
        "print(\"Variance is:\",np.var(arr1))"
      ],
      "metadata": {
        "colab": {
          "base_uri": "https://localhost:8080/"
        },
        "id": "eP-8WHIypW3n",
        "outputId": "f6d7b020-7bdf-43a0-aa4c-20d3870fba59"
      },
      "execution_count": 98,
      "outputs": [
        {
          "output_type": "stream",
          "name": "stdout",
          "text": [
            "Array is: [10 11 23 45]\n",
            "Maximum element is: 45\n",
            "Minimum element is: 10\n",
            "Median is: 17.0\n",
            "Mean is: 22.25\n",
            "Average is: 22.25\n",
            "Percentile is: 10.33\n",
            "Standard Deviation is: 14.095655359010449\n",
            "Variance is: 198.6875\n"
          ]
        }
      ]
    },
    {
      "cell_type": "code",
      "source": [
        "# Creating  two arrays\n",
        "even=np.array([0,2,4,6,8,10,14,16])\n",
        "print(\"Even Array is:\",even)\n",
        "odd=even+1\n",
        "print(\"Odd Array is:\",odd)\n",
        "print(\"Bitwise and of two arrays\")\n",
        "print(np.bitwise_and(even,odd))\n",
        "print(\"Bitwise or of two arrays\")\n",
        "print(np.bitwise_or(even,odd))\n",
        "print(\"Bitwise xor of two arrays\")\n",
        "print(np.bitwise_xor(even,odd))"
      ],
      "metadata": {
        "colab": {
          "base_uri": "https://localhost:8080/"
        },
        "id": "y8V-6YCwp40u",
        "outputId": "6aabc4c4-207b-49dd-bb6d-96d4578bcb3d"
      },
      "execution_count": 101,
      "outputs": [
        {
          "output_type": "stream",
          "name": "stdout",
          "text": [
            "Even Array is: [ 0  2  4  6  8 10 14 16]\n",
            "Odd Array is: [ 1  3  5  7  9 11 15 17]\n",
            "Bitwise and of two arrays\n",
            "[ 0  2  4  6  8 10 14 16]\n",
            "Bitwise or of two arrays\n",
            "[ 1  3  5  7  9 11 15 17]\n",
            "Bitwise xor of two arrays\n",
            "[1 1 1 1 1 1 1 1]\n"
          ]
        }
      ]
    },
    {
      "cell_type": "code",
      "source": [
        "print(\"Bitwise or of two arrays\")\n",
        "print(np.bitwise_or(even,odd))\n",
        "print(\"Bitwise xor of two arrays\")\n",
        "print(np.invert(even,odd))"
      ],
      "metadata": {
        "colab": {
          "base_uri": "https://localhost:8080/"
        },
        "id": "U7AhfplFrX0i",
        "outputId": "8186d288-5f82-4e81-bb5f-d58927e3e744"
      },
      "execution_count": 102,
      "outputs": [
        {
          "output_type": "stream",
          "name": "stdout",
          "text": [
            "Bitwise or of two arrays\n",
            "[ 1  3  5  7  9 11 15 17]\n",
            "Bitwise xor of two arrays\n",
            "[ -1  -3  -5  -7  -9 -11 -15 -17]\n"
          ]
        }
      ]
    },
    {
      "cell_type": "code",
      "source": [
        "# Creating array\n",
        "array=np.array([10,11,23,45,11,23,45,66,33,12,112,90,98,76])\n",
        "# Sorting\n",
        "array.sort() # array.sort()-Dosen't return anything,saves value in actual array\n",
        "print(\"Sorted array is:\",array)\n",
        "# Reverse Sorting\n",
        "array[::-1].sort() #-Dosen't return anything,saves value in actual array\n",
        "print(\"Reversed Sorted array is:\",array)"
      ],
      "metadata": {
        "colab": {
          "base_uri": "https://localhost:8080/"
        },
        "id": "S6adu9PFrY9R",
        "outputId": "70e50160-c3cc-4eec-b685-1fe80766534e"
      },
      "execution_count": 106,
      "outputs": [
        {
          "output_type": "stream",
          "name": "stdout",
          "text": [
            "Sorted array is: [ 10  11  11  12  23  23  33  45  45  66  76  90  98 112]\n",
            "Reversed Sorted array is: [112  98  90  76  66  45  45  33  23  23  12  11  11  10]\n"
          ]
        }
      ]
    },
    {
      "cell_type": "code",
      "source": [
        "# numpy sorting function\n",
        "# np.sort(array)-Returns sorted array\n",
        "print(\"Sorted array using numpy sort function is:\",np.sort(array))"
      ],
      "metadata": {
        "colab": {
          "base_uri": "https://localhost:8080/"
        },
        "id": "GCkTa_Hbr-QX",
        "outputId": "57d6bc10-4426-4624-9ae5-ab28430e9a41"
      },
      "execution_count": 107,
      "outputs": [
        {
          "output_type": "stream",
          "name": "stdout",
          "text": [
            "Sorted array using numpy sort function is: [ 10  11  11  12  23  23  33  45  45  66  76  90  98 112]\n"
          ]
        }
      ]
    },
    {
      "cell_type": "code",
      "source": [
        "# Creating an array\n",
        "arr1=np.array([[11,2,13,4,5,26],[35,5,15,10,20,90]])\n",
        "print(\"Array is:\")\n",
        "print(arr1)\n",
        "# numpy sorting function with axis\n",
        "print(\"Sorting with axis None:\")\n",
        "print(np.sort(arr1,axis=None))\n",
        "print(\"Sorting with axis 0:\")\n",
        "print(np.sort(arr1,axis=0))\n",
        "print(\"Sorting with axis 1:\")\n",
        "print(np.sort(arr1,axis=1))"
      ],
      "metadata": {
        "colab": {
          "base_uri": "https://localhost:8080/"
        },
        "id": "vQIVOS5ecvxl",
        "outputId": "7920c0e9-7768-479f-fb1d-8d719389139f"
      },
      "execution_count": 109,
      "outputs": [
        {
          "output_type": "stream",
          "name": "stdout",
          "text": [
            "Array is:\n",
            "[[11  2 13  4  5 26]\n",
            " [35  5 15 10 20 90]]\n",
            "Sorting with axis None:\n",
            "[ 2  4  5  5 10 11 13 15 20 26 35 90]\n",
            "Sorting with axis 0:\n",
            "[[11  2 13  4  5 26]\n",
            " [35  5 15 10 20 90]]\n",
            "Sorting with axis 1:\n",
            "[[ 2  4  5 11 13 26]\n",
            " [ 5 10 15 20 35 90]]\n"
          ]
        }
      ]
    },
    {
      "cell_type": "code",
      "source": [
        "# Giving types in sort\n",
        "a=np.array([1,5,6,7,3,4])\n",
        "print(\"Array is:\")\n",
        "print(a)\n",
        "print(\"Sorting using Heap sort\",np.sort(a,kind='heapsort'))\n",
        "print(\"Sorting using Merge sort\",np.sort(a,kind='mergesort'))\n",
        "print(\"Sorting using Quick sort\",np.sort(a,kind='quicksort'))\n",
        "print(\"Sorting using Selection sort\",np.sort(a,kind='selectionsort'))"
      ],
      "metadata": {
        "colab": {
          "base_uri": "https://localhost:8080/"
        },
        "id": "L6kmkGhvtgxZ",
        "outputId": "87ed6630-b277-4e0b-fa08-0b7804e674d8"
      },
      "execution_count": 110,
      "outputs": [
        {
          "output_type": "stream",
          "name": "stdout",
          "text": [
            "Array is:\n",
            "[1 5 6 7 3 4]\n",
            "Sorting using Heap sort [1 3 4 5 6 7]\n",
            "Sorting using Merge sort [1 3 4 5 6 7]\n",
            "Sorting using Quick sort [1 3 4 5 6 7]\n",
            "Sorting using Selection sort [1 3 4 5 6 7]\n"
          ]
        }
      ]
    }
  ]
}