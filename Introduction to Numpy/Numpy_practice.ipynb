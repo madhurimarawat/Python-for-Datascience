{
 "cells": [
  {
   "cell_type": "markdown",
   "metadata": {},
   "source": [
    "Importing numpy"
   ]
  },
  {
   "cell_type": "code",
   "execution_count": 1,
   "metadata": {},
   "outputs": [],
   "source": [
    "import numpy as np"
   ]
  },
  {
   "cell_type": "markdown",
   "metadata": {},
   "source": [
    "Creating an aray in numpy"
   ]
  },
  {
   "cell_type": "code",
   "execution_count": 2,
   "metadata": {},
   "outputs": [
    {
     "name": "stdout",
     "output_type": "stream",
     "text": [
      "Array is:\n",
      "[1 2 4 5 6 7]\n",
      "Type is: <class 'numpy.ndarray'>\n",
      "Dimension is: 1\n",
      "Shape is: (6,)\n",
      "Max element is: 7\n",
      "Min element is: 1\n"
     ]
    }
   ],
   "source": [
    "arr=np.array([1,2,4,5,6,7])\n",
    "print(\"Array is:\")\n",
    "print(arr)\n",
    "print(\"Type is:\",type(arr))\n",
    "print(\"Dimension is:\",arr.ndim)\n",
    "print(\"Shape is:\",arr.shape)\n",
    "print(\"Max element is:\",arr.max())\n",
    "print(\"Min element is:\",arr.min())"
   ]
  },
  {
   "cell_type": "markdown",
   "metadata": {},
   "source": [
    "Creating an aray in numpy"
   ]
  },
  {
   "cell_type": "code",
   "execution_count": 3,
   "metadata": {},
   "outputs": [
    {
     "name": "stdout",
     "output_type": "stream",
     "text": [
      "Array is:\n",
      "[[1 2]\n",
      " [4 5]\n",
      " [6 7]]\n",
      "Type is: <class 'numpy.ndarray'>\n",
      "Dimension is: 2\n",
      "Shape is: (3, 2)\n",
      "Max element is: 7\n",
      "Min element is: 1\n"
     ]
    }
   ],
   "source": [
    "arr=np.array([[1,2],[4,5],[6,7]])\n",
    "print(\"Array is:\")\n",
    "print(arr)\n",
    "print(\"Type is:\",type(arr))\n",
    "print(\"Dimension is:\",arr.ndim)\n",
    "print(\"Shape is:\",arr.shape)\n",
    "print(\"Max element is:\",arr.max())\n",
    "print(\"Min element is:\",arr.min())"
   ]
  },
  {
   "cell_type": "markdown",
   "metadata": {},
   "source": [
    "Creating an aray in numpy"
   ]
  },
  {
   "cell_type": "code",
   "execution_count": 4,
   "metadata": {},
   "outputs": [
    {
     "name": "stdout",
     "output_type": "stream",
     "text": [
      "Array is:\n",
      "[[[1 2]\n",
      "  [4 5]\n",
      "  [6 7]]]\n",
      "Type is: <class 'numpy.ndarray'>\n",
      "Dimension is: 3\n",
      "Shape is: (1, 3, 2)\n",
      "Max element is: 7\n",
      "Min element is: 1\n"
     ]
    }
   ],
   "source": [
    "arr=np.array([[[1,2],[4,5],[6,7]]])\n",
    "print(\"Array is:\")\n",
    "print(arr)\n",
    "print(\"Type is:\",type(arr))\n",
    "print(\"Dimension is:\",arr.ndim)\n",
    "print(\"Shape is:\",arr.shape)\n",
    "print(\"Max element is:\",arr.max())\n",
    "print(\"Min element is:\",arr.min())"
   ]
  },
  {
   "cell_type": "code",
   "execution_count": 5,
   "metadata": {},
   "outputs": [
    {
     "name": "stdout",
     "output_type": "stream",
     "text": [
      "Array is:\n",
      "[[[1 2]]]\n",
      "Type is: <class 'numpy.ndarray'>\n",
      "Dimension is: 3\n",
      "Shape is: (1, 1, 2)\n",
      "Max element is: 2\n",
      "Min element is: 1\n"
     ]
    }
   ],
   "source": [
    "arr=np.array([[[1,2]]])\n",
    "print(\"Array is:\")\n",
    "print(arr)\n",
    "print(\"Type is:\",type(arr))\n",
    "print(\"Dimension is:\",arr.ndim)\n",
    "print(\"Shape is:\",arr.shape)\n",
    "print(\"Max element is:\",arr.max())\n",
    "print(\"Min element is:\",arr.min())"
   ]
  },
  {
   "cell_type": "markdown",
   "metadata": {},
   "source": [
    "(3,4,2,2)"
   ]
  },
  {
   "cell_type": "code",
   "execution_count": 6,
   "metadata": {},
   "outputs": [
    {
     "name": "stdout",
     "output_type": "stream",
     "text": [
      "Array is:\n",
      "[[[[1 2]\n",
      "   [1 2]]\n",
      "\n",
      "  [[1 2]\n",
      "   [1 2]]\n",
      "\n",
      "  [[1 2]\n",
      "   [1 2]]\n",
      "\n",
      "  [[1 2]\n",
      "   [1 2]]]\n",
      "\n",
      "\n",
      " [[[1 2]\n",
      "   [1 2]]\n",
      "\n",
      "  [[1 2]\n",
      "   [1 2]]\n",
      "\n",
      "  [[1 2]\n",
      "   [1 2]]\n",
      "\n",
      "  [[1 2]\n",
      "   [1 2]]]\n",
      "\n",
      "\n",
      " [[[1 2]\n",
      "   [1 2]]\n",
      "\n",
      "  [[1 2]\n",
      "   [1 2]]\n",
      "\n",
      "  [[1 2]\n",
      "   [1 2]]\n",
      "\n",
      "  [[1 2]\n",
      "   [1 2]]]]\n",
      "Dimension of Array is:  4\n",
      "Shape is: (3, 4, 2, 2)\n"
     ]
    }
   ],
   "source": [
    "arr_d = np.array([\n",
    "    [[[1,2], [1,2]], [[1,2], [1,2]], [[1,2], [1,2]], [[1,2], [1,2]]], [[[1,2], [1,2]], [[1,2], [1,2]], [[1,2], [1,2]], [[1,2], [1,2]]], [[[1,2], [1,2]], [[1,2], [1,2]], [[1,2], [1,2]], [[1,2], [1,2]]]\n",
    "])\n",
    "print(\"Array is:\")\n",
    "print(arr_d)\n",
    "print(\"Dimension of Array is: \",arr_d.ndim)\n",
    "print(\"Shape is:\",arr_d.shape)"
   ]
  },
  {
   "cell_type": "code",
   "execution_count": 7,
   "metadata": {},
   "outputs": [
    {
     "name": "stdout",
     "output_type": "stream",
     "text": [
      "Array is:  [[[[ 1  2]\n",
      "   [ 3  4]]\n",
      "\n",
      "  [[ 5  6]\n",
      "   [ 7  8]]\n",
      "\n",
      "  [[ 9 10]\n",
      "   [11 12]]\n",
      "\n",
      "  [[13 14]\n",
      "   [15 16]]]\n",
      "\n",
      "\n",
      " [[[17 18]\n",
      "   [19 20]]\n",
      "\n",
      "  [[21 22]\n",
      "   [23 24]]\n",
      "\n",
      "  [[25 26]\n",
      "   [27 28]]\n",
      "\n",
      "  [[29 30]\n",
      "   [31 32]]]\n",
      "\n",
      "\n",
      " [[[33 34]\n",
      "   [35 36]]\n",
      "\n",
      "  [[37 38]\n",
      "   [39 40]]\n",
      "\n",
      "  [[41 42]\n",
      "   [43 44]]\n",
      "\n",
      "  [[45 46]\n",
      "   [47 48]]]]\n",
      "(3, 4, 2, 2)\n"
     ]
    }
   ],
   "source": [
    "ar=np.arange(1,49)\n",
    "ar=ar.reshape(3,4,2,2)\n",
    "print(\"Array is: \",ar)\n",
    "print(ar.shape)"
   ]
  },
  {
   "cell_type": "markdown",
   "metadata": {},
   "source": [
    "arange creates array of required range"
   ]
  },
  {
   "cell_type": "code",
   "execution_count": 8,
   "metadata": {},
   "outputs": [
    {
     "name": "stdout",
     "output_type": "stream",
     "text": [
      "Array created in a particular range using arange function is:\n",
      "[0 1 2 3 4 5 6 7 8 9]\n",
      "Type is: <class 'numpy.ndarray'>\n",
      "Dimension is: 1\n",
      "Shape is: (10,)\n",
      "Max element is: 9\n",
      "Min element is: 0\n"
     ]
    }
   ],
   "source": [
    "arr1=np.arange(10)\n",
    "print(\"Array created in a particular range using arange function is:\")\n",
    "print(arr1)\n",
    "print(\"Type is:\",type(arr1))\n",
    "print(\"Dimension is:\",arr1.ndim)\n",
    "print(\"Shape is:\",arr1.shape)\n",
    "print(\"Max element is:\",arr1.max())\n",
    "print(\"Min element is:\",arr1.min())"
   ]
  },
  {
   "cell_type": "markdown",
   "metadata": {},
   "source": [
    "To increase dimensions we can add 1"
   ]
  },
  {
   "cell_type": "code",
   "execution_count": 9,
   "metadata": {},
   "outputs": [
    {
     "name": "stdout",
     "output_type": "stream",
     "text": [
      "Array created in a particular range using arange function and reshape function is:\n",
      "[[[0 1]]\n",
      "\n",
      " [[2 3]]\n",
      "\n",
      " [[4 5]]\n",
      "\n",
      " [[6 7]]\n",
      "\n",
      " [[8 9]]]\n",
      "Type is: <class 'numpy.ndarray'>\n",
      "Dimension is: 3\n",
      "Shape is: (5, 1, 2)\n",
      "Max element is: 9\n",
      "Min element is: 0\n"
     ]
    }
   ],
   "source": [
    "arr2=np.arange(10)\n",
    "arr2=arr2.reshape(5,1,2)\n",
    "print(\"Array created in a particular range using arange function and reshape function is:\")\n",
    "print(arr2)\n",
    "print(\"Type is:\",type(arr2))\n",
    "print(\"Dimension is:\",arr2.ndim)\n",
    "print(\"Shape is:\",arr2.shape)\n",
    "print(\"Max element is:\",arr2.max())\n",
    "print(\"Min element is:\",arr2.min())"
   ]
  },
  {
   "cell_type": "markdown",
   "metadata": {},
   "source": [
    "fill is used to fill one value to all array"
   ]
  },
  {
   "cell_type": "code",
   "execution_count": 10,
   "metadata": {},
   "outputs": [
    {
     "name": "stdout",
     "output_type": "stream",
     "text": [
      "Array filled by using fill function for 7  is:\n",
      "[7 7 7 7 7 7 7 7 7 7]\n"
     ]
    }
   ],
   "source": [
    "arr1.fill(7)\n",
    "print(\"Array filled by using fill function for 7  is:\")\n",
    "print(arr1)"
   ]
  },
  {
   "cell_type": "code",
   "execution_count": 11,
   "metadata": {},
   "outputs": [
    {
     "name": "stdout",
     "output_type": "stream",
     "text": [
      "Array filled by using full function for 6  is:\n",
      "[[[6. 6.]\n",
      "  [6. 6.]\n",
      "  [6. 6.]\n",
      "  [6. 6.]]\n",
      "\n",
      " [[6. 6.]\n",
      "  [6. 6.]\n",
      "  [6. 6.]\n",
      "  [6. 6.]]\n",
      "\n",
      " [[6. 6.]\n",
      "  [6. 6.]\n",
      "  [6. 6.]\n",
      "  [6. 6.]]]\n"
     ]
    }
   ],
   "source": [
    "arr2=np.full((3,4,2),6,dtype=float)\n",
    "print(\"Array filled by using full function for 6  is:\")\n",
    "print(arr2)"
   ]
  },
  {
   "cell_type": "markdown",
   "metadata": {},
   "source": [
    "zeros is used to fill array with zeros,by default data type is float"
   ]
  },
  {
   "cell_type": "code",
   "execution_count": 12,
   "metadata": {},
   "outputs": [
    {
     "name": "stdout",
     "output_type": "stream",
     "text": [
      "Array filled with zero is:\n",
      "[[0 0 0]\n",
      " [0 0 0]\n",
      " [0 0 0]\n",
      " [0 0 0]\n",
      " [0 0 0]]\n"
     ]
    }
   ],
   "source": [
    "zero=np.zeros((5,3),dtype=int)\n",
    "print(\"Array filled with zero is:\")\n",
    "print(zero)"
   ]
  },
  {
   "cell_type": "markdown",
   "metadata": {},
   "source": [
    "ones is used to fill array with ones ,by default data type is float"
   ]
  },
  {
   "cell_type": "code",
   "execution_count": 13,
   "metadata": {},
   "outputs": [
    {
     "name": "stdout",
     "output_type": "stream",
     "text": [
      "Array filled with ones is:\n",
      "[[1 1 1]\n",
      " [1 1 1]\n",
      " [1 1 1]\n",
      " [1 1 1]\n",
      " [1 1 1]]\n"
     ]
    }
   ],
   "source": [
    "ones=np.ones((5,3),dtype=int)\n",
    "print(\"Array filled with ones is:\")\n",
    "print(ones)"
   ]
  },
  {
   "cell_type": "markdown",
   "metadata": {},
   "source": [
    "For identity matrix<br>\n",
    "If we give one value it will create square matrix else specified number of rows and columns"
   ]
  },
  {
   "cell_type": "code",
   "execution_count": 14,
   "metadata": {},
   "outputs": [
    {
     "name": "stdout",
     "output_type": "stream",
     "text": [
      "Identity Matrix is:\n",
      "[[0. 1. 0. 0. 0.]\n",
      " [0. 0. 1. 0. 0.]\n",
      " [0. 0. 0. 1. 0.]\n",
      " [0. 0. 0. 0. 1.]]\n"
     ]
    }
   ],
   "source": [
    "eye=np.eye(4,5,1)\n",
    "print(\"Identity Matrix is:\")\n",
    "print(eye)"
   ]
  },
  {
   "cell_type": "markdown",
   "metadata": {},
   "source": [
    "axis is used to decide if we fill data row wise or column wise"
   ]
  },
  {
   "cell_type": "code",
   "execution_count": 15,
   "metadata": {},
   "outputs": [
    {
     "name": "stdout",
     "output_type": "stream",
     "text": [
      "[[ 0.  1.  0.  0.  0.  0.  1.  2.  3.  4.]\n",
      " [ 0.  0.  1.  0.  0.  5.  6.  7.  8.  9.]\n",
      " [ 0.  0.  0.  1.  0. 10. 11. 12. 13. 14.]\n",
      " [ 0.  0.  0.  0.  1. 15. 16. 17. 18. 19.]]\n"
     ]
    }
   ],
   "source": [
    "print(np.append(eye,np.arange(20).reshape((4,5)),axis=1))"
   ]
  },
  {
   "cell_type": "markdown",
   "metadata": {},
   "source": [
    "Data is needed to be in the same dimensions to match<br>\n",
    "print(np.append(eye,np.arange(15).reshape((3,5)),axis=1)) - gives error"
   ]
  },
  {
   "cell_type": "code",
   "execution_count": 16,
   "metadata": {},
   "outputs": [
    {
     "name": "stdout",
     "output_type": "stream",
     "text": [
      "Identity Matrix after concatenation is:\n",
      "[[ 0.  1.  0.  0.  0.  0.  1.  2.  3.  4.  0.  1.  2.  3.  4.  0.  1.  2.\n",
      "   3.  4.]\n",
      " [ 0.  0.  1.  0.  0.  5.  6.  7.  8.  9.  5.  6.  7.  8.  9.  5.  6.  7.\n",
      "   8.  9.]\n",
      " [ 0.  0.  0.  1.  0. 10. 11. 12. 13. 14. 10. 11. 12. 13. 14. 10. 11. 12.\n",
      "  13. 14.]\n",
      " [ 0.  0.  0.  0.  1. 15. 16. 17. 18. 19. 15. 16. 17. 18. 19. 15. 16. 17.\n",
      "  18. 19.]]\n"
     ]
    }
   ],
   "source": [
    "eye=np.concatenate((eye,np.arange(20).reshape((4,5)),np.arange(20).reshape((4,5)),np.arange(20).reshape((4,5))),axis=1)\n",
    "print(\"Identity Matrix after concatenation is:\")\n",
    "print(eye)"
   ]
  },
  {
   "cell_type": "markdown",
   "metadata": {},
   "source": [
    "Gives information about array<br>\n",
    "The strides of an array tell us how many bytes we have to skip in memory to move to the next position along a certain axis."
   ]
  },
  {
   "cell_type": "code",
   "execution_count": 17,
   "metadata": {},
   "outputs": [
    {
     "name": "stdout",
     "output_type": "stream",
     "text": [
      "Information is:\n",
      "class:  ndarray\n",
      "shape:  (4, 20)\n",
      "strides:  (160, 8)\n",
      "itemsize:  8\n",
      "aligned:  True\n",
      "contiguous:  True\n",
      "fortran:  False\n",
      "data pointer: 0x21b3ec029d0\n",
      "byteorder:  little\n",
      "byteswap:  False\n",
      "type: float64\n",
      "None\n"
     ]
    }
   ],
   "source": [
    "print(\"Information is:\")\n",
    "print(np.info(eye))"
   ]
  },
  {
   "cell_type": "markdown",
   "metadata": {},
   "source": [
    "For Matrix Multiplication<br>\n",
    "10 * [[1,2]  [[6,7]<br>\n",
    "      [3,4]]  [8,9]]"
   ]
  },
  {
   "cell_type": "code",
   "execution_count": 18,
   "metadata": {},
   "outputs": [
    {
     "name": "stdout",
     "output_type": "stream",
     "text": [
      "Matrix Multiplication is:\n",
      "[[220 250]\n",
      " [500 570]]\n"
     ]
    }
   ],
   "source": [
    "out=10 * np.dot(np.array([[1,2],[3,4]]),np.array([[6,7],[8,9]]))\n",
    "print(\"Matrix Multiplication is:\")\n",
    "print(out)"
   ]
  },
  {
   "cell_type": "markdown",
   "metadata": {},
   "source": [
    "How to make this multiplication work<br>\n",
    "we can use transpose"
   ]
  },
  {
   "cell_type": "code",
   "execution_count": 19,
   "metadata": {},
   "outputs": [
    {
     "name": "stdout",
     "output_type": "stream",
     "text": [
      "Matrix Multiplication is:\n",
      "[[200 460 720]\n",
      " [260 600 940]]\n",
      "152.3975065412817\n",
      "Help on built-in function array in module numpy:\n",
      "\n",
      "array(...)\n",
      "    array(object, dtype=None, *, copy=True, order='K', subok=False, ndmin=0,\n",
      "          like=None)\n",
      "    \n",
      "    Create an array.\n",
      "    \n",
      "    Parameters\n",
      "    ----------\n",
      "    object : array_like\n",
      "        An array, any object exposing the array interface, an object whose\n",
      "        __array__ method returns an array, or any (nested) sequence.\n",
      "    dtype : data-type, optional\n",
      "        The desired data-type for the array.  If not given, then the type will\n",
      "        be determined as the minimum type required to hold the objects in the\n",
      "        sequence.\n",
      "    copy : bool, optional\n",
      "        If true (default), then the object is copied.  Otherwise, a copy will\n",
      "        only be made if __array__ returns a copy, if obj is a nested sequence,\n",
      "        or if a copy is needed to satisfy any of the other requirements\n",
      "        (`dtype`, `order`, etc.).\n",
      "    order : {'K', 'A', 'C', 'F'}, optional\n",
      "        Specify the memory layout of the array. If object is not an array, the\n",
      "        newly created array will be in C order (row major) unless 'F' is\n",
      "        specified, in which case it will be in Fortran order (column major).\n",
      "        If object is an array the following holds.\n",
      "    \n",
      "        ===== ========= ===================================================\n",
      "        order  no copy                     copy=True\n",
      "        ===== ========= ===================================================\n",
      "        'K'   unchanged F & C order preserved, otherwise most similar order\n",
      "        'A'   unchanged F order if input is F and not C, otherwise C order\n",
      "        'C'   C order   C order\n",
      "        'F'   F order   F order\n",
      "        ===== ========= ===================================================\n",
      "    \n",
      "        When ``copy=False`` and a copy is made for other reasons, the result is\n",
      "        the same as if ``copy=True``, with some exceptions for 'A', see the\n",
      "        Notes section. The default order is 'K'.\n",
      "    subok : bool, optional\n",
      "        If True, then sub-classes will be passed-through, otherwise\n",
      "        the returned array will be forced to be a base-class array (default).\n",
      "    ndmin : int, optional\n",
      "        Specifies the minimum number of dimensions that the resulting\n",
      "        array should have.  Ones will be pre-pended to the shape as\n",
      "        needed to meet this requirement.\n",
      "    like : array_like\n",
      "        Reference object to allow the creation of arrays which are not\n",
      "        NumPy arrays. If an array-like passed in as ``like`` supports\n",
      "        the ``__array_function__`` protocol, the result will be defined\n",
      "        by it. In this case, it ensures the creation of an array object\n",
      "        compatible with that passed in via this argument.\n",
      "    \n",
      "        .. versionadded:: 1.20.0\n",
      "    \n",
      "    Returns\n",
      "    -------\n",
      "    out : ndarray\n",
      "        An array object satisfying the specified requirements.\n",
      "    \n",
      "    See Also\n",
      "    --------\n",
      "    empty_like : Return an empty array with shape and type of input.\n",
      "    ones_like : Return an array of ones with shape and type of input.\n",
      "    zeros_like : Return an array of zeros with shape and type of input.\n",
      "    full_like : Return a new array with shape of input filled with value.\n",
      "    empty : Return a new uninitialized array.\n",
      "    ones : Return a new array setting values to one.\n",
      "    zeros : Return a new array setting values to zero.\n",
      "    full : Return a new array of given shape filled with value.\n",
      "    \n",
      "    \n",
      "    Notes\n",
      "    -----\n",
      "    When order is 'A' and `object` is an array in neither 'C' nor 'F' order,\n",
      "    and a copy is forced by a change in dtype, then the order of the result is\n",
      "    not necessarily 'C' as expected. This is likely a bug.\n",
      "    \n",
      "    Examples\n",
      "    --------\n",
      "    >>> np.array([1, 2, 3])\n",
      "    array([1, 2, 3])\n",
      "    \n",
      "    Upcasting:\n",
      "    \n",
      "    >>> np.array([1, 2, 3.0])\n",
      "    array([ 1.,  2.,  3.])\n",
      "    \n",
      "    More than one dimension:\n",
      "    \n",
      "    >>> np.array([[1, 2], [3, 4]])\n",
      "    array([[1, 2],\n",
      "           [3, 4]])\n",
      "    \n",
      "    Minimum dimensions 2:\n",
      "    \n",
      "    >>> np.array([1, 2, 3], ndmin=2)\n",
      "    array([[1, 2, 3]])\n",
      "    \n",
      "    Type provided:\n",
      "    \n",
      "    >>> np.array([1, 2, 3], dtype=complex)\n",
      "    array([ 1.+0.j,  2.+0.j,  3.+0.j])\n",
      "    \n",
      "    Data-type consisting of more than one element:\n",
      "    \n",
      "    >>> x = np.array([(1,2),(3,4)],dtype=[('a','<i4'),('b','<i4')])\n",
      "    >>> x['a']\n",
      "    array([1, 3])\n",
      "    \n",
      "    Creating an array from sub-classes:\n",
      "    \n",
      "    >>> np.array(np.mat('1 2; 3 4'))\n",
      "    array([[1, 2],\n",
      "           [3, 4]])\n",
      "    \n",
      "    >>> np.array(np.mat('1 2; 3 4'), subok=True)\n",
      "    matrix([[1, 2],\n",
      "            [3, 4]])\n",
      "\n",
      "[[220. 250.]\n",
      " [500. 570.]]\n"
     ]
    }
   ],
   "source": [
    "out1=10 * np.dot(np.array([[6,7],[8,9]]),np.array([[1,2],[3,4],[5,6]]).T)\n",
    "print(\"Matrix Multiplication is:\")\n",
    "print(out1)\n",
    "print(np.std(out))\n",
    "# To get information about a function\n",
    "help(np.array)\n",
    "# To save data\n",
    "np.savetxt(\"data.txt\",out,delimiter=\",\")\n",
    "out1=np.loadtxt(\"data.txt\",delimiter=',')\n",
    "print(out1)"
   ]
  },
  {
   "cell_type": "code",
   "execution_count": 20,
   "metadata": {},
   "outputs": [
    {
     "name": "stdout",
     "output_type": "stream",
     "text": [
      "[0.27899717 0.43547113 0.21874408 0.52215446 0.97774112 0.47466369\n",
      " 0.71565226 0.77914533 0.11393341 0.44680394]\n",
      "[18 13 12  7 15 19 11  7 12  8]\n"
     ]
    },
    {
     "data": {
      "text/plain": [
       "'\\nAsk the user to enter a number:5\\n1 2 3 4 5\\n5 6 7 8 9\\n2 4 6 8 9\\n1 2 3 4 5\\n5 6 7 8 9\\n(5,5)\\n'"
      ]
     },
     "execution_count": 20,
     "metadata": {},
     "output_type": "execute_result"
    }
   ],
   "source": [
    "random_arr=np.random.random(10)\n",
    "print(random_arr)\n",
    "print(np.random.randint(5,20,10))\n",
    "'''\n",
    "Ask the user to enter a number:5\n",
    "1 2 3 4 5\n",
    "5 6 7 8 9\n",
    "2 4 6 8 9\n",
    "1 2 3 4 5\n",
    "5 6 7 8 9\n",
    "(5,5)\n",
    "'''"
   ]
  },
  {
   "cell_type": "markdown",
   "metadata": {},
   "source": [
    "Directly taking input without specifying condition"
   ]
  },
  {
   "cell_type": "code",
   "execution_count": 21,
   "metadata": {},
   "outputs": [
    {
     "name": "stdout",
     "output_type": "stream",
     "text": [
      "Enter number of rows and columns: 5\n",
      "1 2 3 4 5\n",
      "5 6 4 7 8\n",
      "4 5 6 8 9\n",
      "4 1 2 3 5\n",
      "1 5 2 7 8\n",
      "Array is:\n",
      "[[1 2 3 4 5]\n",
      " [5 6 4 7 8]\n",
      " [4 5 6 8 9]\n",
      " [4 1 2 3 5]\n",
      " [1 5 2 7 8]]\n",
      "Shape of Array is: (5, 5)\n"
     ]
    }
   ],
   "source": [
    "array=[]\n",
    "for x in range(int(input(\"Enter number of rows and columns: \"))):\n",
    "    out=[int(j) for j in input().split()]\n",
    "    array.append(out)\n",
    "else:\n",
    "    array=np.array(array)\n",
    "    print(\"Array is:\")\n",
    "    print(array)\n",
    "    print(\"Shape of Array is:\",array.shape)"
   ]
  },
  {
   "cell_type": "markdown",
   "metadata": {},
   "source": [
    "Directly taking input specifying condition for no of elements as input in rows"
   ]
  },
  {
   "cell_type": "code",
   "execution_count": 22,
   "metadata": {},
   "outputs": [
    {
     "name": "stdout",
     "output_type": "stream",
     "text": [
      "Enter number of rows and columns:5\n",
      "1 2 3 4 5\n",
      "5 6 8 9 7\n",
      "4 5 6 5 8\n",
      "1 4 5 2 3\n",
      "4 5 8 7 9\n",
      "Array is:\n",
      "[[1 2 3 4 5]\n",
      " [5 6 8 9 7]\n",
      " [4 5 6 5 8]\n",
      " [1 4 5 2 3]\n",
      " [4 5 8 7 9]]\n",
      "Shape of Array is: (5, 5)\n"
     ]
    }
   ],
   "source": [
    "array=[]\n",
    "for x in range(int(input(\"Enter number of rows and columns:\"))):\n",
    "    out=[int(j) for j in input().split()][:5]\n",
    "    if len(out)<5:\n",
    "        print(\"Enter 5 values: \")\n",
    "        out = [int(j) for j in input().split()][:5]\n",
    "    array.append(out)\n",
    "else:\n",
    "    array=np.array(array)\n",
    "    print(\"Array is:\")\n",
    "    print(array)\n",
    "    print(\"Shape of Array is:\", array.shape)"
   ]
  }
 ],
 "metadata": {
  "kernelspec": {
   "display_name": "Python 3 (ipykernel)",
   "language": "python",
   "name": "python3"
  },
  "language_info": {
   "codemirror_mode": {
    "name": "ipython",
    "version": 3
   },
   "file_extension": ".py",
   "mimetype": "text/x-python",
   "name": "python",
   "nbconvert_exporter": "python",
   "pygments_lexer": "ipython3",
   "version": "3.9.12"
  }
 },
 "nbformat": 4,
 "nbformat_minor": 2
}
